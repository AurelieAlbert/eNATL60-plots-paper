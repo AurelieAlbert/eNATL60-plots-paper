{
 "cells": [
  {
   "cell_type": "code",
   "execution_count": 1,
   "metadata": {},
   "outputs": [],
   "source": [
    "import sys\n",
    "import numpy as np\n",
    "import xarray as xr\n",
    "import dask.array as da\n",
    "import numpy.ma as ma\n",
    "from netCDF4 import Dataset\n",
    "\n",
    "import matplotlib\n",
    "import matplotlib.pyplot as plt\n",
    "import matplotlib.cm as mplcm\n",
    "\n",
    "import cartopy.crs as ccrs\n",
    "import matplotlib.ticker as mticker\n",
    "\n",
    "import cartopy\n",
    "\n",
    "from decimal import Decimal\n",
    "\n",
    "%matplotlib inline"
   ]
  },
  {
   "cell_type": "code",
   "execution_count": 2,
   "metadata": {},
   "outputs": [],
   "source": [
    "from dask_jobqueue import PBSCluster\n",
    "from dask.distributed import Client\n",
    "import dask.dataframe as dd\n",
    "import dask\n"
   ]
  },
  {
   "cell_type": "code",
   "execution_count": 3,
   "metadata": {},
   "outputs": [
    {
     "data": {
      "application/vnd.jupyter.widget-view+json": {
       "model_id": "e89f183d479b452ba2416e3751ff1626",
       "version_major": 2,
       "version_minor": 0
      },
      "text/plain": [
       "VBox(children=(HTML(value='<h2>PBSCluster</h2>'), HBox(children=(HTML(value='\\n<div>\\n  <style scoped>\\n    .d…"
      ]
     },
     "metadata": {},
     "output_type": "display_data"
    }
   ],
   "source": [
    "cluster = PBSCluster(\n",
    "    cores=1,\n",
    "    memory=\"120GB\",\n",
    "    project='pangeo',\n",
    "    processes=1,\n",
    "    walltime='00:30:00',\n",
    "    local_directory='$TMPDIR')\n",
    "cluster"
   ]
  },
  {
   "cell_type": "code",
   "execution_count": 4,
   "metadata": {},
   "outputs": [],
   "source": [
    "cluster.scale(20)"
   ]
  },
  {
   "cell_type": "code",
   "execution_count": 5,
   "metadata": {},
   "outputs": [
    {
     "data": {
      "text/html": [
       "<table style=\"border: 2px solid white;\">\n",
       "<tr>\n",
       "<td style=\"vertical-align: top; border: 0px solid white\">\n",
       "<h3 style=\"text-align: left;\">Client</h3>\n",
       "<ul style=\"text-align: left; list-style: none; margin: 0; padding: 0;\">\n",
       "  <li><b>Scheduler: </b>tcp://10.120.40.134:42814</li>\n",
       "  <li><b>Dashboard: </b><a href='http://10.120.40.134:8787/status' target='_blank'>http://10.120.40.134:8787/status</a>\n",
       "</ul>\n",
       "</td>\n",
       "<td style=\"vertical-align: top; border: 0px solid white\">\n",
       "<h3 style=\"text-align: left;\">Cluster</h3>\n",
       "<ul style=\"text-align: left; list-style:none; margin: 0; padding: 0;\">\n",
       "  <li><b>Workers: </b>0</li>\n",
       "  <li><b>Cores: </b>0</li>\n",
       "  <li><b>Memory: </b>0 B</li>\n",
       "</ul>\n",
       "</td>\n",
       "</tr>\n",
       "</table>"
      ],
      "text/plain": [
       "<Client: scheduler='tcp://10.120.40.134:42814' processes=0 cores=0>"
      ]
     },
     "execution_count": 5,
     "metadata": {},
     "output_type": "execute_result"
    }
   ],
   "source": [
    "client = Client(cluster) # scheduler_file=\"/home/ad/briolf/scheduler.json\")\n",
    "client"
   ]
  },
  {
   "cell_type": "code",
   "execution_count": 6,
   "metadata": {},
   "outputs": [
    {
     "name": "stdout",
     "output_type": "stream",
     "text": [
      "15\n"
     ]
    }
   ],
   "source": [
    "!qstat -u albert7a\n",
    "\n",
    "import time\n",
    "nb_workers = 0\n",
    "while True:\n",
    "    nb_workers = len(client.scheduler_info()[\"workers\"])\n",
    "    if nb_workers >= 10:\n",
    "        break\n",
    "    time.sleep(1)\n",
    "print(nb_workers)"
   ]
  },
  {
   "cell_type": "code",
   "execution_count": 7,
   "metadata": {},
   "outputs": [],
   "source": [
    "ds_amp=xr.open_dataset('/work/ALT/odatis/eNATL60/outputs/pytide/eNATL60-BLBT02_tidal_amp_y2009m07-y2010m06.nc',chunks={'X':1000,'Y':1000})\n",
    "ds_phase=xr.open_dataset('/work/ALT/odatis/eNATL60/outputs/pytide/eNATL60-BLBT02_tidal_phase_y2009m07-y2010m06.nc',chunks={'X':1000,'Y':1000})    "
   ]
  },
  {
   "cell_type": "code",
   "execution_count": 8,
   "metadata": {},
   "outputs": [],
   "source": [
    "ds_grid=xr.open_dataset('/work/ALT/odatis/eNATL60/mesh_mask_eNATL60_3.6_lev1.nc4',chunks={'x':1000,'y':1000})"
   ]
  },
  {
   "cell_type": "code",
   "execution_count": 9,
   "metadata": {},
   "outputs": [],
   "source": [
    "navlat=ds_grid.nav_lat\n",
    "navlon=ds_grid.nav_lon\n",
    "tmask=ds_grid.tmask[0]"
   ]
  },
  {
   "cell_type": "code",
   "execution_count": null,
   "metadata": {},
   "outputs": [],
   "source": [
    "indfreq={'M2':0,'S2':1,'N2':2,'O1':3,'K1':4}"
   ]
  },
  {
   "cell_type": "code",
   "execution_count": null,
   "metadata": {},
   "outputs": [],
   "source": [
    "def plot_amp_phase_one_freq(freq):\n",
    "    amp=ds_amp['tidal-amp'][indfreq[freq]]\n",
    "    amp_mask=ma.masked_where(tmask==0.,amp)\n",
    "    ph=(180/np.pi)*ds_phase['tidal-phase'][indfreq[freq]]\n",
    "    ph360=da.where(ph<0,ph+360,ph)\n",
    "    ph360_mask=ma.masked_where(tmask==0.,ph360)    \n",
    "    cmap=plt.get_cmap('rainbow')\n",
    "    matplotlib.rcParams['contour.negative_linestyle']= 'solid'\n",
    "    matplotlib.rcParams['lines.linewidth']= 2\n",
    "\n",
    "    fig=plt.figure(figsize=(21,40))\n",
    "    pj= ccrs.PlateCarree()\n",
    "    ax=plt.subplot(1,1,1,projection=pj)\n",
    "\n",
    "    #ax.coastlines(resolution=\"10m\")\n",
    "    ax.set_extent([-100,50,0,60])\n",
    "\n",
    "    gl = ax.gridlines(crs=pj, draw_labels=True, linewidth=1, color='black', alpha=0.2, linestyle='--')\n",
    "    label_style= {'size' : 12, 'color' : 'black'}\n",
    "    gl.xlabel_style = label_style\n",
    "    gl.xlabels_top = False\n",
    "    gl.xlocator = mticker.FixedLocator(np.arange(-110,100,20,dtype=float))\n",
    "    gl.ylabel_style = label_style\n",
    "    gl.ylabels_right = False\n",
    "    gl.ylocator = mticker.FixedLocator(np.arange(-20,90,10,dtype=float))\n",
    "    cs = plt.pcolormesh(navlon,navlat,amp_mask,transform=ccrs.PlateCarree(),cmap=cmap,vmin=0,vmax=2)\n",
    "    plt.contour(navlon,navlat,ph360_mask,[30,60,90,120,150,180,210,240,270,300,330],cmap=plt.get_cmap('tab20b'),linestyle='solid',linewidths=1,transform=ccrs.PlateCarree())\n",
    "    plt.title(str(freq) +'eNATL60')\n",
    "    cbar = plt.colorbar(cs,orientation='horizontal',shrink=0.75,label='m')\n",
    "    "
   ]
  },
  {
   "cell_type": "code",
   "execution_count": null,
   "metadata": {},
   "outputs": [],
   "source": []
  }
 ],
 "metadata": {
  "kernelspec": {
   "display_name": "Python 2",
   "language": "python",
   "name": "python2"
  },
  "language_info": {
   "codemirror_mode": {
    "name": "ipython",
    "version": 2
   },
   "file_extension": ".py",
   "mimetype": "text/x-python",
   "name": "python",
   "nbconvert_exporter": "python",
   "pygments_lexer": "ipython2",
   "version": "2.7.16"
  }
 },
 "nbformat": 4,
 "nbformat_minor": 4
}
