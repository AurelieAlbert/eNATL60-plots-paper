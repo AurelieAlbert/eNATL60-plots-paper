{
 "cells": [
  {
   "cell_type": "code",
   "execution_count": null,
   "metadata": {},
   "outputs": [],
   "source": [
    "\n",
    "import sys\n",
    "import numpy as np\n",
    "import xarray as xr\n",
    "import dask.array as da\n",
    "import numpy.ma as ma\n",
    "from netCDF4 import Dataset\n",
    "\n",
    "import matplotlib\n",
    "import matplotlib.pyplot as plt\n",
    "import matplotlib.cm as mplcm\n",
    "\n",
    "import cartopy.crs as ccrs\n",
    "import matplotlib.ticker as mticker\n",
    "\n",
    "import cartopy\n",
    "import cmocean\n",
    "\n",
    "from decimal import Decimal\n",
    "\n",
    "%matplotlib inline\n"
   ]
  },
  {
   "cell_type": "code",
   "execution_count": null,
   "metadata": {},
   "outputs": [],
   "source": [
    "matplotlib.rcParams['figure.figsize']= (20, 8)\n",
    "matplotlib.rcParams['xtick.labelsize']= 22\n",
    "matplotlib.rcParams['ytick.labelsize']= 22\n",
    "matplotlib.rcParams['axes.labelsize']= 22\n",
    "matplotlib.rcParams.update({'font.size': 22})\n",
    "\n"
   ]
  },
  {
   "cell_type": "code",
   "execution_count": null,
   "metadata": {},
   "outputs": [],
   "source": [
    "ds=xr.open_dataset('/scratch/cnt0024/hmg2840/albert7a/eNATL60/eNATL60-BLBT02-S/1h/tide/res_harm_ssh_0-360.nc',chunks={'x':1000,'y':1000})\n",
    "   "
   ]
  },
  {
   "cell_type": "code",
   "execution_count": null,
   "metadata": {},
   "outputs": [],
   "source": [
    "ds_grid=xr.open_dataset('/store/CT1/hmg2840/lbrodeau/eNATL60/eNATL60-I/mesh_mask_eNATL60_3.6_lev1.nc4',chunks={'x':1000,'y':1000})"
   ]
  },
  {
   "cell_type": "code",
   "execution_count": null,
   "metadata": {},
   "outputs": [],
   "source": [
    "navlat=ds_grid.nav_lat\n",
    "navlon=ds_grid.nav_lon\n",
    "tmask=ds_grid.tmask[0]"
   ]
  },
  {
   "cell_type": "code",
   "execution_count": null,
   "metadata": {},
   "outputs": [],
   "source": [
    "def plot_amp_phase_one_freq(freq):\n",
    "    amp=ds[str(freq)+'_A']\n",
    "    amp_mask=ma.masked_where(tmask==0.,amp)\n",
    "    ph=(180/np.pi)*ds[str(freq)+'_G']\n",
    "    ph360=da.where(ph<0,ph+360,ph)\n",
    "    ph360_mask=ma.masked_where(tmask==0.,ph360)    \n",
    "    cmap=plt.get_cmap('rainbow')\n",
    "    matplotlib.rcParams['contour.negative_linestyle']= 'solid'\n",
    "    matplotlib.rcParams['lines.linewidth']= 2\n",
    "\n",
    "    fig=plt.figure(figsize=(21,18))\n",
    "    pj= ccrs.PlateCarree()\n",
    "    ax=plt.subplot(1,1,1,projection=pj)\n",
    "\n",
    "    ax.coastlines(resolution=\"10m\")\n",
    "    ax.set_extent([-100,50,0,60])\n",
    "\n",
    "    gl = ax.gridlines(crs=pj, draw_labels=True, linewidth=1, color='black', alpha=0.2, linestyle='--')\n",
    "    label_style= {'size' : 20, 'color' : 'black'}\n",
    "    gl.xlabel_style = label_style\n",
    "    gl.xlabels_top = False\n",
    "    gl.xlocator = mticker.FixedLocator(np.arange(-110,100,20,dtype=float))\n",
    "    gl.ylabels_right = False\n",
    "    gl.xlabel_style = label_style\n",
    "    gl.ylocator = mticker.FixedLocator(np.arange(-20,90,10,dtype=float))\n",
    "    cs = plt.pcolormesh(navlon,navlat,amp_mask,transform=ccrs.PlateCarree(),cmap=cmap,vmin=0,vmax=2)\n",
    "    plt.contour(navlon,navlat,ph360_mask,[30,60,90,120,150,180,210,240,270,300,330],cmap=plt.get_cmap('tab20b'),linestyle='solid',linewidths=1,transform=ccrs.PlateCarree())\n",
    "    plt.title(str(freq) +'eNATL60')\n",
    "    cbar = plt.colorbar(cs,orientation='horizontal',shrink=0.75,label='m')\n",
    "    plt.savefig('maps_amp_phi_'+str(freq)+'_eNATL60_tidal-tools.png')\n",
    "    "
   ]
  }
 ],
 "metadata": {
  "kernelspec": {
   "display_name": "pangeo_cloud",
   "language": "python",
   "name": "pangeo-cloud"
  },
  "language_info": {
   "codemirror_mode": {
    "name": "ipython",
    "version": 3
   },
   "file_extension": ".py",
   "mimetype": "text/x-python",
   "name": "python",
   "nbconvert_exporter": "python",
   "pygments_lexer": "ipython3",
   "version": "3.6.7"
  }
 },
 "nbformat": 4,
 "nbformat_minor": 2
}
