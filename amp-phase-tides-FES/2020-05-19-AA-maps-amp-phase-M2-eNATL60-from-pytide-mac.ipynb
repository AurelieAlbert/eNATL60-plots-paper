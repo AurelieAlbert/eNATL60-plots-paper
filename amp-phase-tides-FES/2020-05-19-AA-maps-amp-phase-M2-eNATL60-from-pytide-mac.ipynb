{
 "cells": [
  {
   "cell_type": "code",
   "execution_count": 22,
   "metadata": {},
   "outputs": [
    {
     "name": "stdout",
     "output_type": "stream",
     "text": [
      "The history saving thread hit an unexpected error (OperationalError('unable to open database file',)).History will not be written to the database."
     ]
    },
    {
     "name": "stderr",
     "output_type": "stream",
     "text": [
      "Exception in thread IPythonHistorySavingThread:\n",
      "Traceback (most recent call last):\n",
      "  File \"/Users/auraoupa/anaconda2/envs/pangeo-cloud/lib/python3.6/site-packages/IPython/core/history.py\", line 834, in run\n",
      "  File \"</Users/auraoupa/anaconda2/envs/pangeo-cloud/lib/python3.6/site-packages/decorator.py:decorator-gen-23>\", line 2, in writeout_cache\n",
      "  File \"/Users/auraoupa/anaconda2/envs/pangeo-cloud/lib/python3.6/site-packages/IPython/core/history.py\", line 58, in needs_sqlite\n",
      "  File \"/Users/auraoupa/anaconda2/envs/pangeo-cloud/lib/python3.6/site-packages/IPython/core/history.py\", line 780, in writeout_cache\n",
      "  File \"/Users/auraoupa/anaconda2/envs/pangeo-cloud/lib/python3.6/site-packages/IPython/core/history.py\", line 764, in _writeout_input_cache\n",
      "sqlite3.OperationalError: unable to open database file\n",
      "\n",
      "During handling of the above exception, another exception occurred:\n",
      "\n",
      "Traceback (most recent call last):\n",
      "  File \"/Users/auraoupa/anaconda2/envs/pangeo-cloud/lib/python3.6/site-packages/ipykernel/iostream.py\", line 97, in _event_pipe\n",
      "    event_pipe = self._local.event_pipe\n",
      "AttributeError: '_thread._local' object has no attribute 'event_pipe'\n",
      "\n",
      "During handling of the above exception, another exception occurred:\n",
      "\n",
      "Traceback (most recent call last):\n",
      "  File \"/Users/auraoupa/anaconda2/envs/pangeo-cloud/lib/python3.6/threading.py\", line 916, in _bootstrap_inner\n",
      "    self.run()\n",
      "  File \"</Users/auraoupa/anaconda2/envs/pangeo-cloud/lib/python3.6/site-packages/decorator.py:decorator-gen-24>\", line 2, in run\n",
      "  File \"/Users/auraoupa/anaconda2/envs/pangeo-cloud/lib/python3.6/site-packages/IPython/core/history.py\", line 58, in needs_sqlite\n",
      "  File \"/Users/auraoupa/anaconda2/envs/pangeo-cloud/lib/python3.6/site-packages/IPython/core/history.py\", line 837, in run\n",
      "  File \"/Users/auraoupa/anaconda2/envs/pangeo-cloud/lib/python3.6/site-packages/ipykernel/iostream.py\", line 400, in write\n",
      "    self.pub_thread.schedule(lambda : self._buffer.write(string))\n",
      "  File \"/Users/auraoupa/anaconda2/envs/pangeo-cloud/lib/python3.6/site-packages/ipykernel/iostream.py\", line 203, in schedule\n",
      "    self._event_pipe.send(b'')\n",
      "  File \"/Users/auraoupa/anaconda2/envs/pangeo-cloud/lib/python3.6/site-packages/ipykernel/iostream.py\", line 101, in _event_pipe\n",
      "    event_pipe = ctx.socket(zmq.PUSH)\n",
      "  File \"/Users/auraoupa/anaconda2/envs/pangeo-cloud/lib/python3.6/site-packages/zmq/sugar/context.py\", line 146, in socket\n",
      "  File \"/Users/auraoupa/anaconda2/envs/pangeo-cloud/lib/python3.6/site-packages/zmq/sugar/socket.py\", line 59, in __init__\n",
      "    super(Socket, self).__init__(*a, **kw)\n",
      "  File \"zmq/backend/cython/socket.pyx\", line 328, in zmq.backend.cython.socket.Socket.__init__\n",
      "zmq.error.ZMQError: Too many open files\n",
      "Unhandled exception in thread started by <bound method Thread._bootstrap of <HistorySavingThread(IPythonHistorySavingThread, started 123145561018368)>>\n"
     ]
    }
   ],
   "source": [
    "import sys\n",
    "import numpy as np\n",
    "import xarray as xr\n",
    "import dask.array as da\n",
    "import numpy.ma as ma\n",
    "from netCDF4 import Dataset\n",
    "\n",
    "import matplotlib\n",
    "import matplotlib.pyplot as plt\n",
    "import matplotlib.cm as mplcm\n",
    "\n",
    "import cartopy.crs as ccrs\n",
    "import matplotlib.ticker as mticker\n",
    "\n",
    "import cartopy\n",
    "cartopy.config['pre_existing_data_dir'] = '/scratch/cnt0024/hmg2840/albert7a/DEV/git/cartopy_data'\n",
    "import cmocean\n",
    "\n",
    "from decimal import Decimal\n",
    "\n",
    "%matplotlib inline"
   ]
  },
  {
   "cell_type": "code",
   "execution_count": 23,
   "metadata": {},
   "outputs": [
    {
     "name": "stderr",
     "output_type": "stream",
     "text": [
      "ERROR:root:Internal Python error in the inspect module.\n",
      "Below is the traceback from this internal error.\n",
      "\n"
     ]
    },
    {
     "name": "stdout",
     "output_type": "stream",
     "text": [
      "Traceback (most recent call last):\n",
      "  File \"/Users/auraoupa/anaconda2/envs/pangeo-cloud/lib/python3.6/site-packages/IPython/core/interactiveshell.py\", line 3296, in run_code\n",
      "    exec(code_obj, self.user_global_ns, self.user_ns)\n",
      "  File \"<ipython-input-23-9b1b7c685c87>\", line 6, in <module>\n",
      "    c = Client()\n",
      "  File \"/Users/auraoupa/anaconda2/envs/pangeo-cloud/lib/python3.6/site-packages/distributed/client.py\", line 664, in __init__\n",
      "    self._loop_runner = LoopRunner(loop=loop, asynchronous=asynchronous)\n",
      "  File \"/Users/auraoupa/anaconda2/envs/pangeo-cloud/lib/python3.6/site-packages/distributed/utils.py\", line 365, in __init__\n",
      "    self._loop = IOLoop()\n",
      "  File \"/Users/auraoupa/anaconda2/envs/pangeo-cloud/lib/python3.6/site-packages/tornado/util.py\", line 286, in __new__\n",
      "  File \"/Users/auraoupa/anaconda2/envs/pangeo-cloud/lib/python3.6/site-packages/tornado/platform/asyncio.py\", line 253, in initialize\n",
      "    loop = asyncio.new_event_loop()\n",
      "  File \"/Users/auraoupa/anaconda2/envs/pangeo-cloud/lib/python3.6/asyncio/events.py\", line 704, in new_event_loop\n",
      "    return get_event_loop_policy().new_event_loop()\n",
      "  File \"/Users/auraoupa/anaconda2/envs/pangeo-cloud/lib/python3.6/asyncio/events.py\", line 617, in new_event_loop\n",
      "    return self._loop_factory()\n",
      "  File \"/Users/auraoupa/anaconda2/envs/pangeo-cloud/lib/python3.6/asyncio/unix_events.py\", line 56, in __init__\n",
      "  File \"/Users/auraoupa/anaconda2/envs/pangeo-cloud/lib/python3.6/asyncio/selector_events.py\", line 64, in __init__\n",
      "    selector = selectors.DefaultSelector()\n",
      "  File \"/Users/auraoupa/anaconda2/envs/pangeo-cloud/lib/python3.6/selectors.py\", line 530, in __init__\n",
      "OSError: [Errno 24] Too many open files\n",
      "\n",
      "During handling of the above exception, another exception occurred:\n",
      "\n",
      "Traceback (most recent call last):\n",
      "  File \"/Users/auraoupa/anaconda2/envs/pangeo-cloud/lib/python3.6/site-packages/IPython/core/interactiveshell.py\", line 2033, in showtraceback\n",
      "    stb = value._render_traceback_()\n",
      "AttributeError: 'OSError' object has no attribute '_render_traceback_'\n",
      "\n",
      "During handling of the above exception, another exception occurred:\n",
      "\n",
      "Traceback (most recent call last):\n",
      "  File \"/Users/auraoupa/anaconda2/envs/pangeo-cloud/lib/python3.6/site-packages/IPython/core/ultratb.py\", line 1095, in get_records\n",
      "  File \"/Users/auraoupa/anaconda2/envs/pangeo-cloud/lib/python3.6/site-packages/IPython/core/ultratb.py\", line 313, in wrapped\n",
      "  File \"/Users/auraoupa/anaconda2/envs/pangeo-cloud/lib/python3.6/site-packages/IPython/core/ultratb.py\", line 347, in _fixed_getinnerframes\n",
      "  File \"/Users/auraoupa/anaconda2/envs/pangeo-cloud/lib/python3.6/inspect.py\", line 1488, in getinnerframes\n",
      "  File \"/Users/auraoupa/anaconda2/envs/pangeo-cloud/lib/python3.6/inspect.py\", line 1446, in getframeinfo\n",
      "  File \"/Users/auraoupa/anaconda2/envs/pangeo-cloud/lib/python3.6/inspect.py\", line 696, in getsourcefile\n",
      "  File \"/Users/auraoupa/anaconda2/envs/pangeo-cloud/lib/python3.6/inspect.py\", line 725, in getmodule\n",
      "  File \"/Users/auraoupa/anaconda2/envs/pangeo-cloud/lib/python3.6/inspect.py\", line 709, in getabsfile\n",
      "  File \"/Users/auraoupa/anaconda2/envs/pangeo-cloud/lib/python3.6/posixpath.py\", line 376, in abspath\n",
      "OSError: [Errno 24] Too many open files\n"
     ]
    },
    {
     "ename": "OSError",
     "evalue": "[Errno 24] Too many open files",
     "output_type": "error",
     "traceback": [
      "\u001b[0;31m-------------------------------------------------------\u001b[0m"
     ]
    }
   ],
   "source": [
    "import dask\n",
    "import dask.threaded\n",
    "import dask.multiprocessing\n",
    "from dask.distributed import Client\n",
    "\n",
    "c = Client()\n",
    "c"
   ]
  },
  {
   "cell_type": "code",
   "execution_count": null,
   "metadata": {},
   "outputs": [],
   "source": [
    "ds_amp=xr.open_dataset('/Users/auraoupa/Data/eNATL60/eNATL60-BLBT02_tidal_amp_y2009m07-y2010m06.nc',chunks={'X':1000,'Y':1000})\n",
    "#ds_phase=xr.open_dataset('/Users/auraoupa/Data/eNATL60/eNATL60-BLBT02_tidal_phase_y2009m07-y2010m06.nc',chunks={'X':3000,'Y':2000})    "
   ]
  },
  {
   "cell_type": "code",
   "execution_count": null,
   "metadata": {},
   "outputs": [],
   "source": [
    "ds_grid=xr.open_dataset('/Users/auraoupa/Data/eNATL60/eNATL60-I/mesh_mask_eNATL60_3.6.nc',chunks={'x':1000,'y':1000})"
   ]
  },
  {
   "cell_type": "code",
   "execution_count": null,
   "metadata": {},
   "outputs": [],
   "source": [
    "tmask=ds_grid.tmaskutil"
   ]
  },
  {
   "cell_type": "code",
   "execution_count": null,
   "metadata": {},
   "outputs": [],
   "source": [
    "navlat=ds_grid.nav_lat\n",
    "navlon=ds_grid.nav_lon"
   ]
  },
  {
   "cell_type": "code",
   "execution_count": null,
   "metadata": {},
   "outputs": [],
   "source": [
    "navlat"
   ]
  },
  {
   "cell_type": "code",
   "execution_count": null,
   "metadata": {},
   "outputs": [],
   "source": [
    "amp=ds_amp['tidal-amp']\n",
    "#ph=(180/np.pi)*ds_phase['tidal-phase']\n",
    "#ph360=da.where(ph<0,ph+360,ph)"
   ]
  },
  {
   "cell_type": "code",
   "execution_count": null,
   "metadata": {},
   "outputs": [],
   "source": [
    "cmap=plt.get_cmap('rainbow')\n",
    "matplotlib.rcParams['contour.negative_linestyle']= 'solid'\n",
    "matplotlib.rcParams['lines.linewidth']= 2\n",
    "\n",
    "fig=plt.figure(figsize=(21,40))\n",
    "pj= ccrs.PlateCarree()\n",
    "ax=plt.subplot(1,1,1,projection=pj)\n",
    "\n",
    "ax.coastlines(resolution=\"10m\")\n",
    "ax.set_extent([-100,50,0,60])\n",
    "\n",
    "gl = ax.gridlines(crs=pj, draw_labels=True, linewidth=1, color='black', alpha=0.2, linestyle='--')\n",
    "label_style= {'size' : 12, 'color' : 'black'}\n",
    "gl.xlabel_style = label_style\n",
    "gl.xlabels_top = False\n",
    "gl.xlocator = mticker.FixedLocator(np.arange(-110,100,20,dtype=float))\n",
    "gl.ylabel_style = label_style\n",
    "gl.ylabels_right = False\n",
    "gl.ylocator = mticker.FixedLocator(np.arange(-20,90,10,dtype=float))\n",
    "cs = plt.pcolormesh(navlon,navlat,amp[0]*tmask,transform=ccrs.PlateCarree(),cmap=cmap,vmin=0,vmax=2)\n",
    "#plt.contour(navlon,navlat,ph360[0],[30,60,90,120,150,180,210,240,270,300,330],cmap=cmocean.cm.phase,linestyle='solid',linewidths=1,transform=ccrs.PlateCarree())\n",
    "plt.title('M2 eNATL60')\n",
    "cbar = plt.colorbar(cs,orientation='horizontal',shrink=0.75,label='m')\n"
   ]
  },
  {
   "cell_type": "code",
   "execution_count": null,
   "metadata": {},
   "outputs": [],
   "source": []
  }
 ],
 "metadata": {
  "kernelspec": {
   "display_name": "pangeo_cloud",
   "language": "python",
   "name": "pangeo-cloud"
  },
  "language_info": {
   "codemirror_mode": {
    "name": "ipython",
    "version": 3
   },
   "file_extension": ".py",
   "mimetype": "text/x-python",
   "name": "python",
   "nbconvert_exporter": "python",
   "pygments_lexer": "ipython3",
   "version": "3.6.7"
  }
 },
 "nbformat": 4,
 "nbformat_minor": 2
}
