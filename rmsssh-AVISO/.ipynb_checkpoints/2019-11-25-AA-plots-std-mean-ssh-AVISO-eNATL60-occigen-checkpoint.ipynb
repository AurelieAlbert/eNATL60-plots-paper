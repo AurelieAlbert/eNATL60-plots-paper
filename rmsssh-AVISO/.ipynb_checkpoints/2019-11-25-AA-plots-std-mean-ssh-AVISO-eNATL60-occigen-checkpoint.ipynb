{
 "cells": [
  {
   "cell_type": "markdown",
   "metadata": {},
   "source": [
    "# Maps of RMSSSH"
   ]
  },
  {
   "cell_type": "code",
   "execution_count": 15,
   "metadata": {},
   "outputs": [
    {
     "data": {
      "text/html": [
       "<table style=\"border: 2px solid white;\">\n",
       "<tr>\n",
       "<td style=\"vertical-align: top; border: 0px solid white\">\n",
       "<h3>Client</h3>\n",
       "<ul>\n",
       "  <li><b>Scheduler: </b>tcp://127.0.0.1:44577\n",
       "  <li><b>Dashboard: </b><a href='http://127.0.0.1:36242/status' target='_blank'>http://127.0.0.1:36242/status</a>\n",
       "</ul>\n",
       "</td>\n",
       "<td style=\"vertical-align: top; border: 0px solid white\">\n",
       "<h3>Cluster</h3>\n",
       "<ul>\n",
       "  <li><b>Workers: </b>8</li>\n",
       "  <li><b>Cores: </b>48</li>\n",
       "  <li><b>Memory: </b>134.91 GB</li>\n",
       "</ul>\n",
       "</td>\n",
       "</tr>\n",
       "</table>"
      ],
      "text/plain": [
       "<Client: scheduler='tcp://127.0.0.1:44577' processes=8 cores=48>"
      ]
     },
     "execution_count": 15,
     "metadata": {},
     "output_type": "execute_result"
    }
   ],
   "source": [
    "import dask\n",
    "import dask.threaded\n",
    "import dask.multiprocessing\n",
    "from dask.distributed import Client\n",
    "\n",
    "c = Client()\n",
    "c"
   ]
  },
  {
   "cell_type": "markdown",
   "metadata": {},
   "source": [
    "## 0. Modules and libraries"
   ]
  },
  {
   "cell_type": "code",
   "execution_count": 21,
   "metadata": {},
   "outputs": [],
   "source": [
    "import warnings\n",
    "warnings.filterwarnings(\"ignore\")\n",
    "import os \n",
    "import time \n",
    "import glob\n",
    "\n",
    "\n",
    "import numpy as np\n",
    "import xarray as xr\n",
    "import time\n",
    "\n",
    "import numpy.ma as ma\n",
    "\n",
    "import matplotlib.cm as mplcm\n",
    "import matplotlib.pyplot as plt\n",
    "\n",
    "import cartopy.crs as ccrs\n",
    "import matplotlib.ticker as mticker\n",
    "from cartopy.mpl.gridliner import LONGITUDE_FORMATTER, LATITUDE_FORMATTER\n",
    "import cartopy.feature as cfeature\n",
    "\n",
    "%matplotlib inline\n"
   ]
  },
  {
   "cell_type": "markdown",
   "metadata": {},
   "source": [
    "## 1. Data "
   ]
  },
  {
   "cell_type": "markdown",
   "metadata": {},
   "source": [
    "### eNATL60"
   ]
  },
  {
   "cell_type": "code",
   "execution_count": 17,
   "metadata": {},
   "outputs": [],
   "source": [
    "ssh_std_eNATL60=xr.open_dataset('/scratch/cnt0024/hmg2840/albert7a/eNATL60/eNATL60-BLBT02-S/1h/SSH-MEAN-STD/eNATL60-BLBT02_std-ssh_1d.nc',chunks={'x':500,'y':500})\n",
    "ssh_mean_eNATL60=xr.open_dataset('/scratch/cnt0024/hmg2840/albert7a/eNATL60/eNATL60-BLBT02-S/1h/SSH-MEAN-STD/eNATL60-BLBT02_mean-ssh_1d.nc',chunks={'x':500,'y':500})\n",
    "grid_eNATL6O=xr.open_dataset('/store/CT1/hmg2840/lbrodeau/eNATL60/eNATL60-I/mask_eNATL60_3.6_lev1.nc',chunks={'x':500,'y':500})"
   ]
  },
  {
   "cell_type": "markdown",
   "metadata": {},
   "source": [
    "### AVISO"
   ]
  },
  {
   "cell_type": "code",
   "execution_count": 18,
   "metadata": {},
   "outputs": [],
   "source": [
    "ssh_std_AVISO=xr.open_dataset('/scratch/cnt0024/hmg2840/albert7a/AVISO/AVISO_y2009m06d30-y2010m10d29_std-ssh.nc',chunks={'latitude':500,'longitude':500})\n",
    "ssh_mean_AVISO=xr.open_dataset('/scratch/cnt0024/hmg2840/albert7a/AVISO/AVISO_y2009m06d30-y2010m10d29_mean-ssh.nc',chunks={'latitude':500,'longitude':500})\n",
    "grid_AVISO=xr.open_dataset('/scratch/cnt0024/hmg2840/albert7a/AVISO/dt_global_allsat_phy_l4_20101225_20190101.nc',chunks={'latitude':500,'longitude':500})"
   ]
  },
  {
   "cell_type": "markdown",
   "metadata": {},
   "source": [
    "## 2. Some functions"
   ]
  },
  {
   "cell_type": "code",
   "execution_count": 19,
   "metadata": {},
   "outputs": [],
   "source": [
    "# normalization\n",
    "def normalize(data=None,lat=None,lon=None): # not clean : not area weighted\n",
    "    # data is a masked array, \n",
    "    # lat, lon can be xr.dataarray\n",
    "    alon = np.mod( lon + 180,360) - 180\n",
    "    alat = np.array(lat)\n",
    "    condition =     (alat >27) * (alat <65) * (alon >-80) * (alon < 3)\n",
    "    refvalue = np.mean(data[np.where(condition)])\n",
    "    return data - refvalue"
   ]
  },
  {
   "cell_type": "markdown",
   "metadata": {},
   "source": [
    "## 3. Maps of RMSSSH"
   ]
  },
  {
   "cell_type": "code",
   "execution_count": null,
   "metadata": {},
   "outputs": [],
   "source": [
    "fig=plt.figure(figsize=(20,25))\n",
    "ax = fig.add_subplot(211,projection=ccrs.PlateCarree(central_longitude=-30))\n",
    "ax.set_extent([-100, 50, 0, 70])\n",
    "\n",
    "data = ssh_std_AVISO.std_sossheig\n",
    "lat = grid_AVISO.latitude\n",
    "lon = grid_AVISO.longitude\n",
    "\n",
    "pcolor=ax.pcolormesh(lon,lat,data,transform=ccrs.PlateCarree(),cmap=mplcm.YlGnBu,vmin=0,vmax=1)\n",
    "ax.add_feature(cfeature.LAND,facecolor='grey')\n",
    "ax.coastlines()\n",
    "gl=ax.gridlines(crs=ccrs.PlateCarree(), draw_labels=True,linewidth=2, color='gray', alpha=0.5, linestyle='--')\n",
    "\n",
    "fig.subplots_adjust(right=0.8)\n",
    "gl.xlocator = mticker.FixedLocator([-110,-90,-70,-50,-30,-10,10,30,50,70,90,110])\n",
    "gl.ylocator = mticker.FixedLocator([-10,0,10,20,30,40,50,60,70,80])\n",
    "gl.xformatter = LONGITUDE_FORMATTER\n",
    "gl.yformatter = LATITUDE_FORMATTER\n",
    "gl.xlabel_style = {'size': 15, 'color': 'gray'}\n",
    "gl.ylabel_style = {'size': 15, 'color': 'gray'}\n",
    "gl.xlabels_top = False\n",
    "gl.ylabels_left = False\n",
    "\n",
    "cbar = plt.colorbar(pcolor,orientation='horizontal',shrink=0.75,label='m')\n",
    "ax.set_title('AVISO',size=17,y=1.08)\n",
    "\n",
    "\n",
    "ax = fig.add_subplot(212,projection=ccrs.PlateCarree(central_longitude=-30))\n",
    "ax.set_extent([-100, 50, 0, 70])\n",
    "\n",
    "data = ssh_std_eNATL60.std_sossheig\n",
    "lat = grid_eNATL6O.nav_lat\n",
    "lon = grid_eNATL6O.nav_lon\n",
    "\n",
    "pcolor=ax.pcolormesh(lon,lat,data,transform=ccrs.PlateCarree(),cmap=mplcm.YlGnBu,vmin=0,vmax=1)\n",
    "ax.add_feature(cfeature.LAND,facecolor='grey')\n",
    "ax.coastlines()\n",
    "gl=ax.gridlines(crs=ccrs.PlateCarree(), draw_labels=True,linewidth=2, color='gray', alpha=0.5, linestyle='--')\n",
    "\n",
    "fig.subplots_adjust(right=0.8)\n",
    "gl.xlocator = mticker.FixedLocator([-110,-90,-70,-50,-30,-10,10,30,50,70,90,110])\n",
    "gl.ylocator = mticker.FixedLocator([-10,0,10,20,30,40,50,60,70,80])\n",
    "gl.xformatter = LONGITUDE_FORMATTER\n",
    "gl.yformatter = LATITUDE_FORMATTER\n",
    "gl.xlabel_style = {'size': 15, 'color': 'gray'}\n",
    "gl.ylabel_style = {'size': 15, 'color': 'gray'}\n",
    "gl.xlabels_top = False\n",
    "gl.ylabels_left = False\n",
    "\n",
    "cbar = plt.colorbar(pcolor,orientation='horizontal',shrink=0.75,label='m')\n",
    "ax.set_title('eNATL60',size=17,y=1.08)\n",
    " "
   ]
  },
  {
   "cell_type": "code",
   "execution_count": null,
   "metadata": {},
   "outputs": [],
   "source": [
    "fig=plt.figure(figsize=(20,25))\n",
    "ax = fig.add_subplot(211,projection=ccrs.PlateCarree(central_longitude=-30))\n",
    "ax.set_extent([-100, 50, 0, 70])\n",
    "\n",
    "data = ssh_mean_AVISO.mean_sossheig\n",
    "lat = grid_AVISO.latitude\n",
    "lon = grid_AVISO.longitude\n",
    "\n",
    "pcolor=ax.pcolormesh(lon,lat,data,transform=ccrs.PlateCarree(),cmap=mplcm.YlGnBu,vmin=0,vmax=0.5)\n",
    "ax.add_feature(cfeature.LAND,facecolor='grey')\n",
    "ax.coastlines()\n",
    "gl=ax.gridlines(crs=ccrs.PlateCarree(), draw_labels=True,linewidth=2, color='gray', alpha=0.5, linestyle='--')\n",
    "\n",
    "fig.subplots_adjust(right=0.8)\n",
    "gl.xlocator = mticker.FixedLocator([-110,-90,-70,-50,-30,-10,10,30,50,70,90,110])\n",
    "gl.ylocator = mticker.FixedLocator([-10,0,10,20,30,40,50,60,70,80])\n",
    "gl.xformatter = LONGITUDE_FORMATTER\n",
    "gl.yformatter = LATITUDE_FORMATTER\n",
    "gl.xlabel_style = {'size': 15, 'color': 'gray'}\n",
    "gl.ylabel_style = {'size': 15, 'color': 'gray'}\n",
    "gl.xlabels_top = False\n",
    "gl.ylabels_left = False\n",
    "\n",
    "cbar = plt.colorbar(pcolor,orientation='horizontal',shrink=0.75,label='m')\n",
    "ax.set_title('AVISO',size=17,y=1.08)\n",
    "\n",
    "\n",
    "ax = fig.add_subplot(212,projection=ccrs.PlateCarree(central_longitude=-30))\n",
    "ax.set_extent([-100, 50, 0, 70])\n",
    "\n",
    "data = ssh_mean_eNATL60.mean_sossheig\n",
    "lat = grid_eNATL6O.nav_lat\n",
    "lon = grid_eNATL6O.nav_lon\n",
    "\n",
    "pcolor=ax.pcolormesh(lon,lat,data,transform=ccrs.PlateCarree(),cmap=mplcm.YlGnBu,vmin=0,vmax=0.5)\n",
    "ax.add_feature(cfeature.LAND,facecolor='grey')\n",
    "ax.coastlines()\n",
    "gl=ax.gridlines(crs=ccrs.PlateCarree(), draw_labels=True,linewidth=2, color='gray', alpha=0.5, linestyle='--')\n",
    "\n",
    "fig.subplots_adjust(right=0.8)\n",
    "gl.xlocator = mticker.FixedLocator([-110,-90,-70,-50,-30,-10,10,30,50,70,90,110])\n",
    "gl.ylocator = mticker.FixedLocator([-10,0,10,20,30,40,50,60,70,80])\n",
    "gl.xformatter = LONGITUDE_FORMATTER\n",
    "gl.yformatter = LATITUDE_FORMATTER\n",
    "gl.xlabel_style = {'size': 15, 'color': 'gray'}\n",
    "gl.ylabel_style = {'size': 15, 'color': 'gray'}\n",
    "gl.xlabels_top = False\n",
    "gl.ylabels_left = False\n",
    "\n",
    "cbar = plt.colorbar(pcolor,orientation='horizontal',shrink=0.75,label='m')\n",
    "ax.set_title('eNATL60',size=17,y=1.08)\n",
    " "
   ]
  },
  {
   "cell_type": "code",
   "execution_count": null,
   "metadata": {},
   "outputs": [],
   "source": []
  }
 ],
 "metadata": {
  "kernelspec": {
   "display_name": "Python 3",
   "language": "python",
   "name": "python3"
  },
  "language_info": {
   "codemirror_mode": {
    "name": "ipython",
    "version": 3
   },
   "file_extension": ".py",
   "mimetype": "text/x-python",
   "name": "python",
   "nbconvert_exporter": "python",
   "pygments_lexer": "ipython3",
   "version": "3.7.3"
  }
 },
 "nbformat": 4,
 "nbformat_minor": 2
}
