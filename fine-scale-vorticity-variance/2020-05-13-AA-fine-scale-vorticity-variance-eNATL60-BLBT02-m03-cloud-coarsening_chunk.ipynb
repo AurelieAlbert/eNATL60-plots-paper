{
 "cells": [
  {
   "cell_type": "code",
   "execution_count": 1,
   "metadata": {
    "scrolled": true
   },
   "outputs": [
    {
     "name": "stderr",
     "output_type": "stream",
     "text": [
      "distributed.scheduler - INFO - Clear task state\n",
      "distributed.scheduler - INFO -   Scheduler at:  tcp://10.32.16.125:34685\n",
      "distributed.scheduler - INFO -   dashboard at:                     :8787\n"
     ]
    },
    {
     "data": {
      "application/vnd.jupyter.widget-view+json": {
       "model_id": "3c8f33e58ef54c5faa43bcbd679bb30d",
       "version_major": 2,
       "version_minor": 0
      },
      "text/plain": [
       "VBox(children=(HTML(value='<h2>KubeCluster</h2>'), HBox(children=(HTML(value='\\n<div>\\n  <style scoped>\\n    .…"
      ]
     },
     "metadata": {},
     "output_type": "display_data"
    }
   ],
   "source": [
    "from dask.distributed import Client, progress\n",
    "\n",
    "from dask_kubernetes import KubeCluster\n",
    "cluster = KubeCluster(n_workers=40)\n",
    "cluster"
   ]
  },
  {
   "cell_type": "code",
   "execution_count": 2,
   "metadata": {},
   "outputs": [],
   "source": [
    "## path for mdules\n",
    "import sys\n",
    "sys.path.insert(0,\"/home/jovyan/xscale\")\n",
    "import xscale\n",
    "\n",
    "\n",
    "## imports\n",
    "\n",
    "import numpy as np\n",
    "import numpy.ma as ma\n",
    "import xarray as xr\n",
    "import time\n",
    "import pandas as pd\n",
    "\n",
    "import cartopy.crs as ccrs\n",
    "import cartopy.feature as cfeature\n",
    "from cartopy.mpl.gridliner import LONGITUDE_FORMATTER, LATITUDE_FORMATTER\n",
    "\n",
    "import matplotlib.cm as mplcm\n",
    "seq_cmap = mplcm.Blues\n",
    "div_cmap = mplcm.seismic\n",
    "\n",
    "### quick plot\n",
    "import matplotlib.pyplot as plt\n",
    "\n",
    "import glob\n",
    "import os \n",
    "\n",
    "%matplotlib inline"
   ]
  },
  {
   "cell_type": "code",
   "execution_count": 3,
   "metadata": {},
   "outputs": [],
   "source": [
    "import gcsfs\n",
    "fs = gcsfs.GCSFileSystem('pangeo-181919', requester_pays=True)\n"
   ]
  },
  {
   "cell_type": "code",
   "execution_count": 4,
   "metadata": {},
   "outputs": [],
   "source": [
    "zmap_grid = fs.get_mapper('pangeo-meom/eNATL60-I/eNATL60-mesh-mask')\n",
    "ds_grid = xr.open_zarr(zmap_grid)\n"
   ]
  },
  {
   "cell_type": "code",
   "execution_count": 5,
   "metadata": {},
   "outputs": [],
   "source": [
    "zmap_u = fs.get_mapper('pangeo-meom/eNATL60-BLBT02-SSU-1h')\n",
    "ds_u = xr.open_zarr(zmap_u)\n"
   ]
  },
  {
   "cell_type": "code",
   "execution_count": 6,
   "metadata": {},
   "outputs": [],
   "source": [
    "zmap_v = fs.get_mapper('pangeo-meom/eNATL60-BLBT02-SSV-1h')\n",
    "ds_v = xr.open_zarr(zmap_v)\n"
   ]
  },
  {
   "cell_type": "code",
   "execution_count": 7,
   "metadata": {},
   "outputs": [],
   "source": [
    "navlat= ds_grid['nav_lat']\n",
    "navlon= ds_grid['nav_lon']\n",
    "e1u=ds_grid.e1u[0]\n",
    "e1v=ds_grid.e1v[0]\n",
    "e2u=ds_grid.e2u[0]\n",
    "e2v=ds_grid.e2v[0]\n",
    "ff=ds_grid.ff[0]\n",
    "fmask=ds_grid.fmask[0,0]"
   ]
  },
  {
   "cell_type": "code",
   "execution_count": 8,
   "metadata": {},
   "outputs": [],
   "source": [
    "def filt(w):\n",
    "    win_box2D = w.window\n",
    "    win_box2D.set(window='hanning', cutoff=90, dim=['x', 'y'], n=[90, 90])\n",
    "    bw = win_box2D.boundary_weights(drop_dims=[])\n",
    "    w_LS = win_box2D.convolve(weights=bw)\n",
    "    w_SS=w-w_LS\n",
    "    return w_SS\n"
   ]
  },
  {
   "cell_type": "code",
   "execution_count": 9,
   "metadata": {},
   "outputs": [],
   "source": [
    "def curl(u,v,e1v,e2u,ff):\n",
    "    '''\n",
    "    This routine computes the relative vorticity from 2D fields of horizontal velocities and the spatial Coriolis parameter.\n",
    "    '''\n",
    "    #Computation of dy(u)\n",
    "    fe2u=1/e2u\n",
    "    fse2u=fe2u.squeeze()\n",
    "    dyu=(u.shift(y=-1) - u)*fse2u\n",
    "    #Computation of dx(v)\n",
    "    fe1v=1/e1v\n",
    "    fse1v=fe1v.squeeze()\n",
    "    dxv=(v.shift(x=-1) - v)*fse1v\n",
    "    #Projection on the grid T\n",
    "    dxvt=0.5*(dxv.shift(y=-1)+dxv)\n",
    "    dyut=0.5*(dyu.shift(x=-1)+dyu)\n",
    "    #Computation of the vorticity divided by f\n",
    "    fff=1/ff\n",
    "    curl=(dxvt-dyut)*fff\n",
    "    return curl"
   ]
  },
  {
   "cell_type": "code",
   "execution_count": 10,
   "metadata": {},
   "outputs": [],
   "source": [
    "def xr_reshape(A, dim, newdims, coords):\n",
    "    \"\"\" Reshape DataArray A to convert its dimension dim into sub-dimensions given by\n",
    "    newdims and the corresponding coords.\n",
    "    Example: Ar = xr_reshape(A, 'time', ['year', 'month'], [(2017, 2018), np.arange(12)]) \"\"\"\n",
    "    # Create a pandas MultiIndex from these labels\n",
    "    ind = pd.MultiIndex.from_product(coords, names=newdims)\n",
    "    # Replace the time index in the DataArray by this new index,\n",
    "    A1 = A.copy()\n",
    "    A1.coords[dim] = ind\n",
    "    # Convert multiindex to individual dims using DataArray.unstack().\n",
    "    # This changes dimension order! The new dimensions are at the end.\n",
    "    A1 = A1.unstack(dim)\n",
    "    # Permute to restore dimensions\n",
    "    i = A.dims.index(dim)\n",
    "    dims = list(A1.dims)\n",
    "    for d in newdims[::-1]:\n",
    "        dims.insert(i, d)\n",
    "    for d in newdims:\n",
    "        _ = dims.pop(-1)\n",
    "    return A1.transpose(*dims)\n",
    "\n",
    "def boxcar_reshape(array2D,icrs,jcrs,isize,jsize):\n",
    "    \"\"\"Return a 3D array where values in boxes added in extra dimensions \n",
    "    \"\"\"\n",
    "    jpj, jpi = array2D.shape\n",
    "    if jpj%jcrs==0 and jpi%icrs==0:\n",
    "        t=xr_reshape(array2D,'x',['xcrs','icrs'],[np.arange(isize),np.arange(icrs)])\n",
    "        tt=xr_reshape(t,'y',['ycrs','jcrs'],[np.arange(jsize),np.arange(jcrs)]) \n",
    "        ttt=tt.stack(ijcrs=('jcrs','icrs'))\n",
    "        return ttt\n",
    "    else:\n",
    "        print(\"shape and coarsening factors are not compatible\")\n",
    "        return\n",
    "\n",
    "def coarse_var(var):\n",
    "    jpj,jpi = var.shape\n",
    "    x_offset=0\n",
    "    y_offset=0\n",
    "    crs_factor=60\n",
    "    jcrs, icrs = crs_factor, crs_factor\n",
    "    jsize = jpj - (jpj - y_offset) % jcrs\n",
    "    isize = jpi - (jpi - x_offset) % icrs\n",
    "    inb=(jpi - x_offset) // icrs\n",
    "    jnb=(jpj - y_offset) // jcrs\n",
    "    cut_array = lambda array2D:array2D[...,y_offset:jsize,x_offset:isize]\n",
    "    var_cut=cut_array(var.squeeze())\n",
    "    var_rechunk=var_cut.chunk({'y':600,'x':600})\n",
    "    varcrs=boxcar_reshape(var_rechunk,crs_factor,crs_factor,inb,jnb)\n",
    "    varcrsm=varcrs.mean(dim='ijcrs')\n",
    "    return varcrsm"
   ]
  },
  {
   "cell_type": "code",
   "execution_count": 11,
   "metadata": {},
   "outputs": [],
   "source": [
    "def plot_fine_scale_variance(var,loncrs,latcrs,lon,lat,fmask,month,m,config,case):\n",
    "    ''' map of the averaged fine scale variance\n",
    "    '''\n",
    "    fig, ax = plt.subplots(1,1,figsize=(15,10))\n",
    "    ax = plt.subplot(111,projection=ccrs.PlateCarree(central_longitude=0))\n",
    "    ax.autoscale(tight=True)\n",
    "    gl = ax.gridlines(draw_labels=True, linestyle=':', color='black',\n",
    "                      alpha=0.5)\n",
    "    gl.xformatter = LONGITUDE_FORMATTER\n",
    "    gl.yformatter = LATITUDE_FORMATTER\n",
    "    gl.xlabel_style = {'size': 25, 'color': 'gray'}\n",
    "    gl.ylabel_style = {'size': 25, 'color': 'gray'}\n",
    "    \n",
    "    ax.tick_params('both',labelsize=25)\n",
    "\n",
    "    pcolor = ax.pcolormesh(loncrs,latcrs,ma.masked_invalid(var),cmap=seq_cmap,vmin=0,vmax=0.1,alpha=1)\n",
    "    ax.contour(lon,lat,fmask,alpha=0.5,linewidth=0.000001,antialiased=True,colors='black')\n",
    "    cbar = plt.colorbar(pcolor,orientation='horizontal',pad=0.1)\n",
    "    cbar.ax.tick_params(labelsize=25)\n",
    "    cbar.set_label('Small scales surface vorticity variance in '+month+' for '+config+'-'+case,fontsize=15)\n",
    "    plt.savefig(config+'-'+case+'_m'+m+'_fine_scale_variance_vorticity.png')\n",
    "  "
   ]
  },
  {
   "cell_type": "code",
   "execution_count": 12,
   "metadata": {},
   "outputs": [
    {
     "name": "stdout",
     "output_type": "stream",
     "text": [
      "Select dates in zarr\n"
     ]
    }
   ],
   "source": [
    "print('Select dates in zarr')\n",
    "u=ds_u.sel(time_counter=slice('2010-03-01','2010-03-31'))['sozocrtx']\n",
    "v=ds_v.sel(time_counter=slice('2010-03-01','2010-03-31'))['somecrty']\n"
   ]
  },
  {
   "cell_type": "code",
   "execution_count": 13,
   "metadata": {},
   "outputs": [],
   "source": [
    "chunkt=1\n",
    "chunkx=4000\n",
    "chunky=np.int(np.floor(125*(1000**2)/(chunkt*chunkx*u[0].dtype.itemsize)))\n",
    "u_rechunk=u.chunk({'time_counter':chunkt,'y':chunky,'x':chunkx})\n",
    "v_rechunk=v.chunk({'time_counter':chunkt,'y':chunky,'x':chunkx})"
   ]
  },
  {
   "cell_type": "code",
   "execution_count": 14,
   "metadata": {},
   "outputs": [
    {
     "name": "stdout",
     "output_type": "stream",
     "text": [
      "Computing curl\n",
      "Filtering curl\n",
      "**2 and temp mean\n"
     ]
    }
   ],
   "source": [
    "print('Computing curl')\n",
    "curl_surf=curl(u_rechunk,v_rechunk,e1v,e2u,ff)\n",
    "print('Filtering curl')\n",
    "curl_SS=filt(curl_surf)\n",
    "curl_LS=curl_surf-curl_SS\n",
    "hpcurl=curl_SS\n",
    "print('**2 and temp mean')\n",
    "hpcurl2 = hpcurl ** 2\n",
    "hpcurl2m = hpcurl2.mean(axis=0,keep_attrs=True)\n"
   ]
  },
  {
   "cell_type": "code",
   "execution_count": 15,
   "metadata": {},
   "outputs": [
    {
     "name": "stdout",
     "output_type": "stream",
     "text": [
      "Coarsening of the grid\n"
     ]
    }
   ],
   "source": [
    "print('Coarsening of the grid')\n",
    "latcrsm=coarse_var(navlat)\n",
    "loncrsm=coarse_var(navlon)\n",
    "      "
   ]
  },
  {
   "cell_type": "code",
   "execution_count": 16,
   "metadata": {},
   "outputs": [
    {
     "name": "stderr",
     "output_type": "stream",
     "text": [
      "/srv/conda/envs/notebook/lib/python3.7/site-packages/ipykernel_launcher.py:20: FutureWarning: This DataArray contains multi-dimensional coordinates. In the future, these coordinates will be transposed as well unless you specify transpose_coords=False.\n",
      "/srv/conda/envs/notebook/lib/python3.7/site-packages/ipykernel_launcher.py:20: FutureWarning: This DataArray contains multi-dimensional coordinates. In the future, these coordinates will be transposed as well unless you specify transpose_coords=False.\n"
     ]
    }
   ],
   "source": [
    "hpcurl2mcm = coarse_var(hpcurl2m)\n"
   ]
  },
  {
   "cell_type": "code",
   "execution_count": null,
   "metadata": {},
   "outputs": [
    {
     "name": "stderr",
     "output_type": "stream",
     "text": [
      "distributed.scheduler - INFO - Register tcp://10.32.65.3:42379\n",
      "distributed.scheduler - INFO - Starting worker compute stream, tcp://10.32.65.3:42379\n",
      "distributed.core - INFO - Starting established connection\n",
      "distributed.scheduler - INFO - Register tcp://10.32.65.2:37075\n",
      "distributed.scheduler - INFO - Starting worker compute stream, tcp://10.32.65.2:37075\n",
      "distributed.core - INFO - Starting established connection\n",
      "distributed.scheduler - INFO - Register tcp://10.32.9.3:37819\n",
      "distributed.scheduler - INFO - Starting worker compute stream, tcp://10.32.9.3:37819\n",
      "distributed.core - INFO - Starting established connection\n",
      "distributed.scheduler - INFO - Register tcp://10.32.9.2:39305\n",
      "distributed.scheduler - INFO - Starting worker compute stream, tcp://10.32.9.2:39305\n",
      "distributed.core - INFO - Starting established connection\n",
      "distributed.scheduler - INFO - Register tcp://10.32.10.3:36957\n",
      "distributed.scheduler - INFO - Starting worker compute stream, tcp://10.32.10.3:36957\n",
      "distributed.core - INFO - Starting established connection\n",
      "distributed.scheduler - INFO - Register tcp://10.32.10.2:43997\n",
      "distributed.scheduler - INFO - Starting worker compute stream, tcp://10.32.10.2:43997\n",
      "distributed.core - INFO - Starting established connection\n",
      "distributed.scheduler - INFO - Register tcp://10.32.11.2:43553\n",
      "distributed.scheduler - INFO - Starting worker compute stream, tcp://10.32.11.2:43553\n",
      "distributed.core - INFO - Starting established connection\n",
      "distributed.scheduler - INFO - Register tcp://10.32.11.3:37973\n",
      "distributed.scheduler - INFO - Starting worker compute stream, tcp://10.32.11.3:37973\n",
      "distributed.core - INFO - Starting established connection\n",
      "distributed.scheduler - INFO - Register tcp://10.32.19.2:42413\n",
      "distributed.scheduler - INFO - Starting worker compute stream, tcp://10.32.19.2:42413\n",
      "distributed.core - INFO - Starting established connection\n",
      "distributed.scheduler - INFO - Register tcp://10.32.19.3:40933\n",
      "distributed.scheduler - INFO - Starting worker compute stream, tcp://10.32.19.3:40933\n",
      "distributed.core - INFO - Starting established connection\n",
      "distributed.scheduler - INFO - Register tcp://10.32.45.3:43327\n",
      "distributed.scheduler - INFO - Starting worker compute stream, tcp://10.32.45.3:43327\n",
      "distributed.core - INFO - Starting established connection\n",
      "distributed.scheduler - INFO - Register tcp://10.32.45.2:44821\n",
      "distributed.scheduler - INFO - Starting worker compute stream, tcp://10.32.45.2:44821\n",
      "distributed.core - INFO - Starting established connection\n",
      "distributed.scheduler - INFO - Register tcp://10.32.23.3:35159\n",
      "distributed.scheduler - INFO - Starting worker compute stream, tcp://10.32.23.3:35159\n",
      "distributed.core - INFO - Starting established connection\n",
      "distributed.scheduler - INFO - Register tcp://10.32.23.2:44539\n",
      "distributed.scheduler - INFO - Starting worker compute stream, tcp://10.32.23.2:44539\n",
      "distributed.core - INFO - Starting established connection\n",
      "distributed.scheduler - INFO - Register tcp://10.32.46.4:32979\n",
      "distributed.scheduler - INFO - Starting worker compute stream, tcp://10.32.46.4:32979\n",
      "distributed.core - INFO - Starting established connection\n",
      "distributed.scheduler - INFO - Register tcp://10.32.46.2:43179\n",
      "distributed.scheduler - INFO - Starting worker compute stream, tcp://10.32.46.2:43179\n",
      "distributed.core - INFO - Starting established connection\n",
      "distributed.scheduler - INFO - Register tcp://10.32.22.3:45309\n",
      "distributed.scheduler - INFO - Starting worker compute stream, tcp://10.32.22.3:45309\n",
      "distributed.core - INFO - Starting established connection\n",
      "distributed.scheduler - INFO - Register tcp://10.32.22.2:42275\n",
      "distributed.scheduler - INFO - Starting worker compute stream, tcp://10.32.22.2:42275\n",
      "distributed.core - INFO - Starting established connection\n",
      "distributed.scheduler - INFO - Register tcp://10.32.8.2:42355\n",
      "distributed.scheduler - INFO - Starting worker compute stream, tcp://10.32.8.2:42355\n",
      "distributed.core - INFO - Starting established connection\n",
      "distributed.scheduler - INFO - Register tcp://10.32.8.4:33357\n",
      "distributed.scheduler - INFO - Starting worker compute stream, tcp://10.32.8.4:33357\n",
      "distributed.core - INFO - Starting established connection\n",
      "distributed.scheduler - INFO - Register tcp://10.32.21.2:40783\n",
      "distributed.scheduler - INFO - Starting worker compute stream, tcp://10.32.21.2:40783\n",
      "distributed.core - INFO - Starting established connection\n",
      "distributed.scheduler - INFO - Register tcp://10.32.21.3:37557\n",
      "distributed.scheduler - INFO - Starting worker compute stream, tcp://10.32.21.3:37557\n",
      "distributed.core - INFO - Starting established connection\n",
      "distributed.scheduler - INFO - Register tcp://10.32.24.2:33507\n",
      "distributed.scheduler - INFO - Starting worker compute stream, tcp://10.32.24.2:33507\n",
      "distributed.core - INFO - Starting established connection\n",
      "distributed.scheduler - INFO - Register tcp://10.32.24.4:40557\n",
      "distributed.scheduler - INFO - Starting worker compute stream, tcp://10.32.24.4:40557\n",
      "distributed.core - INFO - Starting established connection\n",
      "distributed.scheduler - INFO - Register tcp://10.32.28.3:35771\n",
      "distributed.scheduler - INFO - Starting worker compute stream, tcp://10.32.28.3:35771\n",
      "distributed.core - INFO - Starting established connection\n",
      "distributed.scheduler - INFO - Register tcp://10.32.28.2:44723\n",
      "distributed.scheduler - INFO - Starting worker compute stream, tcp://10.32.28.2:44723\n",
      "distributed.core - INFO - Starting established connection\n",
      "distributed.scheduler - INFO - Register tcp://10.32.90.2:39043\n",
      "distributed.scheduler - INFO - Starting worker compute stream, tcp://10.32.90.2:39043\n",
      "distributed.core - INFO - Starting established connection\n",
      "distributed.scheduler - INFO - Register tcp://10.32.90.3:41969\n",
      "distributed.scheduler - INFO - Starting worker compute stream, tcp://10.32.90.3:41969\n",
      "distributed.core - INFO - Starting established connection\n",
      "distributed.scheduler - INFO - Register tcp://10.32.68.3:32945\n",
      "distributed.scheduler - INFO - Starting worker compute stream, tcp://10.32.68.3:32945\n",
      "distributed.core - INFO - Starting established connection\n",
      "distributed.scheduler - INFO - Register tcp://10.32.68.2:45587\n",
      "distributed.scheduler - INFO - Starting worker compute stream, tcp://10.32.68.2:45587\n",
      "distributed.core - INFO - Starting established connection\n",
      "distributed.scheduler - INFO - Register tcp://10.32.20.4:45945\n",
      "distributed.scheduler - INFO - Starting worker compute stream, tcp://10.32.20.4:45945\n",
      "distributed.core - INFO - Starting established connection\n",
      "distributed.scheduler - INFO - Register tcp://10.32.20.2:39523\n",
      "distributed.scheduler - INFO - Starting worker compute stream, tcp://10.32.20.2:39523\n",
      "distributed.core - INFO - Starting established connection\n",
      "distributed.scheduler - INFO - Register tcp://10.32.12.2:34147\n",
      "distributed.scheduler - INFO - Starting worker compute stream, tcp://10.32.12.2:34147\n",
      "distributed.core - INFO - Starting established connection\n",
      "distributed.scheduler - INFO - Register tcp://10.32.12.3:39245\n",
      "distributed.scheduler - INFO - Starting worker compute stream, tcp://10.32.12.3:39245\n",
      "distributed.core - INFO - Starting established connection\n",
      "distributed.scheduler - INFO - Register tcp://10.32.35.2:36775\n",
      "distributed.scheduler - INFO - Starting worker compute stream, tcp://10.32.35.2:36775\n",
      "distributed.core - INFO - Starting established connection\n",
      "distributed.scheduler - INFO - Register tcp://10.32.35.3:44525\n",
      "distributed.scheduler - INFO - Starting worker compute stream, tcp://10.32.35.3:44525\n",
      "distributed.core - INFO - Starting established connection\n",
      "distributed.scheduler - INFO - Register tcp://10.32.13.2:38397\n",
      "distributed.scheduler - INFO - Starting worker compute stream, tcp://10.32.13.2:38397\n",
      "distributed.core - INFO - Starting established connection\n",
      "distributed.scheduler - INFO - Register tcp://10.32.13.3:45957\n",
      "distributed.scheduler - INFO - Starting worker compute stream, tcp://10.32.13.3:45957\n",
      "distributed.core - INFO - Starting established connection\n",
      "distributed.scheduler - INFO - Register tcp://10.32.18.3:33701\n",
      "distributed.scheduler - INFO - Starting worker compute stream, tcp://10.32.18.3:33701\n",
      "distributed.core - INFO - Starting established connection\n",
      "distributed.scheduler - INFO - Register tcp://10.32.18.2:37049\n",
      "distributed.scheduler - INFO - Starting worker compute stream, tcp://10.32.18.2:37049\n",
      "distributed.core - INFO - Starting established connection\n"
     ]
    }
   ],
   "source": [
    "hpcurl2mcm.values"
   ]
  },
  {
   "cell_type": "code",
   "execution_count": null,
   "metadata": {},
   "outputs": [
    {
     "name": "stdout",
     "output_type": "stream",
     "text": [
      "Plotting\n"
     ]
    }
   ],
   "source": [
    "print('Plotting')\n",
    "plot_fine_scale_variance(hpcurl2mcm,loncrsm, latcrsm,navlon,navlat,fmask,'March',3,'eNATL60','BLBT02')\n"
   ]
  },
  {
   "cell_type": "code",
   "execution_count": null,
   "metadata": {},
   "outputs": [],
   "source": [
    "print('Select dates in zarr')\n",
    "u=ds_u.sel(time_counter=slice('2009-09-01','2009-09-30'))['sozocrtx']\n",
    "v=ds_v.sel(time_counter=slice('2009-09-01','2009-09-30'))['somecrty']\n",
    "u_rechunk=u.chunk({'time_counter':1,'y':4729,'x':8354})\n",
    "v_rechunk=v.chunk({'time_counter':1,'y':4729,'x':8354})\n",
    "print('Computing curl')\n",
    "curl_surf=curl(u_rechunk,v_rechunk,e1v,e2u,ff)\n",
    "print('Filtering curl')\n",
    "curl_SS=filt(curl_surf)\n",
    "curl_LS=curl_surf-curl_SS\n",
    "hpcurl=curl_SS\n",
    "print('**2 and temp mean')\n",
    "hpcurl2 = hpcurl ** 2\n",
    "hpcurl2m = hpcurl2.mean(axis=0,keep_attrs=True)\n",
    "print('Coarsening of the grid')\n",
    "print('Coarsening of the grid')\n",
    "hpcurl2mcm = coarse_var(hpcurl2m)\n",
    "latcrsm=coarse_var(navlat)\n",
    "loncrsm=coarse_var(navlon)\n",
    "print('Plotting')\n",
    "plot_fine_scale_variance(hpcurl2mcm,loncrsm, latcrsm,navlon,navlat,fmask,'September',month,config,case)\n",
    "      "
   ]
  }
 ],
 "metadata": {
  "kernelspec": {
   "display_name": "Python 3",
   "language": "python",
   "name": "python3"
  },
  "language_info": {
   "codemirror_mode": {
    "name": "ipython",
    "version": 3
   },
   "file_extension": ".py",
   "mimetype": "text/x-python",
   "name": "python",
   "nbconvert_exporter": "python",
   "pygments_lexer": "ipython3",
   "version": "3.7.3"
  }
 },
 "nbformat": 4,
 "nbformat_minor": 4
}
