{
 "cells": [
  {
   "cell_type": "code",
   "execution_count": 1,
   "metadata": {
    "scrolled": true
   },
   "outputs": [
    {
     "name": "stderr",
     "output_type": "stream",
     "text": [
      "/scratch/cnt0024/hmg2840/albert7a/anaconda3/lib/python3.7/site-packages/distributed/dashboard/core.py:79: UserWarning: \n",
      "Failed to start diagnostics server on port 8787. [Errno 13] Permission denied\n",
      "  warnings.warn(\"\\n\" + msg)\n"
     ]
    },
    {
     "data": {
      "text/html": [
       "<table style=\"border: 2px solid white;\">\n",
       "<tr>\n",
       "<td style=\"vertical-align: top; border: 0px solid white\">\n",
       "<h3 style=\"text-align: left;\">Client</h3>\n",
       "<ul style=\"text-align: left; list-style: none; margin: 0; padding: 0;\">\n",
       "  <li><b>Scheduler: </b>tcp://127.0.0.1:35178</li>\n",
       "  <li><b>Dashboard: </b><a href='http://127.0.0.1:43122/status' target='_blank'>http://127.0.0.1:43122/status</a>\n",
       "</ul>\n",
       "</td>\n",
       "<td style=\"vertical-align: top; border: 0px solid white\">\n",
       "<h3 style=\"text-align: left;\">Cluster</h3>\n",
       "<ul style=\"text-align: left; list-style:none; margin: 0; padding: 0;\">\n",
       "  <li><b>Workers: </b>8</li>\n",
       "  <li><b>Cores: </b>56</li>\n",
       "  <li><b>Memory: </b>270.19 GB</li>\n",
       "</ul>\n",
       "</td>\n",
       "</tr>\n",
       "</table>"
      ],
      "text/plain": [
       "<Client: 'tcp://127.0.0.1:35178' processes=8 threads=56, memory=270.19 GB>"
      ]
     },
     "execution_count": 1,
     "metadata": {},
     "output_type": "execute_result"
    }
   ],
   "source": [
    "import dask\n",
    "import dask.threaded\n",
    "import dask.multiprocessing\n",
    "from dask.distributed import Client\n",
    "\n",
    "c = Client()\n",
    "c"
   ]
  },
  {
   "cell_type": "code",
   "execution_count": 2,
   "metadata": {},
   "outputs": [],
   "source": [
    "## path for mdules\n",
    "import sys\n",
    "sys.path.insert(0,\"/scratch/cnt0024/hmg2840/albert7a/DEV/git/xscale\")\n",
    "import xscale\n",
    "\n",
    "\n",
    "## imports\n",
    "\n",
    "import numpy as np\n",
    "import numpy.ma as ma\n",
    "import xarray as xr\n",
    "import time\n",
    "import pandas as pd\n",
    "\n",
    "import cartopy.crs as ccrs\n",
    "import cartopy.feature as cfeature\n",
    "from cartopy.mpl.gridliner import LONGITUDE_FORMATTER, LATITUDE_FORMATTER\n",
    "\n",
    "import matplotlib.cm as mplcm\n",
    "seq_cmap = mplcm.Blues\n",
    "div_cmap = mplcm.seismic\n",
    "\n",
    "### quick plot\n",
    "import matplotlib.pyplot as plt\n",
    "\n",
    "import glob\n",
    "import os \n",
    "\n",
    "%matplotlib inline"
   ]
  },
  {
   "cell_type": "code",
   "execution_count": 3,
   "metadata": {},
   "outputs": [],
   "source": [
    "## Dataset\n",
    "\n",
    "gridfile='/store/CT1/hmg2840/lbrodeau/eNATL60/eNATL60-I/coordinates_eNATL60.nc'\n",
    "maskfile='/store/CT1/hmg2840/lbrodeau/eNATL60/eNATL60-I/mesh_mask_eNATL60_3.6.nc'\n",
    "meshhgrfile='/store/CT1/hmg2840/lbrodeau/eNATL60/eNATL60-I/mesh_mask_eNATL60_3.6.nc'\n",
    "meshzgrfile='/store/CT1/hmg2840/lbrodeau/eNATL60/eNATL60-I/mesh_mask_eNATL60_3.6.nc'"
   ]
  },
  {
   "cell_type": "code",
   "execution_count": 4,
   "metadata": {},
   "outputs": [],
   "source": [
    "grid=xr.open_dataset(gridfile,chunks={'y':700,'x':1000})\n",
    "navlat= grid['nav_lat']\n",
    "navlon= grid['nav_lon']\n",
    "mesh=xr.open_dataset(maskfile,chunks={'y':700,'x':1000})\n",
    "e1u=mesh.e1u[0]\n",
    "e1v=mesh.e1v[0]\n",
    "e2u=mesh.e2u[0]\n",
    "e2v=mesh.e2v[0]\n",
    "ff=mesh.ff[0]\n"
   ]
  },
  {
   "cell_type": "code",
   "execution_count": 5,
   "metadata": {},
   "outputs": [],
   "source": [
    "def filt(w):\n",
    "    win_box2D = w.window\n",
    "    win_box2D.set(window='hanning', cutoff=90, dim=['x', 'y'], n=[90, 90])\n",
    "    bw = win_box2D.boundary_weights(drop_dims=[])\n",
    "    w_LS = win_box2D.convolve(weights=bw)\n",
    "    w_SS=w-w_LS\n",
    "    return w_SS\n"
   ]
  },
  {
   "cell_type": "code",
   "execution_count": 6,
   "metadata": {},
   "outputs": [],
   "source": [
    "def curl(u,v,e1v,e2u,ff):\n",
    "    '''\n",
    "    This routine computes the relative vorticity from 2D fields of horizontal velocities and the spatial Coriolis parameter.\n",
    "    '''\n",
    "    #Computation of dy(u)\n",
    "    fe2u=1/e2u\n",
    "    fse2u=fe2u.squeeze()\n",
    "    dyu=(u.shift(y=-1) - u)*fse2u\n",
    "    #Computation of dx(v)\n",
    "    fe1v=1/e1v\n",
    "    fse1v=fe1v.squeeze()\n",
    "    dxv=(v.shift(x=-1) - v)*fse1v\n",
    "    #Projection on the grid T\n",
    "    dxvt=0.5*(dxv.shift(y=-1)+dxv)\n",
    "    dyut=0.5*(dyu.shift(x=-1)+dyu)\n",
    "    #Computation of the vorticity divided by f\n",
    "    fff=1/ff\n",
    "    curl=(dxvt-dyut)*fff\n",
    "    return curl"
   ]
  },
  {
   "cell_type": "code",
   "execution_count": 7,
   "metadata": {},
   "outputs": [],
   "source": [
    "def xr_reshape(A, dim, newdims, coords):\n",
    "    \"\"\" Reshape DataArray A to convert its dimension dim into sub-dimensions given by\n",
    "    newdims and the corresponding coords.\n",
    "    Example: Ar = xr_reshape(A, 'time', ['year', 'month'], [(2017, 2018), np.arange(12)]) \"\"\"\n",
    "    # Create a pandas MultiIndex from these labels\n",
    "    ind = pd.MultiIndex.from_product(coords, names=newdims)\n",
    "    # Replace the time index in the DataArray by this new index,\n",
    "    A1 = A.copy()\n",
    "    A1.coords[dim] = ind\n",
    "    # Convert multiindex to individual dims using DataArray.unstack().\n",
    "    # This changes dimension order! The new dimensions are at the end.\n",
    "    A1 = A1.unstack(dim)\n",
    "    # Permute to restore dimensions\n",
    "    i = A.dims.index(dim)\n",
    "    dims = list(A1.dims)\n",
    "    for d in newdims[::-1]:\n",
    "        dims.insert(i, d)\n",
    "    for d in newdims:\n",
    "        _ = dims.pop(-1)\n",
    "    return A1.transpose(*dims)\n",
    "\n",
    "def boxcar_reshape(array2D,icrs,jcrs,isize,jsize):\n",
    "    \"\"\"Return a 3D array where values in boxes added in extra dimensions \n",
    "    \"\"\"\n",
    "    jpj, jpi = array2D.shape\n",
    "    if jpj%jcrs==0 and jpi%icrs==0:\n",
    "        t=xr_reshape(array2D,'x',['xcrs','icrs'],[np.arange(isize),np.arange(icrs)])\n",
    "        tt=xr_reshape(t,'y',['ycrs','jcrs'],[np.arange(jsize),np.arange(jcrs)]) \n",
    "        ttt=tt.stack(ijcrs=('jcrs','icrs'))\n",
    "        return ttt\n",
    "    else:\n",
    "        print(\"shape and coarsening factors are not compatible\")\n",
    "        return\n",
    "\n",
    "def coarse_var(var):\n",
    "    jpj,jpi = var.shape\n",
    "    x_offset=0\n",
    "    y_offset=0\n",
    "    crs_factor=60\n",
    "    jcrs, icrs = crs_factor, crs_factor\n",
    "    jsize = jpj - (jpj - y_offset) % jcrs\n",
    "    isize = jpi - (jpi - x_offset) % icrs\n",
    "    inb=(jpi - x_offset) // icrs\n",
    "    jnb=(jpj - y_offset) // jcrs\n",
    "    cut_array = lambda array2D:array2D[...,y_offset:jsize,x_offset:isize]\n",
    "    var_cut=cut_array(var.squeeze())\n",
    "    var_rechunk=var_cut.chunk({'y':jsize,'x':isize})\n",
    "    varcrs=boxcar_reshape(var_rechunk,crs_factor,crs_factor,inb,jnb)\n",
    "    varcrsm=varcrs.mean(dim='ijcrs')\n",
    "    return varcrsm"
   ]
  },
  {
   "cell_type": "code",
   "execution_count": 8,
   "metadata": {},
   "outputs": [],
   "source": [
    "def plot_fine_scale_variance(var,loncrs,latcrs,lon,lat,fmask,month,m,config,case):\n",
    "    ''' map of the averaged fine scale variance\n",
    "    '''\n",
    "    fig, ax = plt.subplots(1,1,figsize=(15,10))\n",
    "    ax = plt.subplot(111,projection=ccrs.PlateCarree(central_longitude=0))\n",
    "    ax.autoscale(tight=True)\n",
    "    gl = ax.gridlines(draw_labels=True, linestyle=':', color='black',\n",
    "                      alpha=0.5)\n",
    "    gl.xformatter = LONGITUDE_FORMATTER\n",
    "    gl.yformatter = LATITUDE_FORMATTER\n",
    "    gl.xlabel_style = {'size': 25, 'color': 'gray'}\n",
    "    gl.ylabel_style = {'size': 25, 'color': 'gray'}\n",
    "    \n",
    "    ax.tick_params('both',labelsize=25)\n",
    "\n",
    "    pcolor = ax.pcolormesh(loncrs,latcrs,ma.masked_invalid(var),cmap=seq_cmap,vmin=0,vmax=0.1,alpha=1)\n",
    "    ax.contour(lon,lat,fmask,alpha=0.5,linewidth=0.000001,antialiased=True,colors='black')\n",
    "    cbar = plt.colorbar(pcolor,orientation='horizontal',pad=0.1)\n",
    "    cbar.ax.tick_params(labelsize=25)\n",
    "    cbar.set_label('Small scales surface vorticity variance in '+month+' for '+config+'-'+case,fontsize=15)\n",
    "    plt.savefig(config+'-'+case+'_m'+m+'_fine_scale_variance_vorticity.png')\n",
    "  "
   ]
  },
  {
   "cell_type": "code",
   "execution_count": 10,
   "metadata": {},
   "outputs": [
    {
     "name": "stdout",
     "output_type": "stream",
     "text": [
      "Load netcdf one month\n"
     ]
    },
    {
     "name": "stderr",
     "output_type": "stream",
     "text": [
      "/scratch/cnt0024/hmg2840/albert7a/anaconda3/lib/python3.7/site-packages/ipykernel_launcher.py:8: FutureWarning: In xarray version 0.15 the default behaviour of `open_mfdataset`\n",
      "will change. To retain the existing behavior, pass\n",
      "combine='nested'. To use future default behavior, pass\n",
      "combine='by_coords'. See\n",
      "http://xarray.pydata.org/en/stable/combining.html#combining-multi\n",
      "\n",
      "  \n",
      "/scratch/cnt0024/hmg2840/albert7a/anaconda3/lib/python3.7/site-packages/xarray/backends/api.py:933: FutureWarning: The datasets supplied have global dimension coordinates. You may want\n",
      "to use the new `combine_by_coords` function (or the\n",
      "`combine='by_coords'` option to `open_mfdataset`) to order the datasets\n",
      "before concatenation. Alternatively, to continue concatenating based\n",
      "on the order the datasets are supplied in future, please use the new\n",
      "`combine_nested` function (or the `combine='nested'` option to\n",
      "open_mfdataset).\n",
      "  from_openmfds=True,\n",
      "/scratch/cnt0024/hmg2840/albert7a/anaconda3/lib/python3.7/site-packages/ipykernel_launcher.py:9: FutureWarning: In xarray version 0.15 the default behaviour of `open_mfdataset`\n",
      "will change. To retain the existing behavior, pass\n",
      "combine='nested'. To use future default behavior, pass\n",
      "combine='by_coords'. See\n",
      "http://xarray.pydata.org/en/stable/combining.html#combining-multi\n",
      "\n",
      "  if __name__ == '__main__':\n",
      "/scratch/cnt0024/hmg2840/albert7a/anaconda3/lib/python3.7/site-packages/xarray/backends/api.py:933: FutureWarning: The datasets supplied have global dimension coordinates. You may want\n",
      "to use the new `combine_by_coords` function (or the\n",
      "`combine='by_coords'` option to `open_mfdataset`) to order the datasets\n",
      "before concatenation. Alternatively, to continue concatenating based\n",
      "on the order the datasets are supplied in future, please use the new\n",
      "`combine_nested` function (or the `combine='nested'` option to\n",
      "open_mfdataset).\n",
      "  from_openmfds=True,\n"
     ]
    },
    {
     "name": "stdout",
     "output_type": "stream",
     "text": [
      "CPU times: user 55.5 s, sys: 35.7 s, total: 1min 31s\n",
      "Wall time: 3min 33s\n"
     ]
    }
   ],
   "source": [
    "%%time\n",
    "print('Load netcdf one month')\n",
    "config='eNATL60'\n",
    "case='BLBT02'\n",
    "month='03'\n",
    "datadir='/store/CT1/hmg2840/lbrodeau/'+str(config)+'/'+str(config)+'-'+str(case)+'*-S/'\n",
    "filesU=datadir+'*/'+str(config)+'-'+str(case)+'*_1h_*_gridU-2D_20??'+str(month)+'??-20??'+str(month)+'??.nc'\n",
    "filesV=datadir+'*/'+str(config)+'-'+str(case)+'*_1h_*_gridV-2D_20??'+str(month)+'??-20??'+str(month)+'??.nc'\n",
    "dsu=xr.open_mfdataset(filesU,combine='nested',chunks={'time_counter':1,'y':700,'x':1000})\n",
    "dsv=xr.open_mfdataset(filesV,combine='nested',chunks={'time_counter':1,'y':700,'x':1000})\n",
    "u=dsu.sozocrtx\n",
    "v=dsv.somecrty\n"
   ]
  },
  {
   "cell_type": "code",
   "execution_count": 11,
   "metadata": {},
   "outputs": [],
   "source": [
    "chunkt=1\n",
    "chunkx=4000\n",
    "chunky=np.int(np.floor(125*(1000**2)/(chunkt*chunkx*u[0].dtype.itemsize)))\n",
    "u_rechunk=u.chunk({'time_counter':chunkt,'y':chunky,'x':chunkx})\n",
    "v_rechunk=v.chunk({'time_counter':chunkt,'y':chunky,'x':chunkx})"
   ]
  },
  {
   "cell_type": "code",
   "execution_count": 12,
   "metadata": {},
   "outputs": [
    {
     "name": "stdout",
     "output_type": "stream",
     "text": [
      "Computing curl\n"
     ]
    },
    {
     "name": "stderr",
     "output_type": "stream",
     "text": [
      "/scratch/cnt0024/hmg2840/albert7a/anaconda3/lib/python3.7/site-packages/dask/array/core.py:3918: PerformanceWarning: Increasing number of chunks by factor of 21\n",
      "  **blockwise_kwargs,\n",
      "/scratch/cnt0024/hmg2840/albert7a/anaconda3/lib/python3.7/site-packages/dask/array/core.py:3918: PerformanceWarning: Increasing number of chunks by factor of 21\n",
      "  **blockwise_kwargs,\n",
      "distributed.nanny - WARNING - Restarting worker\n",
      "distributed.nanny - WARNING - Restarting worker\n",
      "distributed.nanny - WARNING - Restarting worker\n",
      "distributed.nanny - WARNING - Restarting worker\n",
      "distributed.nanny - WARNING - Restarting worker\n"
     ]
    },
    {
     "name": "stdout",
     "output_type": "stream",
     "text": [
      "Filtering curl\n",
      "**2 and temp mean\n"
     ]
    }
   ],
   "source": [
    "%%time\n",
    "print('Computing curl')\n",
    "curl_surf=curl(u_rechunk,v_rechunk,e1v,e2u,ff)\n",
    "curl_surf.load()"
   ]
  },
  {
   "cell_type": "code",
   "execution_count": null,
   "metadata": {},
   "outputs": [],
   "source": [
    "%%time\n",
    "print('Filtering curl')\n",
    "curl_SS=filt(curl_surf)\n",
    "curl_LS=curl_surf-curl_SS\n",
    "hpcurl=curl_SS\n",
    "hpcurl.load()"
   ]
  },
  {
   "cell_type": "code",
   "execution_count": null,
   "metadata": {},
   "outputs": [],
   "source": [
    "%%time\n",
    "print('**2 and temp mean')\n",
    "hpcurl2 = hpcurl ** 2\n",
    "hpcurl2m = hpcurl2.mean(axis=0,keep_attrs=True)\n",
    "hpcurl2m.load()"
   ]
  },
  {
   "cell_type": "code",
   "execution_count": 13,
   "metadata": {},
   "outputs": [
    {
     "name": "stdout",
     "output_type": "stream",
     "text": [
      "Coarsening of the grid\n"
     ]
    }
   ],
   "source": [
    "%%time\n",
    "print('Coarsening of the grid')\n",
    "latcrsm=coarse_var(navlat)\n",
    "loncrsm=coarse_var(navlon)\n",
    "latcrsm.load()  \n",
    "loncrsm.load()      "
   ]
  },
  {
   "cell_type": "code",
   "execution_count": 15,
   "metadata": {},
   "outputs": [],
   "source": [
    "%%time\n",
    "print('Coarsening of the filtered curl')\n",
    "hpcurl2mcm = coarse_var(hpcurl2m)\n",
    "hpcurl2mcm.load()"
   ]
  },
  {
   "cell_type": "code",
   "execution_count": 17,
   "metadata": {},
   "outputs": [
    {
     "name": "stderr",
     "output_type": "stream",
     "text": [
      "distributed.nanny - WARNING - Restarting worker\n",
      "distributed.nanny - WARNING - Restarting worker\n",
      "distributed.nanny - WARNING - Restarting worker\n",
      "distributed.nanny - WARNING - Restarting worker\n",
      "distributed.nanny - WARNING - Restarting worker\n",
      "distributed.nanny - WARNING - Restarting worker\n",
      "distributed.nanny - WARNING - Restarting worker\n",
      "distributed.nanny - WARNING - Restarting worker\n",
      "distributed.utils_perf - WARNING - full garbage collections took 10% CPU time recently (threshold: 10%)\n",
      "distributed.utils_perf - WARNING - full garbage collections took 11% CPU time recently (threshold: 10%)\n",
      "distributed.utils_perf - WARNING - full garbage collections took 11% CPU time recently (threshold: 10%)\n",
      "distributed.utils_perf - WARNING - full garbage collections took 11% CPU time recently (threshold: 10%)\n",
      "distributed.utils_perf - WARNING - full garbage collections took 11% CPU time recently (threshold: 10%)\n",
      "distributed.utils_perf - WARNING - full garbage collections took 12% CPU time recently (threshold: 10%)\n",
      "distributed.utils_perf - WARNING - full garbage collections took 12% CPU time recently (threshold: 10%)\n",
      "distributed.utils_perf - WARNING - full garbage collections took 12% CPU time recently (threshold: 10%)\n",
      "distributed.utils_perf - WARNING - full garbage collections took 12% CPU time recently (threshold: 10%)\n",
      "distributed.utils_perf - WARNING - full garbage collections took 13% CPU time recently (threshold: 10%)\n",
      "distributed.utils_perf - WARNING - full garbage collections took 12% CPU time recently (threshold: 10%)\n",
      "distributed.utils_perf - WARNING - full garbage collections took 13% CPU time recently (threshold: 10%)\n",
      "distributed.utils_perf - WARNING - full garbage collections took 13% CPU time recently (threshold: 10%)\n",
      "distributed.utils_perf - WARNING - full garbage collections took 14% CPU time recently (threshold: 10%)\n",
      "distributed.utils_perf - WARNING - full garbage collections took 15% CPU time recently (threshold: 10%)\n",
      "distributed.utils_perf - WARNING - full garbage collections took 16% CPU time recently (threshold: 10%)\n",
      "distributed.utils_perf - WARNING - full garbage collections took 16% CPU time recently (threshold: 10%)\n",
      "distributed.scheduler - ERROR - Couldn't gather keys {\"('truediv-03ec856501025805ca4462510d572005', 0, 0, 0)\": []} state: ['waiting'] workers: []\n",
      "NoneType: None\n",
      "distributed.scheduler - ERROR - Workers don't have promised key: [], ('truediv-03ec856501025805ca4462510d572005', 0, 0, 0)\n",
      "NoneType: None\n",
      "distributed.scheduler - ERROR - Couldn't gather keys {\"('truediv-03ec856501025805ca4462510d572005', 0, 0, 0)\": []} state: ['waiting'] workers: []\n",
      "NoneType: None\n",
      "distributed.scheduler - ERROR - Workers don't have promised key: [], ('truediv-03ec856501025805ca4462510d572005', 0, 0, 0)\n",
      "NoneType: None\n",
      "distributed.scheduler - ERROR - Couldn't gather keys {\"('truediv-03ec856501025805ca4462510d572005', 0, 0, 0)\": []} state: ['waiting'] workers: []\n",
      "NoneType: None\n",
      "distributed.scheduler - ERROR - Workers don't have promised key: [], ('truediv-03ec856501025805ca4462510d572005', 0, 0, 0)\n",
      "NoneType: None\n",
      "distributed.scheduler - ERROR - Couldn't gather keys {\"('truediv-03ec856501025805ca4462510d572005', 0, 0, 0)\": []} state: ['waiting'] workers: []\n",
      "NoneType: None\n",
      "distributed.scheduler - ERROR - Workers don't have promised key: [], ('truediv-03ec856501025805ca4462510d572005', 0, 0, 0)\n",
      "NoneType: None\n",
      "distributed.scheduler - ERROR - Couldn't gather keys {\"('truediv-03ec856501025805ca4462510d572005', 0, 0, 0)\": []} state: ['waiting'] workers: []\n",
      "NoneType: None\n",
      "distributed.scheduler - ERROR - Workers don't have promised key: [], ('truediv-03ec856501025805ca4462510d572005', 0, 0, 0)\n",
      "NoneType: None\n",
      "distributed.scheduler - ERROR - Couldn't gather keys {\"('truediv-03ec856501025805ca4462510d572005', 0, 0, 0)\": []} state: ['waiting'] workers: []\n",
      "NoneType: None\n",
      "distributed.scheduler - ERROR - Workers don't have promised key: [], ('truediv-03ec856501025805ca4462510d572005', 0, 0, 0)\n",
      "NoneType: None\n",
      "distributed.scheduler - ERROR - Couldn't gather keys {\"('truediv-03ec856501025805ca4462510d572005', 0, 0, 0)\": []} state: ['waiting'] workers: []\n",
      "NoneType: None\n",
      "distributed.scheduler - ERROR - Workers don't have promised key: [], ('truediv-03ec856501025805ca4462510d572005', 0, 0, 0)\n",
      "NoneType: None\n",
      "distributed.scheduler - ERROR - Couldn't gather keys {\"('truediv-03ec856501025805ca4462510d572005', 0, 0, 0)\": []} state: ['waiting'] workers: []\n",
      "NoneType: None\n",
      "distributed.scheduler - ERROR - Workers don't have promised key: [], ('truediv-03ec856501025805ca4462510d572005', 0, 0, 0)\n",
      "NoneType: None\n",
      "distributed.utils_perf - WARNING - full garbage collections took 16% CPU time recently (threshold: 10%)\n",
      "distributed.scheduler - ERROR - Couldn't gather keys {\"('truediv-03ec856501025805ca4462510d572005', 0, 0, 0)\": ['tcp://127.0.0.1:46338']} state: ['memory'] workers: ['tcp://127.0.0.1:46338']\n",
      "NoneType: None\n",
      "distributed.scheduler - ERROR - Workers don't have promised key: ['tcp://127.0.0.1:46338'], ('truediv-03ec856501025805ca4462510d572005', 0, 0, 0)\n",
      "NoneType: None\n",
      "distributed.scheduler - ERROR - Couldn't gather keys {\"('truediv-03ec856501025805ca4462510d572005', 0, 0, 0)\": ['tcp://127.0.0.1:46338']} state: ['waiting'] workers: ['tcp://127.0.0.1:46338']\n",
      "NoneType: None\n",
      "distributed.scheduler - ERROR - Workers don't have promised key: ['tcp://127.0.0.1:46338'], ('truediv-03ec856501025805ca4462510d572005', 0, 0, 0)\n",
      "NoneType: None\n",
      "distributed.scheduler - ERROR - Couldn't gather keys {\"('truediv-03ec856501025805ca4462510d572005', 0, 0, 0)\": []} state: ['waiting'] workers: []\n",
      "NoneType: None\n",
      "distributed.scheduler - ERROR - Workers don't have promised key: [], ('truediv-03ec856501025805ca4462510d572005', 0, 0, 0)\n",
      "NoneType: None\n",
      "distributed.scheduler - ERROR - Couldn't gather keys {\"('truediv-03ec856501025805ca4462510d572005', 0, 0, 0)\": []} state: ['waiting'] workers: []\n",
      "NoneType: None\n",
      "distributed.scheduler - ERROR - Workers don't have promised key: [], ('truediv-03ec856501025805ca4462510d572005', 0, 0, 0)\n",
      "NoneType: None\n",
      "distributed.scheduler - ERROR - Couldn't gather keys {\"('truediv-03ec856501025805ca4462510d572005', 0, 0, 0)\": []} state: ['waiting'] workers: []\n",
      "NoneType: None\n",
      "distributed.scheduler - ERROR - Workers don't have promised key: [], ('truediv-03ec856501025805ca4462510d572005', 0, 0, 0)\n",
      "NoneType: None\n",
      "distributed.scheduler - ERROR - Couldn't gather keys {\"('truediv-03ec856501025805ca4462510d572005', 0, 0, 0)\": []} state: ['waiting'] workers: []\n",
      "NoneType: None\n",
      "distributed.scheduler - ERROR - Workers don't have promised key: [], ('truediv-03ec856501025805ca4462510d572005', 0, 0, 0)\n",
      "NoneType: None\n"
     ]
    },
    {
     "ename": "KilledWorker",
     "evalue": "(\"('block-info-_trim-bb2af0e95fdf6aa2cf0893468bf51d9c', 435, 2, 2)\", <Worker 'tcp://127.0.0.1:46338', name: 7, memory: 0, processing: 83671>)",
     "output_type": "error",
     "traceback": [
      "\u001b[0;31m---------------------------------------------------------------------------\u001b[0m",
      "\u001b[0;31mKilledWorker\u001b[0m                              Traceback (most recent call last)",
      "\u001b[0;32m<ipython-input-17-7648ff54747a>\u001b[0m in \u001b[0;36m<module>\u001b[0;34m\u001b[0m\n\u001b[0;32m----> 1\u001b[0;31m \u001b[0mhpcurl2mcm\u001b[0m\u001b[0;34m.\u001b[0m\u001b[0mto_netcdf\u001b[0m\u001b[0;34m(\u001b[0m\u001b[0mpath\u001b[0m\u001b[0;34m=\u001b[0m\u001b[0;34m'/scratch/cnt0024/hmg2840/albert7a/eNATL60/eNATL60-BLBT02-S/vort-var/eNATL60-BLBT02_vort-var_y2010m03.nc'\u001b[0m\u001b[0;34m)\u001b[0m\u001b[0;34m\u001b[0m\u001b[0;34m\u001b[0m\u001b[0m\n\u001b[0m",
      "\u001b[0;32m/scratch/cnt0024/hmg2840/albert7a/anaconda3/lib/python3.7/site-packages/xarray/core/dataarray.py\u001b[0m in \u001b[0;36mto_netcdf\u001b[0;34m(self, *args, **kwargs)\u001b[0m\n\u001b[1;32m   2332\u001b[0m             \u001b[0mdataset\u001b[0m \u001b[0;34m=\u001b[0m \u001b[0mself\u001b[0m\u001b[0;34m.\u001b[0m\u001b[0mto_dataset\u001b[0m\u001b[0;34m(\u001b[0m\u001b[0;34m)\u001b[0m\u001b[0;34m\u001b[0m\u001b[0;34m\u001b[0m\u001b[0m\n\u001b[1;32m   2333\u001b[0m \u001b[0;34m\u001b[0m\u001b[0m\n\u001b[0;32m-> 2334\u001b[0;31m         \u001b[0;32mreturn\u001b[0m \u001b[0mdataset\u001b[0m\u001b[0;34m.\u001b[0m\u001b[0mto_netcdf\u001b[0m\u001b[0;34m(\u001b[0m\u001b[0;34m*\u001b[0m\u001b[0margs\u001b[0m\u001b[0;34m,\u001b[0m \u001b[0;34m**\u001b[0m\u001b[0mkwargs\u001b[0m\u001b[0;34m)\u001b[0m\u001b[0;34m\u001b[0m\u001b[0;34m\u001b[0m\u001b[0m\n\u001b[0m\u001b[1;32m   2335\u001b[0m \u001b[0;34m\u001b[0m\u001b[0m\n\u001b[1;32m   2336\u001b[0m     \u001b[0;32mdef\u001b[0m \u001b[0mto_dict\u001b[0m\u001b[0;34m(\u001b[0m\u001b[0mself\u001b[0m\u001b[0;34m,\u001b[0m \u001b[0mdata\u001b[0m\u001b[0;34m:\u001b[0m \u001b[0mbool\u001b[0m \u001b[0;34m=\u001b[0m \u001b[0;32mTrue\u001b[0m\u001b[0;34m)\u001b[0m \u001b[0;34m->\u001b[0m \u001b[0mdict\u001b[0m\u001b[0;34m:\u001b[0m\u001b[0;34m\u001b[0m\u001b[0;34m\u001b[0m\u001b[0m\n",
      "\u001b[0;32m/scratch/cnt0024/hmg2840/albert7a/anaconda3/lib/python3.7/site-packages/xarray/core/dataset.py\u001b[0m in \u001b[0;36mto_netcdf\u001b[0;34m(self, path, mode, format, group, engine, encoding, unlimited_dims, compute, invalid_netcdf)\u001b[0m\n\u001b[1;32m   1545\u001b[0m             \u001b[0munlimited_dims\u001b[0m\u001b[0;34m=\u001b[0m\u001b[0munlimited_dims\u001b[0m\u001b[0;34m,\u001b[0m\u001b[0;34m\u001b[0m\u001b[0;34m\u001b[0m\u001b[0m\n\u001b[1;32m   1546\u001b[0m             \u001b[0mcompute\u001b[0m\u001b[0;34m=\u001b[0m\u001b[0mcompute\u001b[0m\u001b[0;34m,\u001b[0m\u001b[0;34m\u001b[0m\u001b[0;34m\u001b[0m\u001b[0m\n\u001b[0;32m-> 1547\u001b[0;31m             \u001b[0minvalid_netcdf\u001b[0m\u001b[0;34m=\u001b[0m\u001b[0minvalid_netcdf\u001b[0m\u001b[0;34m,\u001b[0m\u001b[0;34m\u001b[0m\u001b[0;34m\u001b[0m\u001b[0m\n\u001b[0m\u001b[1;32m   1548\u001b[0m         )\n\u001b[1;32m   1549\u001b[0m \u001b[0;34m\u001b[0m\u001b[0m\n",
      "\u001b[0;32m/scratch/cnt0024/hmg2840/albert7a/anaconda3/lib/python3.7/site-packages/xarray/backends/api.py\u001b[0m in \u001b[0;36mto_netcdf\u001b[0;34m(dataset, path_or_file, mode, format, group, engine, encoding, unlimited_dims, compute, multifile, invalid_netcdf)\u001b[0m\n\u001b[1;32m   1079\u001b[0m             \u001b[0;32mreturn\u001b[0m \u001b[0mwriter\u001b[0m\u001b[0;34m,\u001b[0m \u001b[0mstore\u001b[0m\u001b[0;34m\u001b[0m\u001b[0;34m\u001b[0m\u001b[0m\n\u001b[1;32m   1080\u001b[0m \u001b[0;34m\u001b[0m\u001b[0m\n\u001b[0;32m-> 1081\u001b[0;31m         \u001b[0mwrites\u001b[0m \u001b[0;34m=\u001b[0m \u001b[0mwriter\u001b[0m\u001b[0;34m.\u001b[0m\u001b[0msync\u001b[0m\u001b[0;34m(\u001b[0m\u001b[0mcompute\u001b[0m\u001b[0;34m=\u001b[0m\u001b[0mcompute\u001b[0m\u001b[0;34m)\u001b[0m\u001b[0;34m\u001b[0m\u001b[0;34m\u001b[0m\u001b[0m\n\u001b[0m\u001b[1;32m   1082\u001b[0m \u001b[0;34m\u001b[0m\u001b[0m\n\u001b[1;32m   1083\u001b[0m         \u001b[0;32mif\u001b[0m \u001b[0mpath_or_file\u001b[0m \u001b[0;32mis\u001b[0m \u001b[0;32mNone\u001b[0m\u001b[0;34m:\u001b[0m\u001b[0;34m\u001b[0m\u001b[0;34m\u001b[0m\u001b[0m\n",
      "\u001b[0;32m/scratch/cnt0024/hmg2840/albert7a/anaconda3/lib/python3.7/site-packages/xarray/backends/common.py\u001b[0m in \u001b[0;36msync\u001b[0;34m(self, compute)\u001b[0m\n\u001b[1;32m    202\u001b[0m                 \u001b[0mcompute\u001b[0m\u001b[0;34m=\u001b[0m\u001b[0mcompute\u001b[0m\u001b[0;34m,\u001b[0m\u001b[0;34m\u001b[0m\u001b[0;34m\u001b[0m\u001b[0m\n\u001b[1;32m    203\u001b[0m                 \u001b[0mflush\u001b[0m\u001b[0;34m=\u001b[0m\u001b[0;32mTrue\u001b[0m\u001b[0;34m,\u001b[0m\u001b[0;34m\u001b[0m\u001b[0;34m\u001b[0m\u001b[0m\n\u001b[0;32m--> 204\u001b[0;31m                 \u001b[0mregions\u001b[0m\u001b[0;34m=\u001b[0m\u001b[0mself\u001b[0m\u001b[0;34m.\u001b[0m\u001b[0mregions\u001b[0m\u001b[0;34m,\u001b[0m\u001b[0;34m\u001b[0m\u001b[0;34m\u001b[0m\u001b[0m\n\u001b[0m\u001b[1;32m    205\u001b[0m             )\n\u001b[1;32m    206\u001b[0m             \u001b[0mself\u001b[0m\u001b[0;34m.\u001b[0m\u001b[0msources\u001b[0m \u001b[0;34m=\u001b[0m \u001b[0;34m[\u001b[0m\u001b[0;34m]\u001b[0m\u001b[0;34m\u001b[0m\u001b[0;34m\u001b[0m\u001b[0m\n",
      "\u001b[0;32m/scratch/cnt0024/hmg2840/albert7a/anaconda3/lib/python3.7/site-packages/dask/array/core.py\u001b[0m in \u001b[0;36mstore\u001b[0;34m(sources, targets, lock, regions, compute, return_stored, **kwargs)\u001b[0m\n\u001b[1;32m    944\u001b[0m \u001b[0;34m\u001b[0m\u001b[0m\n\u001b[1;32m    945\u001b[0m         \u001b[0;32mif\u001b[0m \u001b[0mcompute\u001b[0m\u001b[0;34m:\u001b[0m\u001b[0;34m\u001b[0m\u001b[0;34m\u001b[0m\u001b[0m\n\u001b[0;32m--> 946\u001b[0;31m             \u001b[0mresult\u001b[0m\u001b[0;34m.\u001b[0m\u001b[0mcompute\u001b[0m\u001b[0;34m(\u001b[0m\u001b[0;34m**\u001b[0m\u001b[0mkwargs\u001b[0m\u001b[0;34m)\u001b[0m\u001b[0;34m\u001b[0m\u001b[0;34m\u001b[0m\u001b[0m\n\u001b[0m\u001b[1;32m    947\u001b[0m             \u001b[0;32mreturn\u001b[0m \u001b[0;32mNone\u001b[0m\u001b[0;34m\u001b[0m\u001b[0;34m\u001b[0m\u001b[0m\n\u001b[1;32m    948\u001b[0m         \u001b[0;32melse\u001b[0m\u001b[0;34m:\u001b[0m\u001b[0;34m\u001b[0m\u001b[0;34m\u001b[0m\u001b[0m\n",
      "\u001b[0;32m/scratch/cnt0024/hmg2840/albert7a/anaconda3/lib/python3.7/site-packages/dask/base.py\u001b[0m in \u001b[0;36mcompute\u001b[0;34m(self, **kwargs)\u001b[0m\n\u001b[1;32m    164\u001b[0m         \u001b[0mdask\u001b[0m\u001b[0;34m.\u001b[0m\u001b[0mbase\u001b[0m\u001b[0;34m.\u001b[0m\u001b[0mcompute\u001b[0m\u001b[0;34m\u001b[0m\u001b[0;34m\u001b[0m\u001b[0m\n\u001b[1;32m    165\u001b[0m         \"\"\"\n\u001b[0;32m--> 166\u001b[0;31m         \u001b[0;34m(\u001b[0m\u001b[0mresult\u001b[0m\u001b[0;34m,\u001b[0m\u001b[0;34m)\u001b[0m \u001b[0;34m=\u001b[0m \u001b[0mcompute\u001b[0m\u001b[0;34m(\u001b[0m\u001b[0mself\u001b[0m\u001b[0;34m,\u001b[0m \u001b[0mtraverse\u001b[0m\u001b[0;34m=\u001b[0m\u001b[0;32mFalse\u001b[0m\u001b[0;34m,\u001b[0m \u001b[0;34m**\u001b[0m\u001b[0mkwargs\u001b[0m\u001b[0;34m)\u001b[0m\u001b[0;34m\u001b[0m\u001b[0;34m\u001b[0m\u001b[0m\n\u001b[0m\u001b[1;32m    167\u001b[0m         \u001b[0;32mreturn\u001b[0m \u001b[0mresult\u001b[0m\u001b[0;34m\u001b[0m\u001b[0;34m\u001b[0m\u001b[0m\n\u001b[1;32m    168\u001b[0m \u001b[0;34m\u001b[0m\u001b[0m\n",
      "\u001b[0;32m/scratch/cnt0024/hmg2840/albert7a/anaconda3/lib/python3.7/site-packages/dask/base.py\u001b[0m in \u001b[0;36mcompute\u001b[0;34m(*args, **kwargs)\u001b[0m\n\u001b[1;32m    435\u001b[0m     \u001b[0mkeys\u001b[0m \u001b[0;34m=\u001b[0m \u001b[0;34m[\u001b[0m\u001b[0mx\u001b[0m\u001b[0;34m.\u001b[0m\u001b[0m__dask_keys__\u001b[0m\u001b[0;34m(\u001b[0m\u001b[0;34m)\u001b[0m \u001b[0;32mfor\u001b[0m \u001b[0mx\u001b[0m \u001b[0;32min\u001b[0m \u001b[0mcollections\u001b[0m\u001b[0;34m]\u001b[0m\u001b[0;34m\u001b[0m\u001b[0;34m\u001b[0m\u001b[0m\n\u001b[1;32m    436\u001b[0m     \u001b[0mpostcomputes\u001b[0m \u001b[0;34m=\u001b[0m \u001b[0;34m[\u001b[0m\u001b[0mx\u001b[0m\u001b[0;34m.\u001b[0m\u001b[0m__dask_postcompute__\u001b[0m\u001b[0;34m(\u001b[0m\u001b[0;34m)\u001b[0m \u001b[0;32mfor\u001b[0m \u001b[0mx\u001b[0m \u001b[0;32min\u001b[0m \u001b[0mcollections\u001b[0m\u001b[0;34m]\u001b[0m\u001b[0;34m\u001b[0m\u001b[0;34m\u001b[0m\u001b[0m\n\u001b[0;32m--> 437\u001b[0;31m     \u001b[0mresults\u001b[0m \u001b[0;34m=\u001b[0m \u001b[0mschedule\u001b[0m\u001b[0;34m(\u001b[0m\u001b[0mdsk\u001b[0m\u001b[0;34m,\u001b[0m \u001b[0mkeys\u001b[0m\u001b[0;34m,\u001b[0m \u001b[0;34m**\u001b[0m\u001b[0mkwargs\u001b[0m\u001b[0;34m)\u001b[0m\u001b[0;34m\u001b[0m\u001b[0;34m\u001b[0m\u001b[0m\n\u001b[0m\u001b[1;32m    438\u001b[0m     \u001b[0;32mreturn\u001b[0m \u001b[0mrepack\u001b[0m\u001b[0;34m(\u001b[0m\u001b[0;34m[\u001b[0m\u001b[0mf\u001b[0m\u001b[0;34m(\u001b[0m\u001b[0mr\u001b[0m\u001b[0;34m,\u001b[0m \u001b[0;34m*\u001b[0m\u001b[0ma\u001b[0m\u001b[0;34m)\u001b[0m \u001b[0;32mfor\u001b[0m \u001b[0mr\u001b[0m\u001b[0;34m,\u001b[0m \u001b[0;34m(\u001b[0m\u001b[0mf\u001b[0m\u001b[0;34m,\u001b[0m \u001b[0ma\u001b[0m\u001b[0;34m)\u001b[0m \u001b[0;32min\u001b[0m \u001b[0mzip\u001b[0m\u001b[0;34m(\u001b[0m\u001b[0mresults\u001b[0m\u001b[0;34m,\u001b[0m \u001b[0mpostcomputes\u001b[0m\u001b[0;34m)\u001b[0m\u001b[0;34m]\u001b[0m\u001b[0;34m)\u001b[0m\u001b[0;34m\u001b[0m\u001b[0;34m\u001b[0m\u001b[0m\n\u001b[1;32m    439\u001b[0m \u001b[0;34m\u001b[0m\u001b[0m\n",
      "\u001b[0;32m/scratch/cnt0024/hmg2840/albert7a/anaconda3/lib/python3.7/site-packages/distributed/client.py\u001b[0m in \u001b[0;36mget\u001b[0;34m(self, dsk, keys, restrictions, loose_restrictions, resources, sync, asynchronous, direct, retries, priority, fifo_timeout, actors, **kwargs)\u001b[0m\n\u001b[1;32m   2593\u001b[0m                     \u001b[0mshould_rejoin\u001b[0m \u001b[0;34m=\u001b[0m \u001b[0;32mFalse\u001b[0m\u001b[0;34m\u001b[0m\u001b[0;34m\u001b[0m\u001b[0m\n\u001b[1;32m   2594\u001b[0m             \u001b[0;32mtry\u001b[0m\u001b[0;34m:\u001b[0m\u001b[0;34m\u001b[0m\u001b[0;34m\u001b[0m\u001b[0m\n\u001b[0;32m-> 2595\u001b[0;31m                 \u001b[0mresults\u001b[0m \u001b[0;34m=\u001b[0m \u001b[0mself\u001b[0m\u001b[0;34m.\u001b[0m\u001b[0mgather\u001b[0m\u001b[0;34m(\u001b[0m\u001b[0mpacked\u001b[0m\u001b[0;34m,\u001b[0m \u001b[0masynchronous\u001b[0m\u001b[0;34m=\u001b[0m\u001b[0masynchronous\u001b[0m\u001b[0;34m,\u001b[0m \u001b[0mdirect\u001b[0m\u001b[0;34m=\u001b[0m\u001b[0mdirect\u001b[0m\u001b[0;34m)\u001b[0m\u001b[0;34m\u001b[0m\u001b[0;34m\u001b[0m\u001b[0m\n\u001b[0m\u001b[1;32m   2596\u001b[0m             \u001b[0;32mfinally\u001b[0m\u001b[0;34m:\u001b[0m\u001b[0;34m\u001b[0m\u001b[0;34m\u001b[0m\u001b[0m\n\u001b[1;32m   2597\u001b[0m                 \u001b[0;32mfor\u001b[0m \u001b[0mf\u001b[0m \u001b[0;32min\u001b[0m \u001b[0mfutures\u001b[0m\u001b[0;34m.\u001b[0m\u001b[0mvalues\u001b[0m\u001b[0;34m(\u001b[0m\u001b[0;34m)\u001b[0m\u001b[0;34m:\u001b[0m\u001b[0;34m\u001b[0m\u001b[0;34m\u001b[0m\u001b[0m\n",
      "\u001b[0;32m/scratch/cnt0024/hmg2840/albert7a/anaconda3/lib/python3.7/site-packages/distributed/client.py\u001b[0m in \u001b[0;36mgather\u001b[0;34m(self, futures, errors, direct, asynchronous)\u001b[0m\n\u001b[1;32m   1892\u001b[0m                 \u001b[0mdirect\u001b[0m\u001b[0;34m=\u001b[0m\u001b[0mdirect\u001b[0m\u001b[0;34m,\u001b[0m\u001b[0;34m\u001b[0m\u001b[0;34m\u001b[0m\u001b[0m\n\u001b[1;32m   1893\u001b[0m                 \u001b[0mlocal_worker\u001b[0m\u001b[0;34m=\u001b[0m\u001b[0mlocal_worker\u001b[0m\u001b[0;34m,\u001b[0m\u001b[0;34m\u001b[0m\u001b[0;34m\u001b[0m\u001b[0m\n\u001b[0;32m-> 1894\u001b[0;31m                 \u001b[0masynchronous\u001b[0m\u001b[0;34m=\u001b[0m\u001b[0masynchronous\u001b[0m\u001b[0;34m,\u001b[0m\u001b[0;34m\u001b[0m\u001b[0;34m\u001b[0m\u001b[0m\n\u001b[0m\u001b[1;32m   1895\u001b[0m             )\n\u001b[1;32m   1896\u001b[0m \u001b[0;34m\u001b[0m\u001b[0m\n",
      "\u001b[0;32m/scratch/cnt0024/hmg2840/albert7a/anaconda3/lib/python3.7/site-packages/distributed/client.py\u001b[0m in \u001b[0;36msync\u001b[0;34m(self, func, asynchronous, callback_timeout, *args, **kwargs)\u001b[0m\n\u001b[1;32m    776\u001b[0m         \u001b[0;32melse\u001b[0m\u001b[0;34m:\u001b[0m\u001b[0;34m\u001b[0m\u001b[0;34m\u001b[0m\u001b[0m\n\u001b[1;32m    777\u001b[0m             return sync(\n\u001b[0;32m--> 778\u001b[0;31m                 \u001b[0mself\u001b[0m\u001b[0;34m.\u001b[0m\u001b[0mloop\u001b[0m\u001b[0;34m,\u001b[0m \u001b[0mfunc\u001b[0m\u001b[0;34m,\u001b[0m \u001b[0;34m*\u001b[0m\u001b[0margs\u001b[0m\u001b[0;34m,\u001b[0m \u001b[0mcallback_timeout\u001b[0m\u001b[0;34m=\u001b[0m\u001b[0mcallback_timeout\u001b[0m\u001b[0;34m,\u001b[0m \u001b[0;34m**\u001b[0m\u001b[0mkwargs\u001b[0m\u001b[0;34m\u001b[0m\u001b[0;34m\u001b[0m\u001b[0m\n\u001b[0m\u001b[1;32m    779\u001b[0m             )\n\u001b[1;32m    780\u001b[0m \u001b[0;34m\u001b[0m\u001b[0m\n",
      "\u001b[0;32m/scratch/cnt0024/hmg2840/albert7a/anaconda3/lib/python3.7/site-packages/distributed/utils.py\u001b[0m in \u001b[0;36msync\u001b[0;34m(loop, func, callback_timeout, *args, **kwargs)\u001b[0m\n\u001b[1;32m    346\u001b[0m     \u001b[0;32mif\u001b[0m \u001b[0merror\u001b[0m\u001b[0;34m[\u001b[0m\u001b[0;36m0\u001b[0m\u001b[0;34m]\u001b[0m\u001b[0;34m:\u001b[0m\u001b[0;34m\u001b[0m\u001b[0;34m\u001b[0m\u001b[0m\n\u001b[1;32m    347\u001b[0m         \u001b[0mtyp\u001b[0m\u001b[0;34m,\u001b[0m \u001b[0mexc\u001b[0m\u001b[0;34m,\u001b[0m \u001b[0mtb\u001b[0m \u001b[0;34m=\u001b[0m \u001b[0merror\u001b[0m\u001b[0;34m[\u001b[0m\u001b[0;36m0\u001b[0m\u001b[0;34m]\u001b[0m\u001b[0;34m\u001b[0m\u001b[0;34m\u001b[0m\u001b[0m\n\u001b[0;32m--> 348\u001b[0;31m         \u001b[0;32mraise\u001b[0m \u001b[0mexc\u001b[0m\u001b[0;34m.\u001b[0m\u001b[0mwith_traceback\u001b[0m\u001b[0;34m(\u001b[0m\u001b[0mtb\u001b[0m\u001b[0;34m)\u001b[0m\u001b[0;34m\u001b[0m\u001b[0;34m\u001b[0m\u001b[0m\n\u001b[0m\u001b[1;32m    349\u001b[0m     \u001b[0;32melse\u001b[0m\u001b[0;34m:\u001b[0m\u001b[0;34m\u001b[0m\u001b[0;34m\u001b[0m\u001b[0m\n\u001b[1;32m    350\u001b[0m         \u001b[0;32mreturn\u001b[0m \u001b[0mresult\u001b[0m\u001b[0;34m[\u001b[0m\u001b[0;36m0\u001b[0m\u001b[0;34m]\u001b[0m\u001b[0;34m\u001b[0m\u001b[0;34m\u001b[0m\u001b[0m\n",
      "\u001b[0;32m/scratch/cnt0024/hmg2840/albert7a/anaconda3/lib/python3.7/site-packages/distributed/utils.py\u001b[0m in \u001b[0;36mf\u001b[0;34m()\u001b[0m\n\u001b[1;32m    330\u001b[0m             \u001b[0;32mif\u001b[0m \u001b[0mcallback_timeout\u001b[0m \u001b[0;32mis\u001b[0m \u001b[0;32mnot\u001b[0m \u001b[0;32mNone\u001b[0m\u001b[0;34m:\u001b[0m\u001b[0;34m\u001b[0m\u001b[0;34m\u001b[0m\u001b[0m\n\u001b[1;32m    331\u001b[0m                 \u001b[0mfuture\u001b[0m \u001b[0;34m=\u001b[0m \u001b[0masyncio\u001b[0m\u001b[0;34m.\u001b[0m\u001b[0mwait_for\u001b[0m\u001b[0;34m(\u001b[0m\u001b[0mfuture\u001b[0m\u001b[0;34m,\u001b[0m \u001b[0mcallback_timeout\u001b[0m\u001b[0;34m)\u001b[0m\u001b[0;34m\u001b[0m\u001b[0;34m\u001b[0m\u001b[0m\n\u001b[0;32m--> 332\u001b[0;31m             \u001b[0mresult\u001b[0m\u001b[0;34m[\u001b[0m\u001b[0;36m0\u001b[0m\u001b[0;34m]\u001b[0m \u001b[0;34m=\u001b[0m \u001b[0;32myield\u001b[0m \u001b[0mfuture\u001b[0m\u001b[0;34m\u001b[0m\u001b[0;34m\u001b[0m\u001b[0m\n\u001b[0m\u001b[1;32m    333\u001b[0m         \u001b[0;32mexcept\u001b[0m \u001b[0mException\u001b[0m \u001b[0;32mas\u001b[0m \u001b[0mexc\u001b[0m\u001b[0;34m:\u001b[0m\u001b[0;34m\u001b[0m\u001b[0;34m\u001b[0m\u001b[0m\n\u001b[1;32m    334\u001b[0m             \u001b[0merror\u001b[0m\u001b[0;34m[\u001b[0m\u001b[0;36m0\u001b[0m\u001b[0;34m]\u001b[0m \u001b[0;34m=\u001b[0m \u001b[0msys\u001b[0m\u001b[0;34m.\u001b[0m\u001b[0mexc_info\u001b[0m\u001b[0;34m(\u001b[0m\u001b[0;34m)\u001b[0m\u001b[0;34m\u001b[0m\u001b[0;34m\u001b[0m\u001b[0m\n",
      "\u001b[0;32m/scratch/cnt0024/hmg2840/albert7a/anaconda3/lib/python3.7/site-packages/tornado/gen.py\u001b[0m in \u001b[0;36mrun\u001b[0;34m(self)\u001b[0m\n\u001b[1;32m    733\u001b[0m \u001b[0;34m\u001b[0m\u001b[0m\n\u001b[1;32m    734\u001b[0m                     \u001b[0;32mtry\u001b[0m\u001b[0;34m:\u001b[0m\u001b[0;34m\u001b[0m\u001b[0;34m\u001b[0m\u001b[0m\n\u001b[0;32m--> 735\u001b[0;31m                         \u001b[0mvalue\u001b[0m \u001b[0;34m=\u001b[0m \u001b[0mfuture\u001b[0m\u001b[0;34m.\u001b[0m\u001b[0mresult\u001b[0m\u001b[0;34m(\u001b[0m\u001b[0;34m)\u001b[0m\u001b[0;34m\u001b[0m\u001b[0;34m\u001b[0m\u001b[0m\n\u001b[0m\u001b[1;32m    736\u001b[0m                     \u001b[0;32mexcept\u001b[0m \u001b[0mException\u001b[0m\u001b[0;34m:\u001b[0m\u001b[0;34m\u001b[0m\u001b[0;34m\u001b[0m\u001b[0m\n\u001b[1;32m    737\u001b[0m                         \u001b[0mexc_info\u001b[0m \u001b[0;34m=\u001b[0m \u001b[0msys\u001b[0m\u001b[0;34m.\u001b[0m\u001b[0mexc_info\u001b[0m\u001b[0;34m(\u001b[0m\u001b[0;34m)\u001b[0m\u001b[0;34m\u001b[0m\u001b[0;34m\u001b[0m\u001b[0m\n",
      "\u001b[0;32m/scratch/cnt0024/hmg2840/albert7a/anaconda3/lib/python3.7/site-packages/distributed/client.py\u001b[0m in \u001b[0;36m_gather\u001b[0;34m(self, futures, errors, direct, local_worker)\u001b[0m\n\u001b[1;32m   1751\u001b[0m                             \u001b[0mexc\u001b[0m \u001b[0;34m=\u001b[0m \u001b[0mCancelledError\u001b[0m\u001b[0;34m(\u001b[0m\u001b[0mkey\u001b[0m\u001b[0;34m)\u001b[0m\u001b[0;34m\u001b[0m\u001b[0;34m\u001b[0m\u001b[0m\n\u001b[1;32m   1752\u001b[0m                         \u001b[0;32melse\u001b[0m\u001b[0;34m:\u001b[0m\u001b[0;34m\u001b[0m\u001b[0;34m\u001b[0m\u001b[0m\n\u001b[0;32m-> 1753\u001b[0;31m                             \u001b[0;32mraise\u001b[0m \u001b[0mexception\u001b[0m\u001b[0;34m.\u001b[0m\u001b[0mwith_traceback\u001b[0m\u001b[0;34m(\u001b[0m\u001b[0mtraceback\u001b[0m\u001b[0;34m)\u001b[0m\u001b[0;34m\u001b[0m\u001b[0;34m\u001b[0m\u001b[0m\n\u001b[0m\u001b[1;32m   1754\u001b[0m                         \u001b[0;32mraise\u001b[0m \u001b[0mexc\u001b[0m\u001b[0;34m\u001b[0m\u001b[0;34m\u001b[0m\u001b[0m\n\u001b[1;32m   1755\u001b[0m                     \u001b[0;32mif\u001b[0m \u001b[0merrors\u001b[0m \u001b[0;34m==\u001b[0m \u001b[0;34m\"skip\"\u001b[0m\u001b[0;34m:\u001b[0m\u001b[0;34m\u001b[0m\u001b[0;34m\u001b[0m\u001b[0m\n",
      "\u001b[0;31mKilledWorker\u001b[0m: (\"('block-info-_trim-bb2af0e95fdf6aa2cf0893468bf51d9c', 435, 2, 2)\", <Worker 'tcp://127.0.0.1:46338', name: 7, memory: 0, processing: 83671>)"
     ]
    },
    {
     "name": "stderr",
     "output_type": "stream",
     "text": [
      "distributed.core - ERROR - \"('mean_chunk-d60c68b78b3c4ed0ee4a8d12eb0a05b2', 59, 0, 0)\"\n",
      "Traceback (most recent call last):\n",
      "  File \"/scratch/cnt0024/hmg2840/albert7a/anaconda3/lib/python3.7/site-packages/distributed/core.py\", line 472, in handle_stream\n",
      "    handler(**merge(extra, msg))\n",
      "  File \"/scratch/cnt0024/hmg2840/albert7a/anaconda3/lib/python3.7/site-packages/distributed/scheduler.py\", line 2675, in handle_long_running\n",
      "    ts = self.tasks[key]\n",
      "KeyError: \"('mean_chunk-d60c68b78b3c4ed0ee4a8d12eb0a05b2', 59, 0, 0)\"\n",
      "distributed.utils - ERROR - \"('mean_chunk-d60c68b78b3c4ed0ee4a8d12eb0a05b2', 59, 0, 0)\"\n",
      "Traceback (most recent call last):\n",
      "  File \"/scratch/cnt0024/hmg2840/albert7a/anaconda3/lib/python3.7/site-packages/distributed/utils.py\", line 665, in log_errors\n",
      "    yield\n",
      "  File \"/scratch/cnt0024/hmg2840/albert7a/anaconda3/lib/python3.7/site-packages/distributed/scheduler.py\", line 1758, in add_worker\n",
      "    await self.handle_worker(comm=comm, worker=address)\n",
      "  File \"/scratch/cnt0024/hmg2840/albert7a/anaconda3/lib/python3.7/site-packages/distributed/scheduler.py\", line 2714, in handle_worker\n",
      "    await self.handle_stream(comm=comm, extra={\"worker\": worker})\n",
      "  File \"/scratch/cnt0024/hmg2840/albert7a/anaconda3/lib/python3.7/site-packages/distributed/core.py\", line 472, in handle_stream\n",
      "    handler(**merge(extra, msg))\n",
      "  File \"/scratch/cnt0024/hmg2840/albert7a/anaconda3/lib/python3.7/site-packages/distributed/scheduler.py\", line 2675, in handle_long_running\n",
      "    ts = self.tasks[key]\n",
      "KeyError: \"('mean_chunk-d60c68b78b3c4ed0ee4a8d12eb0a05b2', 59, 0, 0)\"\n",
      "distributed.core - ERROR - \"('mean_chunk-d60c68b78b3c4ed0ee4a8d12eb0a05b2', 59, 0, 0)\"\n",
      "Traceback (most recent call last):\n",
      "  File \"/scratch/cnt0024/hmg2840/albert7a/anaconda3/lib/python3.7/site-packages/distributed/core.py\", line 411, in handle_comm\n",
      "    result = await result\n",
      "  File \"/scratch/cnt0024/hmg2840/albert7a/anaconda3/lib/python3.7/site-packages/distributed/scheduler.py\", line 1758, in add_worker\n",
      "    await self.handle_worker(comm=comm, worker=address)\n",
      "  File \"/scratch/cnt0024/hmg2840/albert7a/anaconda3/lib/python3.7/site-packages/distributed/scheduler.py\", line 2714, in handle_worker\n",
      "    await self.handle_stream(comm=comm, extra={\"worker\": worker})\n",
      "  File \"/scratch/cnt0024/hmg2840/albert7a/anaconda3/lib/python3.7/site-packages/distributed/core.py\", line 472, in handle_stream\n",
      "    handler(**merge(extra, msg))\n",
      "  File \"/scratch/cnt0024/hmg2840/albert7a/anaconda3/lib/python3.7/site-packages/distributed/scheduler.py\", line 2675, in handle_long_running\n",
      "    ts = self.tasks[key]\n",
      "KeyError: \"('mean_chunk-d60c68b78b3c4ed0ee4a8d12eb0a05b2', 59, 0, 0)\"\n",
      "distributed.core - ERROR - \"('mean_chunk-d60c68b78b3c4ed0ee4a8d12eb0a05b2', 9, 0, 0)\"\n",
      "Traceback (most recent call last):\n",
      "  File \"/scratch/cnt0024/hmg2840/albert7a/anaconda3/lib/python3.7/site-packages/distributed/core.py\", line 472, in handle_stream\n",
      "    handler(**merge(extra, msg))\n",
      "  File \"/scratch/cnt0024/hmg2840/albert7a/anaconda3/lib/python3.7/site-packages/distributed/scheduler.py\", line 2675, in handle_long_running\n",
      "    ts = self.tasks[key]\n",
      "KeyError: \"('mean_chunk-d60c68b78b3c4ed0ee4a8d12eb0a05b2', 9, 0, 0)\"\n",
      "distributed.utils - ERROR - \"('mean_chunk-d60c68b78b3c4ed0ee4a8d12eb0a05b2', 9, 0, 0)\"\n",
      "Traceback (most recent call last):\n",
      "  File \"/scratch/cnt0024/hmg2840/albert7a/anaconda3/lib/python3.7/site-packages/distributed/utils.py\", line 665, in log_errors\n",
      "    yield\n",
      "  File \"/scratch/cnt0024/hmg2840/albert7a/anaconda3/lib/python3.7/site-packages/distributed/scheduler.py\", line 1758, in add_worker\n",
      "    await self.handle_worker(comm=comm, worker=address)\n",
      "  File \"/scratch/cnt0024/hmg2840/albert7a/anaconda3/lib/python3.7/site-packages/distributed/scheduler.py\", line 2714, in handle_worker\n",
      "    await self.handle_stream(comm=comm, extra={\"worker\": worker})\n",
      "  File \"/scratch/cnt0024/hmg2840/albert7a/anaconda3/lib/python3.7/site-packages/distributed/core.py\", line 472, in handle_stream\n",
      "    handler(**merge(extra, msg))\n",
      "  File \"/scratch/cnt0024/hmg2840/albert7a/anaconda3/lib/python3.7/site-packages/distributed/scheduler.py\", line 2675, in handle_long_running\n",
      "    ts = self.tasks[key]\n",
      "KeyError: \"('mean_chunk-d60c68b78b3c4ed0ee4a8d12eb0a05b2', 9, 0, 0)\"\n",
      "distributed.core - ERROR - \"('mean_chunk-d60c68b78b3c4ed0ee4a8d12eb0a05b2', 9, 0, 0)\"\n",
      "Traceback (most recent call last):\n",
      "  File \"/scratch/cnt0024/hmg2840/albert7a/anaconda3/lib/python3.7/site-packages/distributed/core.py\", line 411, in handle_comm\n",
      "    result = await result\n",
      "  File \"/scratch/cnt0024/hmg2840/albert7a/anaconda3/lib/python3.7/site-packages/distributed/scheduler.py\", line 1758, in add_worker\n",
      "    await self.handle_worker(comm=comm, worker=address)\n",
      "  File \"/scratch/cnt0024/hmg2840/albert7a/anaconda3/lib/python3.7/site-packages/distributed/scheduler.py\", line 2714, in handle_worker\n",
      "    await self.handle_stream(comm=comm, extra={\"worker\": worker})\n",
      "  File \"/scratch/cnt0024/hmg2840/albert7a/anaconda3/lib/python3.7/site-packages/distributed/core.py\", line 472, in handle_stream\n",
      "    handler(**merge(extra, msg))\n",
      "  File \"/scratch/cnt0024/hmg2840/albert7a/anaconda3/lib/python3.7/site-packages/distributed/scheduler.py\", line 2675, in handle_long_running\n",
      "    ts = self.tasks[key]\n",
      "KeyError: \"('mean_chunk-d60c68b78b3c4ed0ee4a8d12eb0a05b2', 9, 0, 0)\"\n",
      "distributed.core - ERROR - \"('mean_chunk-d60c68b78b3c4ed0ee4a8d12eb0a05b2', 114, 0, 0)\"\n",
      "Traceback (most recent call last):\n",
      "  File \"/scratch/cnt0024/hmg2840/albert7a/anaconda3/lib/python3.7/site-packages/distributed/core.py\", line 472, in handle_stream\n",
      "    handler(**merge(extra, msg))\n",
      "  File \"/scratch/cnt0024/hmg2840/albert7a/anaconda3/lib/python3.7/site-packages/distributed/scheduler.py\", line 2675, in handle_long_running\n",
      "    ts = self.tasks[key]\n",
      "KeyError: \"('mean_chunk-d60c68b78b3c4ed0ee4a8d12eb0a05b2', 114, 0, 0)\"\n",
      "distributed.utils - ERROR - \"('mean_chunk-d60c68b78b3c4ed0ee4a8d12eb0a05b2', 114, 0, 0)\"\n",
      "Traceback (most recent call last):\n",
      "  File \"/scratch/cnt0024/hmg2840/albert7a/anaconda3/lib/python3.7/site-packages/distributed/utils.py\", line 665, in log_errors\n",
      "    yield\n",
      "  File \"/scratch/cnt0024/hmg2840/albert7a/anaconda3/lib/python3.7/site-packages/distributed/scheduler.py\", line 1758, in add_worker\n",
      "    await self.handle_worker(comm=comm, worker=address)\n",
      "  File \"/scratch/cnt0024/hmg2840/albert7a/anaconda3/lib/python3.7/site-packages/distributed/scheduler.py\", line 2714, in handle_worker\n",
      "    await self.handle_stream(comm=comm, extra={\"worker\": worker})\n",
      "  File \"/scratch/cnt0024/hmg2840/albert7a/anaconda3/lib/python3.7/site-packages/distributed/core.py\", line 472, in handle_stream\n",
      "    handler(**merge(extra, msg))\n",
      "  File \"/scratch/cnt0024/hmg2840/albert7a/anaconda3/lib/python3.7/site-packages/distributed/scheduler.py\", line 2675, in handle_long_running\n",
      "    ts = self.tasks[key]\n",
      "KeyError: \"('mean_chunk-d60c68b78b3c4ed0ee4a8d12eb0a05b2', 114, 0, 0)\"\n",
      "distributed.core - ERROR - \"('mean_chunk-d60c68b78b3c4ed0ee4a8d12eb0a05b2', 114, 0, 0)\"\n",
      "Traceback (most recent call last):\n",
      "  File \"/scratch/cnt0024/hmg2840/albert7a/anaconda3/lib/python3.7/site-packages/distributed/core.py\", line 411, in handle_comm\n",
      "    result = await result\n",
      "  File \"/scratch/cnt0024/hmg2840/albert7a/anaconda3/lib/python3.7/site-packages/distributed/scheduler.py\", line 1758, in add_worker\n",
      "    await self.handle_worker(comm=comm, worker=address)\n",
      "  File \"/scratch/cnt0024/hmg2840/albert7a/anaconda3/lib/python3.7/site-packages/distributed/scheduler.py\", line 2714, in handle_worker\n",
      "    await self.handle_stream(comm=comm, extra={\"worker\": worker})\n",
      "  File \"/scratch/cnt0024/hmg2840/albert7a/anaconda3/lib/python3.7/site-packages/distributed/core.py\", line 472, in handle_stream\n",
      "    handler(**merge(extra, msg))\n",
      "  File \"/scratch/cnt0024/hmg2840/albert7a/anaconda3/lib/python3.7/site-packages/distributed/scheduler.py\", line 2675, in handle_long_running\n",
      "    ts = self.tasks[key]\n",
      "KeyError: \"('mean_chunk-d60c68b78b3c4ed0ee4a8d12eb0a05b2', 114, 0, 0)\"\n",
      "distributed.nanny - WARNING - Worker process still alive after 3 seconds, killing\n",
      "distributed.nanny - WARNING - Worker process still alive after 3 seconds, killing\n",
      "distributed.nanny - WARNING - Worker process still alive after 3 seconds, killing\n"
     ]
    }
   ],
   "source": [
    "hpcurl2mcm.to_netcdf(path='/scratch/cnt0024/hmg2840/albert7a/eNATL60/eNATL60-BLBT02-S/vort-var/eNATL60-BLBT02_vort-var_y2010m03.nc')"
   ]
  },
  {
   "cell_type": "code",
   "execution_count": null,
   "metadata": {},
   "outputs": [
    {
     "name": "stdout",
     "output_type": "stream",
     "text": [
      "Plotting\n"
     ]
    }
   ],
   "source": [
    "print('Plotting')\n",
    "plot_fine_scale_variance(hpcurl2mcm,loncrsm, latcrsm,navlon,navlat,fmask,'March',3,'eNATL60','BLBT02')\n"
   ]
  },
  {
   "cell_type": "code",
   "execution_count": null,
   "metadata": {},
   "outputs": [],
   "source": [
    "print('Select dates in zarr')\n",
    "u=ds_u.sel(time_counter=slice('2009-09-01','2009-09-30'))['sozocrtx']\n",
    "v=ds_v.sel(time_counter=slice('2009-09-01','2009-09-30'))['somecrty']\n",
    "u_rechunk=u.chunk({'time_counter':1,'y':4729,'x':8354})\n",
    "v_rechunk=v.chunk({'time_counter':1,'y':4729,'x':8354})\n",
    "print('Computing curl')\n",
    "curl_surf=curl(u_rechunk,v_rechunk,e1v,e2u,ff)\n",
    "print('Filtering curl')\n",
    "curl_SS=filt(curl_surf)\n",
    "curl_LS=curl_surf-curl_SS\n",
    "hpcurl=curl_SS\n",
    "print('**2 and temp mean')\n",
    "hpcurl2 = hpcurl ** 2\n",
    "hpcurl2m = hpcurl2.mean(axis=0,keep_attrs=True)\n",
    "print('Coarsening of the grid')\n",
    "print('Coarsening of the grid')\n",
    "hpcurl2mcm = coarse_var(hpcurl2m)\n",
    "latcrsm=coarse_var(navlat)\n",
    "loncrsm=coarse_var(navlon)\n",
    "print('Plotting')\n",
    "plot_fine_scale_variance(hpcurl2mcm,loncrsm, latcrsm,navlon,navlat,fmask,'September',month,config,case)\n",
    "      "
   ]
  }
 ],
 "metadata": {
  "kernelspec": {
   "display_name": "Python 2",
   "language": "python",
   "name": "python2"
  },
  "language_info": {
   "codemirror_mode": {
    "name": "ipython",
    "version": 2
   },
   "file_extension": ".py",
   "mimetype": "text/x-python",
   "name": "python",
   "nbconvert_exporter": "python",
   "pygments_lexer": "ipython2",
   "version": "2.7.16"
  }
 },
 "nbformat": 4,
 "nbformat_minor": 4
}
