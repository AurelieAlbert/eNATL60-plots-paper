{
 "cells": [
  {
   "cell_type": "code",
   "execution_count": 1,
   "metadata": {
    "scrolled": true
   },
   "outputs": [
    {
     "name": "stderr",
     "output_type": "stream",
     "text": [
      "distributed.scheduler - INFO - Clear task state\n",
      "distributed.scheduler - INFO -   Scheduler at:  tcp://10.32.16.243:36749\n",
      "distributed.scheduler - INFO -   dashboard at:                     :8787\n"
     ]
    },
    {
     "data": {
      "application/vnd.jupyter.widget-view+json": {
       "model_id": "499b6df731f44d78899c3d92c7b823f1",
       "version_major": 2,
       "version_minor": 0
      },
      "text/plain": [
       "VBox(children=(HTML(value='<h2>KubeCluster</h2>'), HBox(children=(HTML(value='\\n<div>\\n  <style scoped>\\n    .…"
      ]
     },
     "metadata": {},
     "output_type": "display_data"
    }
   ],
   "source": [
    "from dask.distributed import Client, progress\n",
    "\n",
    "from dask_kubernetes import KubeCluster\n",
    "cluster = KubeCluster(n_workers=40)\n",
    "cluster"
   ]
  },
  {
   "cell_type": "code",
   "execution_count": 2,
   "metadata": {},
   "outputs": [],
   "source": [
    "## path for mdules\n",
    "import sys\n",
    "sys.path.insert(0,\"/home/jovyan/xscale\")\n",
    "import xscale\n",
    "\n",
    "\n",
    "sys.path.insert(0,\"/home/jovyan/eNATL60-plots-paper/common-lib/\")\n",
    "import GriddedData\n",
    "\n",
    "## imports\n",
    "\n",
    "import numpy as np\n",
    "import numpy.ma as ma\n",
    "import xarray as xr\n",
    "import time\n",
    "\n",
    "import cartopy.crs as ccrs\n",
    "import cartopy.feature as cfeature\n",
    "from cartopy.mpl.gridliner import LONGITUDE_FORMATTER, LATITUDE_FORMATTER\n",
    "\n",
    "import matplotlib.cm as mplcm\n",
    "seq_cmap = mplcm.Blues\n",
    "div_cmap = mplcm.seismic\n",
    "\n",
    "### quick plot\n",
    "import matplotlib.pyplot as plt\n",
    "\n",
    "import glob\n",
    "import os \n",
    "\n",
    "%matplotlib inline"
   ]
  },
  {
   "cell_type": "code",
   "execution_count": 3,
   "metadata": {},
   "outputs": [],
   "source": [
    "import gcsfs\n",
    "fs = gcsfs.GCSFileSystem('pangeo-181919', requester_pays=True)\n"
   ]
  },
  {
   "cell_type": "code",
   "execution_count": 4,
   "metadata": {},
   "outputs": [
    {
     "name": "stderr",
     "output_type": "stream",
     "text": [
      "distributed.scheduler - INFO - Register tcp://10.32.7.9:41361\n",
      "distributed.scheduler - INFO - Starting worker compute stream, tcp://10.32.7.9:41361\n",
      "distributed.core - INFO - Starting established connection\n",
      "distributed.scheduler - INFO - Register tcp://10.32.13.8:36615\n",
      "distributed.scheduler - INFO - Starting worker compute stream, tcp://10.32.13.8:36615\n",
      "distributed.core - INFO - Starting established connection\n"
     ]
    }
   ],
   "source": [
    "zmap_grid = fs.get_mapper('pangeo-meom/eNATL60-I/eNATL60-mesh-mask')\n",
    "ds_grid = xr.open_zarr(zmap_grid)\n"
   ]
  },
  {
   "cell_type": "code",
   "execution_count": 5,
   "metadata": {},
   "outputs": [],
   "source": [
    "zmap_u = fs.get_mapper('pangeo-meom/eNATL60-BLBT02-SSU-1h')\n",
    "ds_u = xr.open_zarr(zmap_u)\n"
   ]
  },
  {
   "cell_type": "code",
   "execution_count": 6,
   "metadata": {},
   "outputs": [],
   "source": [
    "zmap_v = fs.get_mapper('pangeo-meom/eNATL60-BLBT02-SSV-1h')\n",
    "ds_v = xr.open_zarr(zmap_v)\n"
   ]
  },
  {
   "cell_type": "code",
   "execution_count": 7,
   "metadata": {},
   "outputs": [],
   "source": [
    "navlat= ds_grid['nav_lat']\n",
    "navlon= ds_grid['nav_lon']\n",
    "e1u=ds_grid.e1u[0]\n",
    "e1v=ds_grid.e1v[0]\n",
    "e2u=ds_grid.e2u[0]\n",
    "e2v=ds_grid.e2v[0]\n",
    "ff=ds_grid.ff[0]\n"
   ]
  },
  {
   "cell_type": "code",
   "execution_count": 8,
   "metadata": {},
   "outputs": [],
   "source": [
    "def filt(w):\n",
    "    win_box2D = w.window\n",
    "    win_box2D.set(window='hanning', cutoff=90, dim=['x', 'y'], n=[90, 90])\n",
    "    bw = win_box2D.boundary_weights(drop_dims=[])\n",
    "    w_LS = win_box2D.convolve(weights=bw)\n",
    "    w_SS=w-w_LS\n",
    "    return w_SS\n"
   ]
  },
  {
   "cell_type": "code",
   "execution_count": 9,
   "metadata": {},
   "outputs": [],
   "source": [
    "def curl(u,v,e1v,e2u,ff):\n",
    "    '''\n",
    "    This routine computes the relative vorticity from 2D fields of horizontal velocities and the spatial Coriolis parameter.\n",
    "    '''\n",
    "    #Computation of dy(u)\n",
    "    fe2u=1/e2u\n",
    "    fse2u=fe2u.squeeze()\n",
    "    dyu=(u.shift(y=-1) - u)*fse2u\n",
    "    #Computation of dx(v)\n",
    "    fe1v=1/e1v\n",
    "    fse1v=fe1v.squeeze()\n",
    "    dxv=(v.shift(x=-1) - v)*fse1v\n",
    "    #Projection on the grid T\n",
    "    dxvt=0.5*(dxv.shift(y=-1)+dxv)\n",
    "    dyut=0.5*(dyu.shift(x=-1)+dyu)\n",
    "    #Computation of the vorticity divided by f\n",
    "    fff=1/ff\n",
    "    curl=(dxvt-dyut)*fff\n",
    "    return curl"
   ]
  },
  {
   "cell_type": "code",
   "execution_count": 10,
   "metadata": {},
   "outputs": [
    {
     "name": "stdout",
     "output_type": "stream",
     "text": [
      "Select dates in zarr\n"
     ]
    }
   ],
   "source": [
    "    print('Select dates in zarr')\n",
    "    u=ds_u.sel(time_counter=slice('2010-03-01','2010-03-31'))['sozocrtx']\n",
    "    v=ds_v.sel(time_counter=slice('2010-03-01','2010-03-31'))['somecrty']\n"
   ]
  },
  {
   "cell_type": "code",
   "execution_count": 11,
   "metadata": {},
   "outputs": [
    {
     "data": {
      "text/html": [
       "<pre>&lt;xarray.DataArray &#x27;sozocrtx&#x27; (time_counter: 744, y: 4729, x: 8354)&gt;\n",
       "dask.array&lt;getitem, shape=(744, 4729, 8354), dtype=float32, chunksize=(24, 120, 120), chunktype=numpy.ndarray&gt;\n",
       "Coordinates:\n",
       "    nav_lat        (y, x) float32 dask.array&lt;chunksize=(296, 1045), meta=np.ndarray&gt;\n",
       "    nav_lon        (y, x) float32 dask.array&lt;chunksize=(296, 1045), meta=np.ndarray&gt;\n",
       "    time_centered  (time_counter) datetime64[ns] dask.array&lt;chunksize=(120,), meta=np.ndarray&gt;\n",
       "  * time_counter   (time_counter) datetime64[ns] 2010-03-01T00:30:00 ... 2010-03-31T23:30:00\n",
       "Dimensions without coordinates: y, x\n",
       "Attributes:\n",
       "    cell_methods:        time: mean (interval: 40 s)\n",
       "    interval_operation:  40 s\n",
       "    interval_write:      1 h\n",
       "    long_name:           ocean surface current along i-axis\n",
       "    online_operation:    average\n",
       "    units:               m/s</pre>"
      ],
      "text/plain": [
       "<xarray.DataArray 'sozocrtx' (time_counter: 744, y: 4729, x: 8354)>\n",
       "dask.array<getitem, shape=(744, 4729, 8354), dtype=float32, chunksize=(24, 120, 120), chunktype=numpy.ndarray>\n",
       "Coordinates:\n",
       "    nav_lat        (y, x) float32 dask.array<chunksize=(296, 1045), meta=np.ndarray>\n",
       "    nav_lon        (y, x) float32 dask.array<chunksize=(296, 1045), meta=np.ndarray>\n",
       "    time_centered  (time_counter) datetime64[ns] dask.array<chunksize=(120,), meta=np.ndarray>\n",
       "  * time_counter   (time_counter) datetime64[ns] 2010-03-01T00:30:00 ... 2010-03-31T23:30:00\n",
       "Dimensions without coordinates: y, x\n",
       "Attributes:\n",
       "    cell_methods:        time: mean (interval: 40 s)\n",
       "    interval_operation:  40 s\n",
       "    interval_write:      1 h\n",
       "    long_name:           ocean surface current along i-axis\n",
       "    online_operation:    average\n",
       "    units:               m/s"
      ]
     },
     "execution_count": 11,
     "metadata": {},
     "output_type": "execute_result"
    }
   ],
   "source": [
    "u"
   ]
  },
  {
   "cell_type": "code",
   "execution_count": 12,
   "metadata": {},
   "outputs": [],
   "source": [
    "def timing_curl(chunkt,chunkx,chunky,u,v):\n",
    "    u_rechunk=u.chunk({'time_counter':chunkt,'y':chunky,'x':chunkx})\n",
    "    v_rechunk=v.chunk({'time_counter':chunkt,'y':chunky,'x':chunkx})\n",
    "    curl_surf=curl(u_rechunk,v_rechunk,e1v,e2u,ff)\n",
    "    return curl_surf"
   ]
  },
  {
   "cell_type": "code",
   "execution_count": 13,
   "metadata": {},
   "outputs": [
    {
     "name": "stdout",
     "output_type": "stream",
     "text": [
      "1767\n"
     ]
    }
   ],
   "source": [
    "chunkt=10\n",
    "chunky=np.int(np.floor(np.sqrt(125*(1000**2)/(chunkt*u[0].dtype.itemsize))))\n",
    "chunkx=chunky\n",
    "print(chunky)"
   ]
  },
  {
   "cell_type": "code",
   "execution_count": 14,
   "metadata": {},
   "outputs": [
    {
     "name": "stdout",
     "output_type": "stream",
     "text": [
      "CPU times: user 1.77 s, sys: 317 ms, total: 2.09 s\n",
      "Wall time: 2.04 s\n"
     ]
    }
   ],
   "source": [
    "%%time\n",
    "chunkt=1\n",
    "chunkx=4000\n",
    "chunky=np.int(np.floor(125*(1000**2)/(chunkt*chunkx*u[0].dtype.itemsize)))\n",
    "curl_surf=timing_curl(chunkt,chunky,chunkx,u,v)"
   ]
  },
  {
   "cell_type": "code",
   "execution_count": 15,
   "metadata": {},
   "outputs": [
    {
     "name": "stdout",
     "output_type": "stream",
     "text": [
      "CPU times: user 2.45 s, sys: 670 ms, total: 3.12 s\n",
      "Wall time: 3.06 s\n"
     ]
    }
   ],
   "source": [
    "%%time\n",
    "chunkt=10\n",
    "chunkx=np.int(np.floor(np.sqrt(125*(1000**2)/(chunkt*u[0].dtype.itemsize))))\n",
    "chunky=np.int(np.floor(np.sqrt(125*(1000**2)/(chunkt*u[0].dtype.itemsize))))\n",
    "curl_surf=timing_curl(chunkt,chunky,chunkx,u,v)"
   ]
  },
  {
   "cell_type": "code",
   "execution_count": 16,
   "metadata": {},
   "outputs": [
    {
     "name": "stdout",
     "output_type": "stream",
     "text": [
      "CPU times: user 3.34 s, sys: 125 ms, total: 3.47 s\n",
      "Wall time: 3.42 s\n"
     ]
    }
   ],
   "source": [
    "%%time\n",
    "chunkt=100\n",
    "chunkx=np.int(np.floor(np.sqrt(125*(1000**2)/(chunkt*u[0].dtype.itemsize))))\n",
    "chunky=np.int(np.floor(np.sqrt(125*(1000**2)/(chunkt*u[0].dtype.itemsize))))\n",
    "curl_surf=timing_curl(chunkt,chunky,chunkx,u,v)"
   ]
  },
  {
   "cell_type": "code",
   "execution_count": 17,
   "metadata": {},
   "outputs": [
    {
     "name": "stderr",
     "output_type": "stream",
     "text": [
      "distributed.scheduler - INFO - Register tcp://10.32.39.2:42917\n",
      "distributed.scheduler - INFO - Starting worker compute stream, tcp://10.32.39.2:42917\n",
      "distributed.core - INFO - Starting established connection\n",
      "distributed.scheduler - INFO - Register tcp://10.32.39.4:43749\n",
      "distributed.scheduler - INFO - Starting worker compute stream, tcp://10.32.39.4:43749\n",
      "distributed.core - INFO - Starting established connection\n"
     ]
    }
   ],
   "source": [
    "def timing_filt(chunkt,chunkx,chunky,curl_surf):\n",
    "    curl_rechunk=curl_surf.chunk({'time_counter':chunkt,'y':chunky,'x':chunkx})\n",
    "    curl_SS=filt(curl_surf)\n",
    "    curl_LS=curl_surf-curl_SS\n",
    "    hpcurl=curl_SS\n",
    "    hpcurl2 = hpcurl ** 2\n",
    "    hpcurl2m = hpcurl2.mean(axis=0,keep_attrs=True)\n",
    "    return hpcurl2m"
   ]
  },
  {
   "cell_type": "code",
   "execution_count": 18,
   "metadata": {},
   "outputs": [
    {
     "name": "stderr",
     "output_type": "stream",
     "text": [
      "distributed.scheduler - INFO - Register tcp://10.32.38.2:45127\n",
      "distributed.scheduler - INFO - Starting worker compute stream, tcp://10.32.38.2:45127\n",
      "distributed.core - INFO - Starting established connection\n",
      "distributed.scheduler - INFO - Register tcp://10.32.38.3:33179\n",
      "distributed.scheduler - INFO - Starting worker compute stream, tcp://10.32.38.3:33179\n",
      "distributed.core - INFO - Starting established connection\n",
      "distributed.scheduler - INFO - Register tcp://10.32.54.2:39741\n",
      "distributed.scheduler - INFO - Starting worker compute stream, tcp://10.32.54.2:39741\n",
      "distributed.core - INFO - Starting established connection\n",
      "distributed.scheduler - INFO - Register tcp://10.32.54.4:38533\n",
      "distributed.scheduler - INFO - Starting worker compute stream, tcp://10.32.54.4:38533\n",
      "distributed.core - INFO - Starting established connection\n",
      "distributed.scheduler - INFO - Register tcp://10.32.62.4:32981\n",
      "distributed.scheduler - INFO - Starting worker compute stream, tcp://10.32.62.4:32981\n",
      "distributed.core - INFO - Starting established connection\n",
      "distributed.scheduler - INFO - Register tcp://10.32.62.3:45081\n",
      "distributed.scheduler - INFO - Starting worker compute stream, tcp://10.32.62.3:45081\n",
      "distributed.core - INFO - Starting established connection\n",
      "distributed.scheduler - INFO - Register tcp://10.32.31.3:39543\n",
      "distributed.scheduler - INFO - Starting worker compute stream, tcp://10.32.31.3:39543\n",
      "distributed.core - INFO - Starting established connection\n",
      "distributed.scheduler - INFO - Register tcp://10.32.31.2:41857\n",
      "distributed.scheduler - INFO - Starting worker compute stream, tcp://10.32.31.2:41857\n",
      "distributed.core - INFO - Starting established connection\n",
      "distributed.scheduler - INFO - Register tcp://10.32.46.3:43577\n",
      "distributed.scheduler - INFO - Starting worker compute stream, tcp://10.32.46.3:43577\n",
      "distributed.core - INFO - Starting established connection\n",
      "distributed.scheduler - INFO - Register tcp://10.32.46.2:39695\n",
      "distributed.scheduler - INFO - Starting worker compute stream, tcp://10.32.46.2:39695\n",
      "distributed.core - INFO - Starting established connection\n",
      "distributed.scheduler - INFO - Register tcp://10.32.48.2:36321\n",
      "distributed.scheduler - INFO - Starting worker compute stream, tcp://10.32.48.2:36321\n",
      "distributed.core - INFO - Starting established connection\n",
      "distributed.scheduler - INFO - Register tcp://10.32.48.3:45095\n",
      "distributed.scheduler - INFO - Starting worker compute stream, tcp://10.32.48.3:45095\n",
      "distributed.core - INFO - Starting established connection\n",
      "distributed.scheduler - INFO - Register tcp://10.32.52.3:37855\n",
      "distributed.scheduler - INFO - Starting worker compute stream, tcp://10.32.52.3:37855\n",
      "distributed.core - INFO - Starting established connection\n",
      "distributed.scheduler - INFO - Register tcp://10.32.52.2:43521\n",
      "distributed.scheduler - INFO - Starting worker compute stream, tcp://10.32.52.2:43521\n",
      "distributed.core - INFO - Starting established connection\n",
      "distributed.scheduler - INFO - Register tcp://10.32.61.4:45363\n",
      "distributed.scheduler - INFO - Starting worker compute stream, tcp://10.32.61.4:45363\n",
      "distributed.core - INFO - Starting established connection\n",
      "distributed.scheduler - INFO - Register tcp://10.32.61.3:45875\n",
      "distributed.scheduler - INFO - Starting worker compute stream, tcp://10.32.61.3:45875\n",
      "distributed.core - INFO - Starting established connection\n",
      "distributed.scheduler - INFO - Register tcp://10.32.36.2:34771\n",
      "distributed.scheduler - INFO - Starting worker compute stream, tcp://10.32.36.2:34771\n",
      "distributed.core - INFO - Starting established connection\n",
      "distributed.scheduler - INFO - Register tcp://10.32.36.3:35331\n",
      "distributed.scheduler - INFO - Starting worker compute stream, tcp://10.32.36.3:35331\n",
      "distributed.core - INFO - Starting established connection\n",
      "distributed.scheduler - INFO - Register tcp://10.32.63.3:36147\n",
      "distributed.scheduler - INFO - Starting worker compute stream, tcp://10.32.63.3:36147\n",
      "distributed.core - INFO - Starting established connection\n",
      "distributed.scheduler - INFO - Register tcp://10.32.63.2:46367\n",
      "distributed.scheduler - INFO - Starting worker compute stream, tcp://10.32.63.2:46367\n",
      "distributed.core - INFO - Starting established connection\n",
      "distributed.scheduler - INFO - Register tcp://10.32.37.2:35669\n",
      "distributed.scheduler - INFO - Starting worker compute stream, tcp://10.32.37.2:35669\n",
      "distributed.core - INFO - Starting established connection\n",
      "distributed.scheduler - INFO - Register tcp://10.32.58.2:45135\n",
      "distributed.scheduler - INFO - Starting worker compute stream, tcp://10.32.58.2:45135\n",
      "distributed.core - INFO - Starting established connection\n",
      "distributed.scheduler - INFO - Register tcp://10.32.58.3:34903\n",
      "distributed.scheduler - INFO - Starting worker compute stream, tcp://10.32.58.3:34903\n",
      "distributed.core - INFO - Starting established connection\n"
     ]
    },
    {
     "name": "stdout",
     "output_type": "stream",
     "text": [
      "CPU times: user 744 ms, sys: 84.5 ms, total: 828 ms\n",
      "Wall time: 770 ms\n"
     ]
    },
    {
     "name": "stderr",
     "output_type": "stream",
     "text": [
      "distributed.scheduler - INFO - Register tcp://10.32.37.3:41771\n",
      "distributed.scheduler - INFO - Starting worker compute stream, tcp://10.32.37.3:41771\n",
      "distributed.core - INFO - Starting established connection\n",
      "distributed.scheduler - INFO - Register tcp://10.32.57.2:40519\n"
     ]
    }
   ],
   "source": [
    "%%time\n",
    "chunkt=1\n",
    "chunkx=4000\n",
    "chunky=np.int(np.floor(125*(1000**2)/(chunkt*chunkx*u[0].dtype.itemsize)))\n",
    "hpcurl2m=timing_filt(chunkt,chunky,chunkx,curl_surf)"
   ]
  },
  {
   "cell_type": "code",
   "execution_count": 19,
   "metadata": {},
   "outputs": [
    {
     "name": "stderr",
     "output_type": "stream",
     "text": [
      "distributed.scheduler - INFO - Starting worker compute stream, tcp://10.32.57.2:40519\n",
      "distributed.core - INFO - Starting established connection\n",
      "distributed.scheduler - INFO - Register tcp://10.32.57.3:38811\n",
      "distributed.scheduler - INFO - Starting worker compute stream, tcp://10.32.57.3:38811\n",
      "distributed.core - INFO - Starting established connection\n",
      "distributed.scheduler - INFO - Register tcp://10.32.60.3:44979\n",
      "distributed.scheduler - INFO - Starting worker compute stream, tcp://10.32.60.3:44979\n",
      "distributed.core - INFO - Starting established connection\n",
      "distributed.scheduler - INFO - Register tcp://10.32.60.2:46437\n",
      "distributed.scheduler - INFO - Starting worker compute stream, tcp://10.32.60.2:46437\n",
      "distributed.core - INFO - Starting established connection\n",
      "distributed.scheduler - INFO - Register tcp://10.32.28.2:42531\n",
      "distributed.scheduler - INFO - Starting worker compute stream, tcp://10.32.28.2:42531\n",
      "distributed.core - INFO - Starting established connection\n",
      "distributed.scheduler - INFO - Register tcp://10.32.28.3:40629\n",
      "distributed.scheduler - INFO - Starting worker compute stream, tcp://10.32.28.3:40629\n",
      "distributed.core - INFO - Starting established connection\n",
      "distributed.scheduler - INFO - Register tcp://10.32.59.2:45973\n",
      "distributed.scheduler - INFO - Starting worker compute stream, tcp://10.32.59.2:45973\n",
      "distributed.core - INFO - Starting established connection\n",
      "distributed.scheduler - INFO - Register tcp://10.32.56.2:43219\n",
      "distributed.scheduler - INFO - Starting worker compute stream, tcp://10.32.56.2:43219\n",
      "distributed.core - INFO - Starting established connection\n",
      "distributed.scheduler - INFO - Register tcp://10.32.56.4:42539\n",
      "distributed.scheduler - INFO - Starting worker compute stream, tcp://10.32.56.4:42539\n",
      "distributed.core - INFO - Starting established connection\n",
      "distributed.scheduler - INFO - Register tcp://10.32.59.3:34535\n",
      "distributed.scheduler - INFO - Starting worker compute stream, tcp://10.32.59.3:34535\n",
      "distributed.core - INFO - Starting established connection\n"
     ]
    },
    {
     "name": "stdout",
     "output_type": "stream",
     "text": [
      "CPU times: user 649 ms, sys: 63.5 ms, total: 712 ms\n",
      "Wall time: 671 ms\n"
     ]
    }
   ],
   "source": [
    "%%time\n",
    "chunkt=10\n",
    "chunkx=np.int(np.floor(np.sqrt(125*(1000**2)/(chunkt*u[0].dtype.itemsize))))\n",
    "chunky=np.int(np.floor(np.sqrt(125*(1000**2)/(chunkt*u[0].dtype.itemsize))))\n",
    "hpcurl2m=timing_filt(chunkt,chunky,chunkx,curl_surf)"
   ]
  },
  {
   "cell_type": "code",
   "execution_count": 20,
   "metadata": {},
   "outputs": [
    {
     "name": "stderr",
     "output_type": "stream",
     "text": [
      "distributed.scheduler - INFO - Register tcp://10.32.55.4:45239\n",
      "distributed.scheduler - INFO - Starting worker compute stream, tcp://10.32.55.4:45239\n",
      "distributed.core - INFO - Starting established connection\n",
      "distributed.scheduler - INFO - Register tcp://10.32.55.2:36569\n",
      "distributed.scheduler - INFO - Starting worker compute stream, tcp://10.32.55.2:36569\n",
      "distributed.core - INFO - Starting established connection\n"
     ]
    },
    {
     "name": "stdout",
     "output_type": "stream",
     "text": [
      "CPU times: user 496 ms, sys: 30.6 ms, total: 527 ms\n",
      "Wall time: 504 ms\n"
     ]
    }
   ],
   "source": [
    "%%time\n",
    "chunkt=100\n",
    "chunkx=np.int(np.floor(np.sqrt(125*(1000**2)/(chunkt*u[0].dtype.itemsize))))\n",
    "chunky=np.int(np.floor(np.sqrt(125*(1000**2)/(chunkt*u[0].dtype.itemsize))))\n",
    "hpcurl2m=timing_filt(chunkt,chunky,chunkx,curl_surf)"
   ]
  },
  {
   "cell_type": "code",
   "execution_count": 21,
   "metadata": {},
   "outputs": [],
   "source": [
    "    navlat2=np.array(navlat).squeeze()\n",
    "    navlon2=np.array(navlon).squeeze()\n"
   ]
  },
  {
   "cell_type": "code",
   "execution_count": 22,
   "metadata": {},
   "outputs": [
    {
     "data": {
      "text/plain": [
       "(4729, 8354)"
      ]
     },
     "execution_count": 22,
     "metadata": {},
     "output_type": "execute_result"
    },
    {
     "name": "stderr",
     "output_type": "stream",
     "text": [
      "distributed.scheduler - INFO - Remove worker tcp://10.32.52.2:43521\n",
      "distributed.core - INFO - Removing comms to tcp://10.32.52.2:43521\n",
      "distributed.scheduler - INFO - Remove worker tcp://10.32.52.3:37855\n",
      "distributed.core - INFO - Removing comms to tcp://10.32.52.3:37855\n"
     ]
    }
   ],
   "source": [
    "navlon.shape"
   ]
  },
  {
   "cell_type": "code",
   "execution_count": null,
   "metadata": {},
   "outputs": [],
   "source": [
    "mgrd = GriddedData.grid2D(navlat=navlat, navlon=navlon)"
   ]
  }
 ],
 "metadata": {
  "kernelspec": {
   "display_name": "Python 3",
   "language": "python",
   "name": "python3"
  },
  "language_info": {
   "codemirror_mode": {
    "name": "ipython",
    "version": 3
   },
   "file_extension": ".py",
   "mimetype": "text/x-python",
   "name": "python",
   "nbconvert_exporter": "python",
   "pygments_lexer": "ipython3",
   "version": "3.7.3"
  }
 },
 "nbformat": 4,
 "nbformat_minor": 4
}
