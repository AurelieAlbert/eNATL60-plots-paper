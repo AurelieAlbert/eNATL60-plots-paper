{
 "cells": [
  {
   "cell_type": "code",
   "execution_count": 1,
   "metadata": {
    "scrolled": true
   },
   "outputs": [
    {
     "name": "stderr",
     "output_type": "stream",
     "text": [
      "distributed.scheduler - INFO - Clear task state\n",
      "distributed.scheduler - INFO -   Scheduler at:  tcp://10.32.16.216:37227\n",
      "distributed.scheduler - INFO -   dashboard at:                     :8787\n"
     ]
    },
    {
     "data": {
      "application/vnd.jupyter.widget-view+json": {
       "model_id": "f52764045e744bd98af5c64661697b23",
       "version_major": 2,
       "version_minor": 0
      },
      "text/plain": [
       "VBox(children=(HTML(value='<h2>KubeCluster</h2>'), HBox(children=(HTML(value='\\n<div>\\n  <style scoped>\\n    .…"
      ]
     },
     "metadata": {},
     "output_type": "display_data"
    }
   ],
   "source": [
    "from dask.distributed import Client, progress\n",
    "\n",
    "from dask_kubernetes import KubeCluster\n",
    "cluster = KubeCluster(n_workers=20)\n",
    "cluster"
   ]
  },
  {
   "cell_type": "code",
   "execution_count": 2,
   "metadata": {},
   "outputs": [],
   "source": [
    "## path for mdules\n",
    "import sys\n",
    "sys.path.insert(0,\"/home/jovyan/xscale\")\n",
    "import xscale\n",
    "\n",
    "\n",
    "sys.path.insert(0,\"/home/jovyan/eNATL60-plots-paper/common-lib/\")\n",
    "import GriddedData\n",
    "\n",
    "## imports\n",
    "\n",
    "import numpy as np\n",
    "import numpy.ma as ma\n",
    "import xarray as xr\n",
    "import time\n",
    "\n",
    "import cartopy.crs as ccrs\n",
    "import cartopy.feature as cfeature\n",
    "from cartopy.mpl.gridliner import LONGITUDE_FORMATTER, LATITUDE_FORMATTER\n",
    "\n",
    "import matplotlib.cm as mplcm\n",
    "seq_cmap = mplcm.Blues\n",
    "div_cmap = mplcm.seismic\n",
    "\n",
    "### quick plot\n",
    "import matplotlib.pyplot as plt\n",
    "\n",
    "import glob\n",
    "import os \n",
    "\n",
    "%matplotlib inline"
   ]
  },
  {
   "cell_type": "code",
   "execution_count": 3,
   "metadata": {},
   "outputs": [],
   "source": [
    "import gcsfs\n",
    "fs = gcsfs.GCSFileSystem('pangeo-181919', requester_pays=True)\n"
   ]
  },
  {
   "cell_type": "code",
   "execution_count": 4,
   "metadata": {},
   "outputs": [
    {
     "name": "stderr",
     "output_type": "stream",
     "text": [
      "distributed.scheduler - INFO - Register tcp://10.32.31.4:46675\n",
      "distributed.scheduler - INFO - Starting worker compute stream, tcp://10.32.31.4:46675\n",
      "distributed.core - INFO - Starting established connection\n",
      "distributed.scheduler - INFO - Register tcp://10.32.27.4:41291\n",
      "distributed.scheduler - INFO - Starting worker compute stream, tcp://10.32.27.4:41291\n",
      "distributed.core - INFO - Starting established connection\n",
      "distributed.scheduler - INFO - Register tcp://10.32.24.4:44739\n",
      "distributed.scheduler - INFO - Starting worker compute stream, tcp://10.32.24.4:44739\n",
      "distributed.core - INFO - Starting established connection\n",
      "distributed.scheduler - INFO - Register tcp://10.32.14.4:33745\n",
      "distributed.scheduler - INFO - Starting worker compute stream, tcp://10.32.14.4:33745\n",
      "distributed.core - INFO - Starting established connection\n",
      "distributed.scheduler - INFO - Register tcp://10.32.21.4:33043\n",
      "distributed.scheduler - INFO - Starting worker compute stream, tcp://10.32.21.4:33043\n",
      "distributed.core - INFO - Starting established connection\n",
      "distributed.scheduler - INFO - Register tcp://10.32.20.5:37545\n",
      "distributed.scheduler - INFO - Starting worker compute stream, tcp://10.32.20.5:37545\n",
      "distributed.core - INFO - Starting established connection\n",
      "distributed.scheduler - INFO - Register tcp://10.32.22.5:41867\n",
      "distributed.scheduler - INFO - Starting worker compute stream, tcp://10.32.22.5:41867\n",
      "distributed.core - INFO - Starting established connection\n",
      "distributed.scheduler - INFO - Register tcp://10.32.15.5:41749\n",
      "distributed.scheduler - INFO - Starting worker compute stream, tcp://10.32.15.5:41749\n",
      "distributed.core - INFO - Starting established connection\n",
      "distributed.scheduler - INFO - Register tcp://10.32.20.4:33229\n",
      "distributed.scheduler - INFO - Starting worker compute stream, tcp://10.32.20.4:33229\n",
      "distributed.core - INFO - Starting established connection\n",
      "distributed.scheduler - INFO - Register tcp://10.32.35.3:38999\n",
      "distributed.scheduler - INFO - Starting worker compute stream, tcp://10.32.35.3:38999\n",
      "distributed.core - INFO - Starting established connection\n",
      "distributed.scheduler - INFO - Register tcp://10.32.26.4:45597\n",
      "distributed.scheduler - INFO - Starting worker compute stream, tcp://10.32.26.4:45597\n",
      "distributed.core - INFO - Starting established connection\n",
      "distributed.scheduler - INFO - Register tcp://10.32.22.4:39211\n",
      "distributed.scheduler - INFO - Starting worker compute stream, tcp://10.32.22.4:39211\n",
      "distributed.core - INFO - Starting established connection\n",
      "distributed.scheduler - INFO - Register tcp://10.32.29.4:35045\n",
      "distributed.scheduler - INFO - Starting worker compute stream, tcp://10.32.29.4:35045\n",
      "distributed.core - INFO - Starting established connection\n",
      "distributed.scheduler - INFO - Register tcp://10.32.29.5:46581\n",
      "distributed.scheduler - INFO - Starting worker compute stream, tcp://10.32.29.5:46581\n",
      "distributed.core - INFO - Starting established connection\n",
      "distributed.scheduler - INFO - Register tcp://10.32.19.4:33717\n",
      "distributed.scheduler - INFO - Starting worker compute stream, tcp://10.32.19.4:33717\n",
      "distributed.core - INFO - Starting established connection\n",
      "distributed.scheduler - INFO - Register tcp://10.32.23.6:36883\n",
      "distributed.scheduler - INFO - Starting worker compute stream, tcp://10.32.23.6:36883\n",
      "distributed.core - INFO - Starting established connection\n",
      "distributed.scheduler - INFO - Register tcp://10.32.23.5:40473\n",
      "distributed.scheduler - INFO - Starting worker compute stream, tcp://10.32.23.5:40473\n",
      "distributed.core - INFO - Starting established connection\n",
      "distributed.scheduler - INFO - Register tcp://10.32.28.5:37833\n",
      "distributed.scheduler - INFO - Starting worker compute stream, tcp://10.32.28.5:37833\n",
      "distributed.core - INFO - Starting established connection\n",
      "distributed.scheduler - INFO - Register tcp://10.32.28.4:43323\n",
      "distributed.scheduler - INFO - Starting worker compute stream, tcp://10.32.28.4:43323\n",
      "distributed.core - INFO - Starting established connection\n",
      "distributed.scheduler - INFO - Register tcp://10.32.18.4:43059\n",
      "distributed.scheduler - INFO - Starting worker compute stream, tcp://10.32.18.4:43059\n",
      "distributed.core - INFO - Starting established connection\n"
     ]
    }
   ],
   "source": [
    "zmap_grid = fs.get_mapper('pangeo-meom/eNATL60-I/eNATL60-mesh-mask')\n",
    "ds_grid = xr.open_zarr(zmap_grid)\n"
   ]
  },
  {
   "cell_type": "code",
   "execution_count": null,
   "metadata": {},
   "outputs": [],
   "source": [
    "zmap_u = fs.get_mapper('pangeo-meom/eNATL60-BLBT02-SSU-1h')\n",
    "ds_u = xr.open_zarr(zmap_u)\n"
   ]
  },
  {
   "cell_type": "code",
   "execution_count": null,
   "metadata": {},
   "outputs": [],
   "source": [
    "zmap_v = fs.get_mapper('pangeo-meom/eNATL60-BLBT02-SSV-1h')\n",
    "ds_v = xr.open_zarr(zmap_v)\n"
   ]
  },
  {
   "cell_type": "code",
   "execution_count": null,
   "metadata": {},
   "outputs": [],
   "source": [
    "navlat= ds_grid['nav_lat']\n",
    "navlon= ds_grid['nav_lon']\n",
    "e1u=ds_grid.e1u[0]\n",
    "e1v=ds_grid.e1v[0]\n",
    "e2u=ds_grid.e2u[0]\n",
    "e2v=ds_grid.e2v[0]\n",
    "ff=ds_grid.ff[0]\n"
   ]
  },
  {
   "cell_type": "code",
   "execution_count": null,
   "metadata": {},
   "outputs": [],
   "source": [
    "def filt(w):\n",
    "    win_box2D = w.window\n",
    "    win_box2D.set(window='hanning', cutoff=90, dim=['x', 'y'], n=[90, 90])\n",
    "    bw = win_box2D.boundary_weights(drop_dims=[])\n",
    "    w_LS = win_box2D.convolve(weights=bw)\n",
    "    w_SS=w-w_LS\n",
    "    return w_SS\n"
   ]
  },
  {
   "cell_type": "code",
   "execution_count": null,
   "metadata": {},
   "outputs": [],
   "source": [
    "def curl(u,v,e1v,e2u,ff):\n",
    "    '''\n",
    "    This routine computes the relative vorticity from 2D fields of horizontal velocities and the spatial Coriolis parameter.\n",
    "    '''\n",
    "    #Computation of dy(u)\n",
    "    fe2u=1/e2u\n",
    "    fse2u=fe2u.squeeze()\n",
    "    dyu=(u.shift(y=-1) - u)*fse2u\n",
    "    #Computation of dx(v)\n",
    "    fe1v=1/e1v\n",
    "    fse1v=fe1v.squeeze()\n",
    "    dxv=(v.shift(x=-1) - v)*fse1v\n",
    "    #Projection on the grid T\n",
    "    dxvt=0.5*(dxv.shift(y=-1)+dxv)\n",
    "    dyut=0.5*(dyu.shift(x=-1)+dyu)\n",
    "    #Computation of the vorticity divided by f\n",
    "    fff=1/ff\n",
    "    curl=(dxvt-dyut)*fff\n",
    "    return curl"
   ]
  },
  {
   "cell_type": "code",
   "execution_count": null,
   "metadata": {},
   "outputs": [],
   "source": [
    "def plot_fine_scale_variance(var,loncrs,latcrs,lon,lat,hpvarm,month,m,config,case):\n",
    "    ''' map of the averaged fine scale variance\n",
    "    '''\n",
    "    fig, ax = plt.subplots(1,1,figsize=(15,10))\n",
    "    ax = plt.subplot(111,projection=ccrs.PlateCarree(central_longitude=0))\n",
    "    ax.autoscale(tight=True)\n",
    "    cont=np.isnan(hpvarm)\n",
    "    gl = ax.gridlines(draw_labels=True, linestyle=':', color='black',\n",
    "                      alpha=0.5)\n",
    "    gl.xformatter = LONGITUDE_FORMATTER\n",
    "    gl.yformatter = LATITUDE_FORMATTER\n",
    "    gl.xlabel_style = {'size': 25, 'color': 'gray'}\n",
    "    gl.ylabel_style = {'size': 25, 'color': 'gray'}\n",
    "    \n",
    "    ax.tick_params('both',labelsize=25)\n",
    "\n",
    "    pcolor = ax.pcolormesh(loncrs,latcrs,ma.masked_invalid(var),cmap=seq_cmap,vmin=0,vmax=0.1,alpha=1)\n",
    "    ax.contour(lon,lat,cont,alpha=0.5,linewidth=0.000001,antialiased=True,colors='black')\n",
    "    cbar = plt.colorbar(pcolor,orientation='horizontal',pad=0.1)\n",
    "    cbar.ax.tick_params(labelsize=25)\n",
    "    cbar.set_label('Small scales surface vorticity variance in '+month+' for '+config+'-'+case,fontsize=15)\n",
    "    plt.savefig(config+'-'+case+'_m'+m+'_fine_scale_variance_vorticity.png')\n",
    "  "
   ]
  },
  {
   "cell_type": "code",
   "execution_count": null,
   "metadata": {},
   "outputs": [],
   "source": [
    "    print('Select dates in zarr')\n",
    "    u=ds_u.sel(time_counter=slice('2010-03-01','2010-03-31'))['sozocrtx']\n",
    "    v=ds_v.sel(time_counter=slice('2010-03-01','2010-03-31'))['somecrty']\n"
   ]
  },
  {
   "cell_type": "code",
   "execution_count": null,
   "metadata": {},
   "outputs": [],
   "source": [
    "u_rechunk=u.chunk({'time_counter':1,'y':4729,'x':8354})\n",
    "v_rechunk=v.chunk({'time_counter':1,'y':4729,'x':8354})"
   ]
  },
  {
   "cell_type": "code",
   "execution_count": null,
   "metadata": {},
   "outputs": [],
   "source": [
    "    print('Computing curl')\n",
    "    curl_surf=curl(u_rechunk,v_rechunk,e1v,e2u,ff)\n",
    "    print('Filtering curl')\n",
    "    curl_SS=filt(curl_surf)\n",
    "    curl_LS=curl_surf-curl_SS\n",
    "    hpcurl=curl_SS\n",
    "    hpcurl2 = hpcurl ** 2\n",
    "    hpcurl2m = hpcurl2.mean(axis=0,keep_attrs=True)\n",
    "    navlat2=np.array(navlat).squeeze()\n",
    "    navlon2=np.array(navlon).squeeze()\n",
    "    print('Coarsening of the grid')\n",
    "    mgrd = GriddedData.grid2D(navlat=navlat2, navlon=navlon2)\n",
    "    crs = GriddedData.grdCoarsener(mgrd,crs_factor=60)\n",
    "    hpcurl2mc = crs.return_ravel(np.asarray(hpcurl2m))\n",
    "    hpcurl2mcm = np.mean(hpcurl2mc,axis=-3)\n",
    "    latcrs=crs.return_ravel(np.asarray(navlat2))\n",
    "    loncrs=crs.return_ravel(np.asarray(navlon2))\n",
    "    latcrsm=np.mean(latcrs,axis=-3)\n",
    "    loncrsm=np.mean(loncrs,axis=-3)\n",
    "      "
   ]
  },
  {
   "cell_type": "code",
   "execution_count": null,
   "metadata": {},
   "outputs": [],
   "source": [
    "print('Plotting')\n",
    "plot_fine_scale_variance(hpcurl2mcm,loncrsm, latcrsm,navlon,navlat,hpcurl2m,'March',month,config,case)\n"
   ]
  },
  {
   "cell_type": "code",
   "execution_count": null,
   "metadata": {},
   "outputs": [],
   "source": [
    "print('Select dates in zarr')\n",
    "u=ds_u.sel(time_counter=slice('2009-09-01','2009-09-30'))['sozocrtx']\n",
    "v=ds_v.sel(time_counter=slice('2009-09-01','2009-09-30'))['somecrty']\n",
    "u_rechunk=u.chunk({'time_counter':1,'y':4729,'x':8354})\n",
    "v_rechunk=v.chunk({'time_counter':1,'y':4729,'x':8354})\n",
    "print('Computing curl')\n",
    "curl_surf=curl(u_rechunk,v_rechunk,e1v,e2u,ff)\n",
    "print('Filtering curl')\n",
    "curl_SS=filt(curl_surf)\n",
    "curl_LS=curl_surf-curl_SS\n",
    "hpcurl=curl_SS\n",
    "hpcurl2 = hpcurl ** 2\n",
    "hpcurl2m = hpcurl2.mean(axis=0,keep_attrs=True)\n",
    "navlat2=np.array(navlat).squeeze()\n",
    "navlon2=np.array(navlon).squeeze()\n",
    "print('Coarsening of the grid')\n",
    "mgrd = GriddedData.grid2D(navlat=navlat2, navlon=navlon2)\n",
    "crs = GriddedData.grdCoarsener(mgrd,crs_factor=60)\n",
    "hpcurl2mc = crs.return_ravel(np.asarray(hpcurl2m))\n",
    "hpcurl2mcm = np.mean(hpcurl2mc,axis=-3)\n",
    "latcrs=crs.return_ravel(np.asarray(navlat2))\n",
    "loncrs=crs.return_ravel(np.asarray(navlon2))\n",
    "latcrsm=np.mean(latcrs,axis=-3)\n",
    "loncrsm=np.mean(loncrs,axis=-3)\n",
    "print('Plotting')\n",
    "plot_fine_scale_variance(hpcurl2mcm,loncrsm, latcrsm,navlon,navlat,hpcurl2m,'September',month,config,case)\n",
    "      "
   ]
  }
 ],
 "metadata": {
  "kernelspec": {
   "display_name": "Python 3",
   "language": "python",
   "name": "python3"
  },
  "language_info": {
   "codemirror_mode": {
    "name": "ipython",
    "version": 3
   },
   "file_extension": ".py",
   "mimetype": "text/x-python",
   "name": "python",
   "nbconvert_exporter": "python",
   "pygments_lexer": "ipython3",
   "version": "3.7.3"
  }
 },
 "nbformat": 4,
 "nbformat_minor": 4
}
