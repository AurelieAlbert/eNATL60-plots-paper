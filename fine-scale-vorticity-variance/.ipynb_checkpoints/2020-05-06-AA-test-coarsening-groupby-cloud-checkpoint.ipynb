{
 "cells": [
  {
   "cell_type": "markdown",
   "metadata": {},
   "source": [
    "## only for regular grid !!!"
   ]
  },
  {
   "cell_type": "code",
   "execution_count": 1,
   "metadata": {
    "scrolled": true
   },
   "outputs": [
    {
     "name": "stderr",
     "output_type": "stream",
     "text": [
      "distributed.scheduler - INFO - Clear task state\n",
      "distributed.scheduler - INFO -   Scheduler at:  tcp://10.32.16.243:46699\n",
      "distributed.scheduler - INFO -   dashboard at:                     :8787\n"
     ]
    },
    {
     "data": {
      "application/vnd.jupyter.widget-view+json": {
       "model_id": "e609ecc793ab4e89a24be678cb5fbca5",
       "version_major": 2,
       "version_minor": 0
      },
      "text/plain": [
       "VBox(children=(HTML(value='<h2>KubeCluster</h2>'), HBox(children=(HTML(value='\\n<div>\\n  <style scoped>\\n    .…"
      ]
     },
     "metadata": {},
     "output_type": "display_data"
    }
   ],
   "source": [
    "from dask.distributed import Client, progress\n",
    "\n",
    "from dask_kubernetes import KubeCluster\n",
    "cluster = KubeCluster(n_workers=40)\n",
    "cluster"
   ]
  },
  {
   "cell_type": "code",
   "execution_count": 2,
   "metadata": {},
   "outputs": [],
   "source": [
    "## path for mdules\n",
    "import sys\n",
    "sys.path.insert(0,\"/home/jovyan/xscale\")\n",
    "import xscale\n",
    "\n",
    "\n",
    "sys.path.insert(0,\"/home/jovyan/eNATL60-plots-paper/common-lib/\")\n",
    "import GriddedData\n",
    "\n",
    "## imports\n",
    "\n",
    "import numpy as np\n",
    "import numpy.ma as ma\n",
    "import xarray as xr\n",
    "import time\n",
    "\n",
    "import cartopy.crs as ccrs\n",
    "import cartopy.feature as cfeature\n",
    "from cartopy.mpl.gridliner import LONGITUDE_FORMATTER, LATITUDE_FORMATTER\n",
    "\n",
    "import matplotlib.cm as mplcm\n",
    "seq_cmap = mplcm.Blues\n",
    "div_cmap = mplcm.seismic\n",
    "\n",
    "### quick plot\n",
    "import matplotlib.pyplot as plt\n",
    "\n",
    "import glob\n",
    "import os \n",
    "\n",
    "%matplotlib inline"
   ]
  },
  {
   "cell_type": "code",
   "execution_count": 3,
   "metadata": {},
   "outputs": [],
   "source": [
    "import gcsfs\n",
    "fs = gcsfs.GCSFileSystem('pangeo-181919', requester_pays=True)\n"
   ]
  },
  {
   "cell_type": "code",
   "execution_count": 4,
   "metadata": {},
   "outputs": [
    {
     "name": "stderr",
     "output_type": "stream",
     "text": [
      "distributed.scheduler - INFO - Register tcp://10.32.43.28:46799\n",
      "distributed.scheduler - INFO - Starting worker compute stream, tcp://10.32.43.28:46799\n",
      "distributed.core - INFO - Starting established connection\n"
     ]
    }
   ],
   "source": [
    "zmap_grid = fs.get_mapper('pangeo-meom/eNATL60-I/eNATL60-mesh-mask')\n",
    "ds_grid = xr.open_zarr(zmap_grid)\n"
   ]
  },
  {
   "cell_type": "code",
   "execution_count": 5,
   "metadata": {},
   "outputs": [],
   "source": [
    "zmap_u = fs.get_mapper('pangeo-meom/eNATL60-BLBT02-SSU-1h')\n",
    "ds_u = xr.open_zarr(zmap_u)\n"
   ]
  },
  {
   "cell_type": "code",
   "execution_count": 6,
   "metadata": {},
   "outputs": [],
   "source": [
    "zmap_v = fs.get_mapper('pangeo-meom/eNATL60-BLBT02-SSV-1h')\n",
    "ds_v = xr.open_zarr(zmap_v)\n"
   ]
  },
  {
   "cell_type": "code",
   "execution_count": 7,
   "metadata": {},
   "outputs": [],
   "source": [
    "navlat= ds_grid['nav_lat']\n",
    "navlon= ds_grid['nav_lon']\n",
    "e1u=ds_grid.e1u[0]\n",
    "e1v=ds_grid.e1v[0]\n",
    "e2u=ds_grid.e2u[0]\n",
    "e2v=ds_grid.e2v[0]\n",
    "ff=ds_grid.ff[0]\n"
   ]
  },
  {
   "cell_type": "code",
   "execution_count": 8,
   "metadata": {},
   "outputs": [
    {
     "name": "stdout",
     "output_type": "stream",
     "text": [
      "Select dates in zarr\n"
     ]
    },
    {
     "name": "stderr",
     "output_type": "stream",
     "text": [
      "distributed.scheduler - INFO - Register tcp://10.32.27.3:45699\n",
      "distributed.scheduler - INFO - Starting worker compute stream, tcp://10.32.27.3:45699\n",
      "distributed.core - INFO - Starting established connection\n",
      "distributed.scheduler - INFO - Register tcp://10.32.27.4:41759\n",
      "distributed.scheduler - INFO - Starting worker compute stream, tcp://10.32.27.4:41759\n",
      "distributed.core - INFO - Starting established connection\n",
      "distributed.scheduler - INFO - Register tcp://10.32.26.3:43251\n",
      "distributed.scheduler - INFO - Starting worker compute stream, tcp://10.32.26.3:43251\n",
      "distributed.core - INFO - Starting established connection\n",
      "distributed.scheduler - INFO - Register tcp://10.32.26.2:39383\n",
      "distributed.scheduler - INFO - Starting worker compute stream, tcp://10.32.26.2:39383\n",
      "distributed.core - INFO - Starting established connection\n",
      "distributed.scheduler - INFO - Register tcp://10.32.34.3:37803\n",
      "distributed.scheduler - INFO - Starting worker compute stream, tcp://10.32.34.3:37803\n",
      "distributed.core - INFO - Starting established connection\n",
      "distributed.scheduler - INFO - Register tcp://10.32.34.2:35841\n",
      "distributed.scheduler - INFO - Starting worker compute stream, tcp://10.32.34.2:35841\n",
      "distributed.core - INFO - Starting established connection\n",
      "distributed.scheduler - INFO - Register tcp://10.32.32.2:40117\n",
      "distributed.scheduler - INFO - Starting worker compute stream, tcp://10.32.32.2:40117\n",
      "distributed.core - INFO - Starting established connection\n",
      "distributed.scheduler - INFO - Register tcp://10.32.32.3:40927\n",
      "distributed.scheduler - INFO - Starting worker compute stream, tcp://10.32.32.3:40927\n",
      "distributed.core - INFO - Starting established connection\n",
      "distributed.scheduler - INFO - Register tcp://10.32.10.2:45489\n",
      "distributed.scheduler - INFO - Starting worker compute stream, tcp://10.32.10.2:45489\n",
      "distributed.core - INFO - Starting established connection\n",
      "distributed.scheduler - INFO - Register tcp://10.32.10.3:41473\n",
      "distributed.scheduler - INFO - Starting worker compute stream, tcp://10.32.10.3:41473\n",
      "distributed.core - INFO - Starting established connection\n",
      "distributed.scheduler - INFO - Register tcp://10.32.7.2:35379\n",
      "distributed.scheduler - INFO - Starting worker compute stream, tcp://10.32.7.2:35379\n",
      "distributed.core - INFO - Starting established connection\n",
      "distributed.scheduler - INFO - Register tcp://10.32.7.4:39159\n",
      "distributed.scheduler - INFO - Starting worker compute stream, tcp://10.32.7.4:39159\n",
      "distributed.core - INFO - Starting established connection\n",
      "distributed.scheduler - INFO - Register tcp://10.32.28.2:35611\n",
      "distributed.scheduler - INFO - Starting worker compute stream, tcp://10.32.28.2:35611\n",
      "distributed.core - INFO - Starting established connection\n",
      "distributed.scheduler - INFO - Register tcp://10.32.28.3:34185\n",
      "distributed.scheduler - INFO - Starting worker compute stream, tcp://10.32.28.3:34185\n",
      "distributed.core - INFO - Starting established connection\n",
      "distributed.scheduler - INFO - Register tcp://10.32.23.4:44771\n",
      "distributed.scheduler - INFO - Starting worker compute stream, tcp://10.32.23.4:44771\n",
      "distributed.core - INFO - Starting established connection\n",
      "distributed.scheduler - INFO - Register tcp://10.32.23.2:38535\n",
      "distributed.scheduler - INFO - Starting worker compute stream, tcp://10.32.23.2:38535\n",
      "distributed.core - INFO - Starting established connection\n",
      "distributed.scheduler - INFO - Register tcp://10.32.22.4:40063\n",
      "distributed.scheduler - INFO - Starting worker compute stream, tcp://10.32.22.4:40063\n",
      "distributed.core - INFO - Starting established connection\n",
      "distributed.scheduler - INFO - Register tcp://10.32.22.2:37839\n",
      "distributed.scheduler - INFO - Starting worker compute stream, tcp://10.32.22.2:37839\n",
      "distributed.core - INFO - Starting established connection\n",
      "distributed.scheduler - INFO - Register tcp://10.32.31.3:34941\n",
      "distributed.scheduler - INFO - Starting worker compute stream, tcp://10.32.31.3:34941\n",
      "distributed.core - INFO - Starting established connection\n",
      "distributed.scheduler - INFO - Register tcp://10.32.31.2:41407\n",
      "distributed.scheduler - INFO - Starting worker compute stream, tcp://10.32.31.2:41407\n",
      "distributed.core - INFO - Starting established connection\n",
      "distributed.scheduler - INFO - Register tcp://10.32.13.3:40393\n",
      "distributed.scheduler - INFO - Starting worker compute stream, tcp://10.32.13.3:40393\n",
      "distributed.core - INFO - Starting established connection\n",
      "distributed.scheduler - INFO - Register tcp://10.32.13.2:44589\n",
      "distributed.scheduler - INFO - Starting worker compute stream, tcp://10.32.13.2:44589\n",
      "distributed.core - INFO - Starting established connection\n",
      "distributed.scheduler - INFO - Register tcp://10.32.15.3:38257\n",
      "distributed.scheduler - INFO - Starting worker compute stream, tcp://10.32.15.3:38257\n",
      "distributed.core - INFO - Starting established connection\n",
      "distributed.scheduler - INFO - Register tcp://10.32.15.2:40509\n",
      "distributed.scheduler - INFO - Starting worker compute stream, tcp://10.32.15.2:40509\n",
      "distributed.core - INFO - Starting established connection\n",
      "distributed.scheduler - INFO - Register tcp://10.32.19.3:38771\n",
      "distributed.scheduler - INFO - Starting worker compute stream, tcp://10.32.19.3:38771\n",
      "distributed.core - INFO - Starting established connection\n",
      "distributed.scheduler - INFO - Register tcp://10.32.19.2:43513\n",
      "distributed.scheduler - INFO - Starting worker compute stream, tcp://10.32.19.2:43513\n",
      "distributed.core - INFO - Starting established connection\n",
      "distributed.scheduler - INFO - Register tcp://10.32.18.3:36933\n",
      "distributed.scheduler - INFO - Starting worker compute stream, tcp://10.32.18.3:36933\n",
      "distributed.core - INFO - Starting established connection\n",
      "distributed.scheduler - INFO - Register tcp://10.32.18.2:44573\n",
      "distributed.scheduler - INFO - Starting worker compute stream, tcp://10.32.18.2:44573\n",
      "distributed.core - INFO - Starting established connection\n",
      "distributed.scheduler - INFO - Register tcp://10.32.24.2:42551\n",
      "distributed.scheduler - INFO - Starting worker compute stream, tcp://10.32.24.2:42551\n",
      "distributed.core - INFO - Starting established connection\n",
      "distributed.scheduler - INFO - Register tcp://10.32.24.3:44973\n",
      "distributed.scheduler - INFO - Starting worker compute stream, tcp://10.32.24.3:44973\n",
      "distributed.core - INFO - Starting established connection\n",
      "distributed.scheduler - INFO - Register tcp://10.32.29.3:33625\n",
      "distributed.scheduler - INFO - Starting worker compute stream, tcp://10.32.29.3:33625\n",
      "distributed.core - INFO - Starting established connection\n",
      "distributed.scheduler - INFO - Register tcp://10.32.29.2:38835\n",
      "distributed.scheduler - INFO - Starting worker compute stream, tcp://10.32.29.2:38835\n",
      "distributed.core - INFO - Starting established connection\n",
      "distributed.scheduler - INFO - Register tcp://10.32.6.2:35699\n",
      "distributed.scheduler - INFO - Starting worker compute stream, tcp://10.32.6.2:35699\n",
      "distributed.core - INFO - Starting established connection\n",
      "distributed.scheduler - INFO - Register tcp://10.32.33.2:46197\n",
      "distributed.scheduler - INFO - Starting worker compute stream, tcp://10.32.33.2:46197\n",
      "distributed.core - INFO - Starting established connection\n",
      "distributed.scheduler - INFO - Register tcp://10.32.33.3:39233\n",
      "distributed.scheduler - INFO - Starting worker compute stream, tcp://10.32.33.3:39233\n",
      "distributed.core - INFO - Starting established connection\n",
      "distributed.scheduler - INFO - Register tcp://10.32.14.2:46133\n",
      "distributed.scheduler - INFO - Starting worker compute stream, tcp://10.32.14.2:46133\n",
      "distributed.core - INFO - Starting established connection\n",
      "distributed.scheduler - INFO - Register tcp://10.32.14.3:38277\n",
      "distributed.scheduler - INFO - Starting worker compute stream, tcp://10.32.14.3:38277\n",
      "distributed.core - INFO - Starting established connection\n",
      "distributed.scheduler - INFO - Remove worker tcp://10.32.23.2:38535\n",
      "distributed.core - INFO - Removing comms to tcp://10.32.23.2:38535\n",
      "distributed.scheduler - INFO - Remove worker tcp://10.32.23.4:44771\n",
      "distributed.core - INFO - Removing comms to tcp://10.32.23.4:44771\n",
      "distributed.scheduler - INFO - Remove worker tcp://10.32.10.2:45489\n",
      "distributed.core - INFO - Removing comms to tcp://10.32.10.2:45489\n",
      "distributed.scheduler - INFO - Remove worker tcp://10.32.10.3:41473\n",
      "distributed.core - INFO - Removing comms to tcp://10.32.10.3:41473\n",
      "distributed.scheduler - INFO - Register tcp://10.32.23.2:43121\n",
      "distributed.scheduler - INFO - Starting worker compute stream, tcp://10.32.23.2:43121\n",
      "distributed.core - INFO - Starting established connection\n",
      "distributed.scheduler - INFO - Register tcp://10.32.23.3:42431\n",
      "distributed.scheduler - INFO - Starting worker compute stream, tcp://10.32.23.3:42431\n",
      "distributed.core - INFO - Starting established connection\n",
      "distributed.scheduler - INFO - Remove worker tcp://10.32.23.3:42431\n",
      "distributed.core - INFO - Removing comms to tcp://10.32.23.3:42431\n",
      "distributed.scheduler - INFO - Remove worker tcp://10.32.23.2:43121\n",
      "distributed.core - INFO - Removing comms to tcp://10.32.23.2:43121\n",
      "distributed.scheduler - INFO - Remove worker tcp://10.32.22.2:37839\n",
      "distributed.core - INFO - Removing comms to tcp://10.32.22.2:37839\n",
      "distributed.scheduler - INFO - Remove worker tcp://10.32.22.4:40063\n",
      "distributed.core - INFO - Removing comms to tcp://10.32.22.4:40063\n",
      "distributed.scheduler - INFO - Register tcp://10.32.22.3:42843\n",
      "distributed.scheduler - INFO - Starting worker compute stream, tcp://10.32.22.3:42843\n",
      "distributed.core - INFO - Starting established connection\n",
      "distributed.scheduler - INFO - Register tcp://10.32.22.2:37975\n",
      "distributed.scheduler - INFO - Starting worker compute stream, tcp://10.32.22.2:37975\n",
      "distributed.core - INFO - Starting established connection\n"
     ]
    }
   ],
   "source": [
    "    print('Select dates in zarr')\n",
    "    u=ds_u.sel(time_counter=slice('2010-03-01','2010-03-31'))['sozocrtx']\n",
    "    v=ds_v.sel(time_counter=slice('2010-03-01','2010-03-31'))['somecrty']\n"
   ]
  },
  {
   "cell_type": "code",
   "execution_count": 9,
   "metadata": {},
   "outputs": [
    {
     "data": {
      "text/html": [
       "<pre>&lt;xarray.DataArray &#x27;sozocrtx&#x27; (time_counter: 744, y: 4729, x: 8354)&gt;\n",
       "dask.array&lt;getitem, shape=(744, 4729, 8354), dtype=float32, chunksize=(24, 120, 120), chunktype=numpy.ndarray&gt;\n",
       "Coordinates:\n",
       "    nav_lat        (y, x) float32 dask.array&lt;chunksize=(296, 1045), meta=np.ndarray&gt;\n",
       "    nav_lon        (y, x) float32 dask.array&lt;chunksize=(296, 1045), meta=np.ndarray&gt;\n",
       "    time_centered  (time_counter) datetime64[ns] dask.array&lt;chunksize=(120,), meta=np.ndarray&gt;\n",
       "  * time_counter   (time_counter) datetime64[ns] 2010-03-01T00:30:00 ... 2010-03-31T23:30:00\n",
       "Dimensions without coordinates: y, x\n",
       "Attributes:\n",
       "    cell_methods:        time: mean (interval: 40 s)\n",
       "    interval_operation:  40 s\n",
       "    interval_write:      1 h\n",
       "    long_name:           ocean surface current along i-axis\n",
       "    online_operation:    average\n",
       "    units:               m/s</pre>"
      ],
      "text/plain": [
       "<xarray.DataArray 'sozocrtx' (time_counter: 744, y: 4729, x: 8354)>\n",
       "dask.array<getitem, shape=(744, 4729, 8354), dtype=float32, chunksize=(24, 120, 120), chunktype=numpy.ndarray>\n",
       "Coordinates:\n",
       "    nav_lat        (y, x) float32 dask.array<chunksize=(296, 1045), meta=np.ndarray>\n",
       "    nav_lon        (y, x) float32 dask.array<chunksize=(296, 1045), meta=np.ndarray>\n",
       "    time_centered  (time_counter) datetime64[ns] dask.array<chunksize=(120,), meta=np.ndarray>\n",
       "  * time_counter   (time_counter) datetime64[ns] 2010-03-01T00:30:00 ... 2010-03-31T23:30:00\n",
       "Dimensions without coordinates: y, x\n",
       "Attributes:\n",
       "    cell_methods:        time: mean (interval: 40 s)\n",
       "    interval_operation:  40 s\n",
       "    interval_write:      1 h\n",
       "    long_name:           ocean surface current along i-axis\n",
       "    online_operation:    average\n",
       "    units:               m/s"
      ]
     },
     "execution_count": 9,
     "metadata": {},
     "output_type": "execute_result"
    }
   ],
   "source": [
    "u"
   ]
  },
  {
   "cell_type": "code",
   "execution_count": 10,
   "metadata": {},
   "outputs": [
    {
     "name": "stderr",
     "output_type": "stream",
     "text": [
      "/srv/conda/envs/notebook/lib/python3.7/site-packages/xarray/core/common.py:736: FutureWarning: This DataArray contains multi-dimensional coordinates. In the future, the dimension order of these coordinates will be restored as well unless you specify restore_coord_dims=False.\n",
      "  \"include_lowest\": include_lowest,\n"
     ]
    }
   ],
   "source": [
    "u_group=u.groupby_bins('x',np.arange(0,8354,60))"
   ]
  },
  {
   "cell_type": "code",
   "execution_count": 13,
   "metadata": {},
   "outputs": [],
   "source": [
    "u_coarsex=u_group.mean(dim='x')"
   ]
  },
  {
   "cell_type": "code",
   "execution_count": 14,
   "metadata": {},
   "outputs": [
    {
     "data": {
      "text/html": [
       "<pre>&lt;xarray.DataArray &#x27;sozocrtx&#x27; (time_counter: 744, y: 4729, x_bins: 139)&gt;\n",
       "dask.array&lt;transpose, shape=(744, 4729, 139), dtype=float32, chunksize=(24, 120, 1), chunktype=numpy.ndarray&gt;\n",
       "Coordinates:\n",
       "  * x_bins         (x_bins) object (0, 60] (60, 120] ... (8280, 8340]\n",
       "    time_centered  (time_counter) datetime64[ns] dask.array&lt;chunksize=(120,), meta=np.ndarray&gt;\n",
       "  * time_counter   (time_counter) datetime64[ns] 2010-03-01T00:30:00 ... 2010-03-31T23:30:00\n",
       "Dimensions without coordinates: y</pre>"
      ],
      "text/plain": [
       "<xarray.DataArray 'sozocrtx' (time_counter: 744, y: 4729, x_bins: 139)>\n",
       "dask.array<transpose, shape=(744, 4729, 139), dtype=float32, chunksize=(24, 120, 1), chunktype=numpy.ndarray>\n",
       "Coordinates:\n",
       "  * x_bins         (x_bins) object (0, 60] (60, 120] ... (8280, 8340]\n",
       "    time_centered  (time_counter) datetime64[ns] dask.array<chunksize=(120,), meta=np.ndarray>\n",
       "  * time_counter   (time_counter) datetime64[ns] 2010-03-01T00:30:00 ... 2010-03-31T23:30:00\n",
       "Dimensions without coordinates: y"
      ]
     },
     "execution_count": 14,
     "metadata": {},
     "output_type": "execute_result"
    }
   ],
   "source": [
    "u_coarsex"
   ]
  },
  {
   "cell_type": "code",
   "execution_count": 15,
   "metadata": {},
   "outputs": [],
   "source": [
    "u_coarsexy=u_coarsex.groupby_bins('y',np.arange(0,4729,60)).mean(dim='y')"
   ]
  },
  {
   "cell_type": "code",
   "execution_count": 16,
   "metadata": {},
   "outputs": [
    {
     "data": {
      "text/html": [
       "<pre>&lt;xarray.DataArray &#x27;sozocrtx&#x27; (time_counter: 744, y_bins: 78, x_bins: 139)&gt;\n",
       "dask.array&lt;transpose, shape=(744, 78, 139), dtype=float32, chunksize=(24, 1, 1), chunktype=numpy.ndarray&gt;\n",
       "Coordinates:\n",
       "  * y_bins         (y_bins) object (0, 60] (60, 120] ... (4620, 4680]\n",
       "  * x_bins         (x_bins) object (0, 60] (60, 120] ... (8280, 8340]\n",
       "    time_centered  (time_counter) datetime64[ns] dask.array&lt;chunksize=(120,), meta=np.ndarray&gt;\n",
       "  * time_counter   (time_counter) datetime64[ns] 2010-03-01T00:30:00 ... 2010-03-31T23:30:00</pre>"
      ],
      "text/plain": [
       "<xarray.DataArray 'sozocrtx' (time_counter: 744, y_bins: 78, x_bins: 139)>\n",
       "dask.array<transpose, shape=(744, 78, 139), dtype=float32, chunksize=(24, 1, 1), chunktype=numpy.ndarray>\n",
       "Coordinates:\n",
       "  * y_bins         (y_bins) object (0, 60] (60, 120] ... (4620, 4680]\n",
       "  * x_bins         (x_bins) object (0, 60] (60, 120] ... (8280, 8340]\n",
       "    time_centered  (time_counter) datetime64[ns] dask.array<chunksize=(120,), meta=np.ndarray>\n",
       "  * time_counter   (time_counter) datetime64[ns] 2010-03-01T00:30:00 ... 2010-03-31T23:30:00"
      ]
     },
     "execution_count": 16,
     "metadata": {},
     "output_type": "execute_result"
    }
   ],
   "source": [
    "u_coarsexy"
   ]
  },
  {
   "cell_type": "code",
   "execution_count": 17,
   "metadata": {},
   "outputs": [
    {
     "name": "stderr",
     "output_type": "stream",
     "text": [
      "/srv/conda/envs/notebook/lib/python3.7/site-packages/dask/array/numpy_compat.py:40: RuntimeWarning: invalid value encountered in true_divide\n",
      "  x = np.divide(x1, x2, out)\n"
     ]
    },
    {
     "data": {
      "text/plain": [
       "<matplotlib.collections.QuadMesh at 0x7f319142c828>"
      ]
     },
     "execution_count": 17,
     "metadata": {},
     "output_type": "execute_result"
    },
    {
     "data": {
      "image/png": "[encoded data removed]",
      "text/plain": [
       "<Figure size 432x288 with 2 Axes>"
      ]
     },
     "metadata": {
      "needs_background": "light"
     },
     "output_type": "display_data"
    }
   ],
   "source": [
    "u_coarsexy[0].plot()"
   ]
  },
  {
   "cell_type": "code",
   "execution_count": 18,
   "metadata": {},
   "outputs": [
    {
     "name": "stderr",
     "output_type": "stream",
     "text": [
      "distributed.scheduler - INFO - Remove worker tcp://10.32.29.3:33625\n",
      "distributed.core - INFO - Removing comms to tcp://10.32.29.3:33625\n",
      "distributed.scheduler - INFO - Remove worker tcp://10.32.32.2:40117\n",
      "distributed.core - INFO - Removing comms to tcp://10.32.32.2:40117\n",
      "distributed.scheduler - INFO - Remove worker tcp://10.32.15.2:40509\n",
      "distributed.core - INFO - Removing comms to tcp://10.32.15.2:40509\n",
      "distributed.scheduler - INFO - Remove worker tcp://10.32.24.2:42551\n",
      "distributed.core - INFO - Removing comms to tcp://10.32.24.2:42551\n",
      "distributed.scheduler - INFO - Remove worker tcp://10.32.24.3:44973\n",
      "distributed.core - INFO - Removing comms to tcp://10.32.24.3:44973\n",
      "distributed.scheduler - INFO - Remove worker tcp://10.32.18.3:36933\n",
      "distributed.core - INFO - Removing comms to tcp://10.32.18.3:36933\n",
      "distributed.scheduler - INFO - Remove worker tcp://10.32.13.2:44589\n",
      "distributed.core - INFO - Removing comms to tcp://10.32.13.2:44589\n",
      "distributed.scheduler - INFO - Remove worker tcp://10.32.18.2:44573\n",
      "distributed.core - INFO - Removing comms to tcp://10.32.18.2:44573\n",
      "distributed.scheduler - INFO - Remove worker tcp://10.32.43.28:46799\n",
      "distributed.core - INFO - Removing comms to tcp://10.32.43.28:46799\n",
      "distributed.scheduler - INFO - Remove worker tcp://10.32.34.3:37803\n",
      "distributed.core - INFO - Removing comms to tcp://10.32.34.3:37803\n",
      "distributed.scheduler - INFO - Remove worker tcp://10.32.7.4:39159\n",
      "distributed.core - INFO - Removing comms to tcp://10.32.7.4:39159\n",
      "distributed.scheduler - INFO - Remove worker tcp://10.32.27.3:45699\n",
      "distributed.core - INFO - Removing comms to tcp://10.32.27.3:45699\n",
      "distributed.scheduler - INFO - Remove worker tcp://10.32.19.2:43513\n",
      "distributed.core - INFO - Removing comms to tcp://10.32.19.2:43513\n",
      "distributed.scheduler - INFO - Remove worker tcp://10.32.23.2:42533\n",
      "distributed.core - INFO - Removing comms to tcp://10.32.23.2:42533\n",
      "distributed.scheduler - INFO - Remove worker tcp://10.32.15.3:38257\n",
      "distributed.core - INFO - Removing comms to tcp://10.32.15.3:38257\n",
      "distributed.scheduler - INFO - Remove worker tcp://10.32.26.2:39383\n",
      "distributed.core - INFO - Removing comms to tcp://10.32.26.2:39383\n",
      "distributed.scheduler - INFO - Remove worker tcp://10.32.28.3:34185\n",
      "distributed.core - INFO - Removing comms to tcp://10.32.28.3:34185\n",
      "distributed.scheduler - INFO - Remove worker tcp://10.32.14.2:46133\n",
      "distributed.core - INFO - Removing comms to tcp://10.32.14.2:46133\n",
      "distributed.scheduler - INFO - Remove worker tcp://10.32.10.3:41409\n",
      "distributed.core - INFO - Removing comms to tcp://10.32.10.3:41409\n",
      "distributed.scheduler - INFO - Remove worker tcp://10.32.10.2:33909\n",
      "distributed.core - INFO - Removing comms to tcp://10.32.10.2:33909\n",
      "distributed.scheduler - INFO - Remove worker tcp://10.32.32.3:40927\n",
      "distributed.core - INFO - Removing comms to tcp://10.32.32.3:40927\n",
      "distributed.scheduler - INFO - Remove worker tcp://10.32.26.3:43251\n",
      "distributed.core - INFO - Removing comms to tcp://10.32.26.3:43251\n",
      "distributed.scheduler - INFO - Remove worker tcp://10.32.6.2:35699\n",
      "distributed.core - INFO - Removing comms to tcp://10.32.6.2:35699\n",
      "Task exception was never retrieved\n",
      "future: <Task finished coro=<Pod.close() done, defined at /srv/conda/envs/notebook/lib/python3.7/site-packages/dask_kubernetes/core.py:76> exception=ApiException()>\n",
      "Traceback (most recent call last):\n",
      "  File \"/srv/conda/envs/notebook/lib/python3.7/site-packages/dask_kubernetes/core.py\", line 79, in close\n",
      "    self._pod.metadata.name, self.namespace\n",
      "  File \"/srv/conda/envs/notebook/lib/python3.7/site-packages/kubernetes_asyncio/client/api_client.py\", line 184, in __call_api\n",
      "    _request_timeout=_request_timeout)\n",
      "  File \"/srv/conda/envs/notebook/lib/python3.7/site-packages/kubernetes_asyncio/client/rest.py\", line 224, in DELETE\n",
      "    body=body))\n",
      "  File \"/srv/conda/envs/notebook/lib/python3.7/site-packages/kubernetes_asyncio/client/rest.py\", line 186, in request\n",
      "    raise ApiException(http_resp=r)\n",
      "kubernetes_asyncio.client.exceptions.ApiException: (404)\n",
      "Reason: Not Found\n",
      "HTTP response headers: <CIMultiDictProxy('Audit-Id': '824f647f-ac25-4fbc-81d1-739acfa3c534', 'Content-Type': 'application/json', 'Date': 'Wed, 06 May 2020 14:39:06 GMT', 'Content-Length': '248')>\n",
      "HTTP response body: {\"kind\":\"Status\",\"apiVersion\":\"v1\",\"metadata\":{},\"status\":\"Failure\",\"message\":\"pods \\\"dask-0000-0001-7783-5629-f33abfcc-6wvw8j\\\" not found\",\"reason\":\"NotFound\",\"details\":{\"name\":\"dask-0000-0001-7783-5629-f33abfcc-6wvw8j\",\"kind\":\"pods\"},\"code\":404}\n",
      "\n",
      "\n",
      "Task exception was never retrieved\n",
      "future: <Task finished coro=<Pod.close() done, defined at /srv/conda/envs/notebook/lib/python3.7/site-packages/dask_kubernetes/core.py:76> exception=ApiException()>\n",
      "Traceback (most recent call last):\n",
      "  File \"/srv/conda/envs/notebook/lib/python3.7/site-packages/dask_kubernetes/core.py\", line 79, in close\n",
      "    self._pod.metadata.name, self.namespace\n",
      "  File \"/srv/conda/envs/notebook/lib/python3.7/site-packages/kubernetes_asyncio/client/api_client.py\", line 184, in __call_api\n",
      "    _request_timeout=_request_timeout)\n",
      "  File \"/srv/conda/envs/notebook/lib/python3.7/site-packages/kubernetes_asyncio/client/rest.py\", line 224, in DELETE\n",
      "    body=body))\n",
      "  File \"/srv/conda/envs/notebook/lib/python3.7/site-packages/kubernetes_asyncio/client/rest.py\", line 186, in request\n",
      "    raise ApiException(http_resp=r)\n",
      "kubernetes_asyncio.client.exceptions.ApiException: (404)\n",
      "Reason: Not Found\n",
      "HTTP response headers: <CIMultiDictProxy('Audit-Id': 'dbd70d0f-d34f-4294-9bc4-24ec2770a690', 'Content-Type': 'application/json', 'Date': 'Wed, 06 May 2020 14:39:06 GMT', 'Content-Length': '248')>\n",
      "HTTP response body: {\"kind\":\"Status\",\"apiVersion\":\"v1\",\"metadata\":{},\"status\":\"Failure\",\"message\":\"pods \\\"dask-0000-0001-7783-5629-f33abfcc-6gzhqq\\\" not found\",\"reason\":\"NotFound\",\"details\":{\"name\":\"dask-0000-0001-7783-5629-f33abfcc-6gzhqq\",\"kind\":\"pods\"},\"code\":404}\n",
      "\n",
      "\n",
      "Task exception was never retrieved\n",
      "future: <Task finished coro=<Pod.close() done, defined at /srv/conda/envs/notebook/lib/python3.7/site-packages/dask_kubernetes/core.py:76> exception=ApiException()>\n",
      "Traceback (most recent call last):\n",
      "  File \"/srv/conda/envs/notebook/lib/python3.7/site-packages/dask_kubernetes/core.py\", line 79, in close\n",
      "    self._pod.metadata.name, self.namespace\n",
      "  File \"/srv/conda/envs/notebook/lib/python3.7/site-packages/kubernetes_asyncio/client/api_client.py\", line 184, in __call_api\n",
      "    _request_timeout=_request_timeout)\n",
      "  File \"/srv/conda/envs/notebook/lib/python3.7/site-packages/kubernetes_asyncio/client/rest.py\", line 224, in DELETE\n",
      "    body=body))\n",
      "  File \"/srv/conda/envs/notebook/lib/python3.7/site-packages/kubernetes_asyncio/client/rest.py\", line 186, in request\n",
      "    raise ApiException(http_resp=r)\n",
      "kubernetes_asyncio.client.exceptions.ApiException: (404)\n",
      "Reason: Not Found\n",
      "HTTP response headers: <CIMultiDictProxy('Audit-Id': 'ff38d309-245c-4119-9325-a1e75ccd8bce', 'Content-Type': 'application/json', 'Date': 'Wed, 06 May 2020 14:39:06 GMT', 'Content-Length': '248')>\n",
      "HTTP response body: {\"kind\":\"Status\",\"apiVersion\":\"v1\",\"metadata\":{},\"status\":\"Failure\",\"message\":\"pods \\\"dask-0000-0001-7783-5629-f33abfcc-6c28js\\\" not found\",\"reason\":\"NotFound\",\"details\":{\"name\":\"dask-0000-0001-7783-5629-f33abfcc-6c28js\",\"kind\":\"pods\"},\"code\":404}\n",
      "\n",
      "\n",
      "Task exception was never retrieved\n",
      "future: <Task finished coro=<Pod.close() done, defined at /srv/conda/envs/notebook/lib/python3.7/site-packages/dask_kubernetes/core.py:76> exception=ApiException()>\n",
      "Traceback (most recent call last):\n",
      "  File \"/srv/conda/envs/notebook/lib/python3.7/site-packages/dask_kubernetes/core.py\", line 79, in close\n",
      "    self._pod.metadata.name, self.namespace\n",
      "  File \"/srv/conda/envs/notebook/lib/python3.7/site-packages/kubernetes_asyncio/client/api_client.py\", line 184, in __call_api\n",
      "    _request_timeout=_request_timeout)\n",
      "  File \"/srv/conda/envs/notebook/lib/python3.7/site-packages/kubernetes_asyncio/client/rest.py\", line 224, in DELETE\n",
      "    body=body))\n",
      "  File \"/srv/conda/envs/notebook/lib/python3.7/site-packages/kubernetes_asyncio/client/rest.py\", line 186, in request\n",
      "    raise ApiException(http_resp=r)\n",
      "kubernetes_asyncio.client.exceptions.ApiException: (404)\n",
      "Reason: Not Found\n",
      "HTTP response headers: <CIMultiDictProxy('Audit-Id': 'a02d340b-5b0a-499b-b9a3-fdf251989916', 'Content-Type': 'application/json', 'Date': 'Wed, 06 May 2020 14:39:06 GMT', 'Content-Length': '248')>\n",
      "HTTP response body: {\"kind\":\"Status\",\"apiVersion\":\"v1\",\"metadata\":{},\"status\":\"Failure\",\"message\":\"pods \\\"dask-0000-0001-7783-5629-f33abfcc-65gh7n\\\" not found\",\"reason\":\"NotFound\",\"details\":{\"name\":\"dask-0000-0001-7783-5629-f33abfcc-65gh7n\",\"kind\":\"pods\"},\"code\":404}\n",
      "\n",
      "\n",
      "Task exception was never retrieved\n",
      "future: <Task finished coro=<Pod.close() done, defined at /srv/conda/envs/notebook/lib/python3.7/site-packages/dask_kubernetes/core.py:76> exception=ApiException()>\n",
      "Traceback (most recent call last):\n",
      "  File \"/srv/conda/envs/notebook/lib/python3.7/site-packages/dask_kubernetes/core.py\", line 79, in close\n",
      "    self._pod.metadata.name, self.namespace\n",
      "  File \"/srv/conda/envs/notebook/lib/python3.7/site-packages/kubernetes_asyncio/client/api_client.py\", line 184, in __call_api\n",
      "    _request_timeout=_request_timeout)\n",
      "  File \"/srv/conda/envs/notebook/lib/python3.7/site-packages/kubernetes_asyncio/client/rest.py\", line 224, in DELETE\n",
      "    body=body))\n",
      "  File \"/srv/conda/envs/notebook/lib/python3.7/site-packages/kubernetes_asyncio/client/rest.py\", line 186, in request\n",
      "    raise ApiException(http_resp=r)\n",
      "kubernetes_asyncio.client.exceptions.ApiException: (404)\n",
      "Reason: Not Found\n",
      "HTTP response headers: <CIMultiDictProxy('Audit-Id': '4a7eaf69-f9af-439c-8286-2546f16f6a6e', 'Content-Type': 'application/json', 'Date': 'Wed, 06 May 2020 14:39:06 GMT', 'Content-Length': '248')>\n",
      "HTTP response body: {\"kind\":\"Status\",\"apiVersion\":\"v1\",\"metadata\":{},\"status\":\"Failure\",\"message\":\"pods \\\"dask-0000-0001-7783-5629-f33abfcc-6c94sn\\\" not found\",\"reason\":\"NotFound\",\"details\":{\"name\":\"dask-0000-0001-7783-5629-f33abfcc-6c94sn\",\"kind\":\"pods\"},\"code\":404}\n",
      "\n",
      "\n",
      "Task exception was never retrieved\n",
      "future: <Task finished coro=<Pod.close() done, defined at /srv/conda/envs/notebook/lib/python3.7/site-packages/dask_kubernetes/core.py:76> exception=ApiException()>\n",
      "Traceback (most recent call last):\n",
      "  File \"/srv/conda/envs/notebook/lib/python3.7/site-packages/dask_kubernetes/core.py\", line 79, in close\n",
      "    self._pod.metadata.name, self.namespace\n",
      "  File \"/srv/conda/envs/notebook/lib/python3.7/site-packages/kubernetes_asyncio/client/api_client.py\", line 184, in __call_api\n",
      "    _request_timeout=_request_timeout)\n",
      "  File \"/srv/conda/envs/notebook/lib/python3.7/site-packages/kubernetes_asyncio/client/rest.py\", line 224, in DELETE\n",
      "    body=body))\n",
      "  File \"/srv/conda/envs/notebook/lib/python3.7/site-packages/kubernetes_asyncio/client/rest.py\", line 186, in request\n",
      "    raise ApiException(http_resp=r)\n",
      "kubernetes_asyncio.client.exceptions.ApiException: (404)\n",
      "Reason: Not Found\n",
      "HTTP response headers: <CIMultiDictProxy('Audit-Id': '4df9b44f-3828-45f8-bcc0-4d3205f1f94a', 'Content-Type': 'application/json', 'Date': 'Wed, 06 May 2020 14:39:06 GMT', 'Content-Length': '248')>\n",
      "HTTP response body: {\"kind\":\"Status\",\"apiVersion\":\"v1\",\"metadata\":{},\"status\":\"Failure\",\"message\":\"pods \\\"dask-0000-0001-7783-5629-f33abfcc-6xhknr\\\" not found\",\"reason\":\"NotFound\",\"details\":{\"name\":\"dask-0000-0001-7783-5629-f33abfcc-6xhknr\",\"kind\":\"pods\"},\"code\":404}\n",
      "\n",
      "\n",
      "distributed.scheduler - INFO - Remove worker tcp://10.32.14.3:38277\n",
      "distributed.core - INFO - Removing comms to tcp://10.32.14.3:38277\n",
      "distributed.scheduler - INFO - Remove worker tcp://10.32.13.3:40393\n",
      "distributed.core - INFO - Removing comms to tcp://10.32.13.3:40393\n",
      "distributed.scheduler - INFO - Remove worker tcp://10.32.22.3:42843\n",
      "distributed.core - INFO - Removing comms to tcp://10.32.22.3:42843\n",
      "distributed.scheduler - INFO - Remove worker tcp://10.32.22.2:37975\n",
      "distributed.core - INFO - Removing comms to tcp://10.32.22.2:37975\n",
      "distributed.scheduler - INFO - Remove worker tcp://10.32.34.2:35841\n",
      "distributed.core - INFO - Removing comms to tcp://10.32.34.2:35841\n",
      "distributed.scheduler - INFO - Remove worker tcp://10.32.19.3:38771\n",
      "distributed.core - INFO - Removing comms to tcp://10.32.19.3:38771\n",
      "distributed.scheduler - INFO - Remove worker tcp://10.32.29.2:38835\n",
      "distributed.core - INFO - Removing comms to tcp://10.32.29.2:38835\n",
      "distributed.scheduler - INFO - Remove worker tcp://10.32.23.3:34637\n",
      "distributed.core - INFO - Removing comms to tcp://10.32.23.3:34637\n",
      "distributed.scheduler - INFO - Remove worker tcp://10.32.28.2:35611\n",
      "distributed.core - INFO - Removing comms to tcp://10.32.28.2:35611\n",
      "distributed.scheduler - INFO - Remove worker tcp://10.32.7.2:35379\n",
      "distributed.core - INFO - Removing comms to tcp://10.32.7.2:35379\n",
      "distributed.scheduler - INFO - Remove worker tcp://10.32.27.4:41759\n",
      "distributed.core - INFO - Removing comms to tcp://10.32.27.4:41759\n",
      "distributed.scheduler - INFO - Lost all workers\n",
      "distributed.scheduler - INFO - Scheduler closing...\n",
      "distributed.scheduler - INFO - Scheduler closing all comms\n"
     ]
    }
   ],
   "source": [
    "cluster.close()"
   ]
  },
  {
   "cell_type": "code",
   "execution_count": null,
   "metadata": {},
   "outputs": [],
   "source": []
  }
 ],
 "metadata": {
  "kernelspec": {
   "display_name": "Python 3",
   "language": "python",
   "name": "python3"
  },
  "language_info": {
   "codemirror_mode": {
    "name": "ipython",
    "version": 3
   },
   "file_extension": ".py",
   "mimetype": "text/x-python",
   "name": "python",
   "nbconvert_exporter": "python",
   "pygments_lexer": "ipython3",
   "version": "3.7.3"
  }
 },
 "nbformat": 4,
 "nbformat_minor": 4
}
