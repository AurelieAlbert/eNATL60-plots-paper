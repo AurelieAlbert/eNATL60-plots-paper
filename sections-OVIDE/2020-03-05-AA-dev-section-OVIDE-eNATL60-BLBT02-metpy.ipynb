{
 "cells": [
  {
   "cell_type": "markdown",
   "metadata": {},
   "source": [
    "# Comparison of temperature and salinity sections along the OVIDE campaign\n",
    "\n",
    " - the coordinates of the OVIDE section : coord_OVIDE.txt\n",
    " - date of the campaign : 23/06/2012 to 20/07/2012\n",
    " - the OVIDE data are in : /scratch/cnt0024/hmg2840/albert7a/OVIDE/\n",
    " "
   ]
  },
  {
   "cell_type": "code",
   "execution_count": 1,
   "metadata": {},
   "outputs": [
    {
     "name": "stdout",
     "output_type": "stream",
     "text": [
      "Collecting metpy\n",
      "\u001b[?25l  Downloading https://files.pythonhosted.org/packages/f3/6c/a8a232cfeafc61c4438bc6768bdcd28ef21a0a21611052a1469547041686/MetPy-0.12.0-py3-none-any.whl (319kB)\n",
      "\u001b[K     |████████████████████████████████| 327kB 2.4MB/s eta 0:00:01\n",
      "\u001b[?25hCollecting pooch>=0.1 (from metpy)\n",
      "  Downloading https://files.pythonhosted.org/packages/16/f6/b2481c144cd4d784b1c600d618c308c99f26a3e6a4b260953bc5e814d2dd/pooch-1.0.0-py3-none-any.whl\n",
      "Requirement already satisfied: traitlets>=4.3.0 in /scratch/cnt0024/hmg2840/albert7a/anaconda3/lib/python3.7/site-packages (from metpy) (4.3.3)\n",
      "Collecting pint>=0.8 (from metpy)\n",
      "\u001b[?25l  Downloading https://files.pythonhosted.org/packages/9d/db/7a2204b03c22069839958df5723eb2718d50c33052e0da84c9a83de14ea4/Pint-0.11-py2.py3-none-any.whl (186kB)\n",
      "\u001b[K     |████████████████████████████████| 194kB 4.5MB/s eta 0:00:01\n",
      "\u001b[?25hRequirement already satisfied: xarray>=0.10.7 in /scratch/cnt0024/hmg2840/albert7a/anaconda3/lib/python3.7/site-packages (from metpy) (0.14.1)\n",
      "Requirement already satisfied: pandas>=0.22.0 in /scratch/cnt0024/hmg2840/albert7a/anaconda3/lib/python3.7/site-packages (from metpy) (0.25.1)\n",
      "Requirement already satisfied: scipy>=1.0 in /scratch/cnt0024/hmg2840/albert7a/anaconda3/lib/python3.7/site-packages (from metpy) (1.3.1)\n",
      "Requirement already satisfied: numpy>=1.13.0 in /scratch/cnt0024/hmg2840/albert7a/anaconda3/lib/python3.7/site-packages (from metpy) (1.17.2)\n",
      "Requirement already satisfied: matplotlib>=2.1.0 in /scratch/cnt0024/hmg2840/albert7a/anaconda3/lib/python3.7/site-packages (from metpy) (3.1.1)\n",
      "Requirement already satisfied: packaging in /scratch/cnt0024/hmg2840/albert7a/anaconda3/lib/python3.7/site-packages (from pooch>=0.1->metpy) (19.2)\n",
      "Collecting appdirs (from pooch>=0.1->metpy)\n",
      "  Downloading https://files.pythonhosted.org/packages/56/eb/810e700ed1349edde4cbdc1b2a21e28cdf115f9faf263f6bbf8447c1abf3/appdirs-1.4.3-py2.py3-none-any.whl\n",
      "Requirement already satisfied: requests in /scratch/cnt0024/hmg2840/albert7a/anaconda3/lib/python3.7/site-packages (from pooch>=0.1->metpy) (2.22.0)\n",
      "Requirement already satisfied: ipython-genutils in /scratch/cnt0024/hmg2840/albert7a/anaconda3/lib/python3.7/site-packages (from traitlets>=4.3.0->metpy) (0.2.0)\n",
      "Requirement already satisfied: six in /scratch/cnt0024/hmg2840/albert7a/anaconda3/lib/python3.7/site-packages (from traitlets>=4.3.0->metpy) (1.12.0)\n",
      "Requirement already satisfied: decorator in /scratch/cnt0024/hmg2840/albert7a/anaconda3/lib/python3.7/site-packages (from traitlets>=4.3.0->metpy) (4.4.0)\n",
      "Requirement already satisfied: setuptools in /scratch/cnt0024/hmg2840/albert7a/anaconda3/lib/python3.7/site-packages (from pint>=0.8->metpy) (41.4.0)\n",
      "Requirement already satisfied: python-dateutil>=2.6.1 in /scratch/cnt0024/hmg2840/albert7a/anaconda3/lib/python3.7/site-packages (from pandas>=0.22.0->metpy) (2.8.0)\n",
      "Requirement already satisfied: pytz>=2017.2 in /scratch/cnt0024/hmg2840/albert7a/anaconda3/lib/python3.7/site-packages (from pandas>=0.22.0->metpy) (2019.3)\n",
      "Requirement already satisfied: pyparsing!=2.0.4,!=2.1.2,!=2.1.6,>=2.0.1 in /scratch/cnt0024/hmg2840/albert7a/anaconda3/lib/python3.7/site-packages (from matplotlib>=2.1.0->metpy) (2.4.2)\n",
      "Requirement already satisfied: kiwisolver>=1.0.1 in /scratch/cnt0024/hmg2840/albert7a/anaconda3/lib/python3.7/site-packages (from matplotlib>=2.1.0->metpy) (1.1.0)\n",
      "Requirement already satisfied: cycler>=0.10 in /scratch/cnt0024/hmg2840/albert7a/anaconda3/lib/python3.7/site-packages (from matplotlib>=2.1.0->metpy) (0.10.0)\n",
      "Requirement already satisfied: chardet<3.1.0,>=3.0.2 in /scratch/cnt0024/hmg2840/albert7a/anaconda3/lib/python3.7/site-packages (from requests->pooch>=0.1->metpy) (3.0.4)\n",
      "Requirement already satisfied: urllib3!=1.25.0,!=1.25.1,<1.26,>=1.21.1 in /scratch/cnt0024/hmg2840/albert7a/anaconda3/lib/python3.7/site-packages (from requests->pooch>=0.1->metpy) (1.25.6)\n",
      "Requirement already satisfied: certifi>=2017.4.17 in /scratch/cnt0024/hmg2840/albert7a/anaconda3/lib/python3.7/site-packages (from requests->pooch>=0.1->metpy) (2019.9.11)\n",
      "Requirement already satisfied: idna<2.9,>=2.5 in /scratch/cnt0024/hmg2840/albert7a/anaconda3/lib/python3.7/site-packages (from requests->pooch>=0.1->metpy) (2.8)\n",
      "Installing collected packages: appdirs, pooch, pint, metpy\n",
      "Successfully installed appdirs-1.4.3 metpy-0.12.0 pint-0.11 pooch-1.0.0\n"
     ]
    }
   ],
   "source": [
    "!pip install metpy\n"
   ]
  },
  {
   "cell_type": "code",
   "execution_count": 3,
   "metadata": {},
   "outputs": [
    {
     "name": "stderr",
     "output_type": "stream",
     "text": [
      "/scratch/cnt0024/hmg2840/albert7a/anaconda3/lib/python3.7/site-packages/distributed/bokeh/core.py:74: UserWarning: \n",
      "Failed to start diagnostics server on port 8787. [Errno 13] Permission denied\n",
      "  warnings.warn(\"\\n\" + msg)\n"
     ]
    },
    {
     "data": {
      "text/html": [
       "<table style=\"border: 2px solid white;\">\n",
       "<tr>\n",
       "<td style=\"vertical-align: top; border: 0px solid white\">\n",
       "<h3>Client</h3>\n",
       "<ul>\n",
       "  <li><b>Scheduler: </b>tcp://172.30.100.4:42723\n",
       "  <li><b>Dashboard: </b><a href='http://172.30.100.4:46173/status' target='_blank'>http://172.30.100.4:46173/status</a>\n",
       "</ul>\n",
       "</td>\n",
       "<td style=\"vertical-align: top; border: 0px solid white\">\n",
       "<h3>Cluster</h3>\n",
       "<ul>\n",
       "  <li><b>Workers: </b>0</li>\n",
       "  <li><b>Cores: </b>0</li>\n",
       "  <li><b>Memory: </b>0 B</li>\n",
       "</ul>\n",
       "</td>\n",
       "</tr>\n",
       "</table>"
      ],
      "text/plain": [
       "<Client: scheduler='tcp://172.30.100.4:42723' processes=0 cores=0>"
      ]
     },
     "execution_count": 3,
     "metadata": {},
     "output_type": "execute_result"
    }
   ],
   "source": [
    "from dask_jobqueue import SLURMCluster \n",
    "from dask.distributed import Client \n",
    "  \n",
    "cluster = SLURMCluster(cores=28,name='make_sections',walltime='00:30:00',job_extra=['--constraint=HSW24','--exclusive','--nodes=1'],memory='120GB',interface='ib0') \n",
    "cluster.scale(420)\n",
    "cluster\n",
    "\n",
    "from dask.distributed import Client\n",
    "client = Client(cluster)\n",
    "client\n",
    "\n"
   ]
  },
  {
   "cell_type": "code",
   "execution_count": 4,
   "metadata": {},
   "outputs": [
    {
     "name": "stdout",
     "output_type": "stream",
     "text": [
      "             JOBID PARTITION     NAME     USER ST       TIME  NODES NODELIST(REASON)\n",
      "           9803138     hsw24 make_sec albert7a  R       0:00      1 n2673\n",
      "           9803139     hsw24 make_sec albert7a  R       0:00      1 n2999\n",
      "           9803140     hsw24 make_sec albert7a  R       0:00      1 n2566\n",
      "           9803141     hsw24 make_sec albert7a  R       0:00      1 n2580\n",
      "           9803142     hsw24 make_sec albert7a  R       0:00      1 n2229\n",
      "           9803143     hsw24 make_sec albert7a  R       0:00      1 n2238\n",
      "           9803144     hsw24 make_sec albert7a  R       0:00      1 n2239\n",
      "           9803145     hsw24 make_sec albert7a  R       0:00      1 n2494\n",
      "           9803146     hsw24 make_sec albert7a  R       0:00      1 n2495\n",
      "           9803147     hsw24 make_sec albert7a  R       0:00      1 n2496\n",
      "           9803148     hsw24 make_sec albert7a  R       0:00      1 n2620\n",
      "           9803149     hsw24 make_sec albert7a  R       0:00      1 n2621\n",
      "           9803150     hsw24 make_sec albert7a  R       0:00      1 n2628\n",
      "           9803151     hsw24 make_sec albert7a  R       0:00      1 n2291\n",
      "           9803152     hsw24 make_sec albert7a  R       0:00      1 n2293\n",
      "410\n"
     ]
    }
   ],
   "source": [
    "!squeue -u albert7a\n",
    "\n",
    "import time\n",
    "nb_workers = 0\n",
    "while True:\n",
    "    nb_workers = len(client.scheduler_info()[\"workers\"])\n",
    "    if nb_workers >= 2:\n",
    "        break\n",
    "    time.sleep(1)\n",
    "print(nb_workers)"
   ]
  },
  {
   "cell_type": "code",
   "execution_count": 2,
   "metadata": {},
   "outputs": [
    {
     "name": "stderr",
     "output_type": "stream",
     "text": [
      "/scratch/cnt0024/hmg2840/albert7a/anaconda3/lib/python3.7/site-packages/dask/config.py:168: YAMLLoadWarning: calling yaml.load() without Loader=... is deprecated, as the default Loader is unsafe. Please read https://msg.pyyaml.org/load for full details.\n",
      "  data = yaml.load(f.read()) or {}\n"
     ]
    }
   ],
   "source": [
    "import xarray as xr\n",
    "\n",
    "import glob\n",
    "import os\n",
    "\n",
    "import numpy as np\n",
    "import numpy.matlib\n",
    "import numpy.ma as ma\n",
    "\n",
    "import matplotlib.pyplot as plt\n",
    "import cartopy.crs as ccrs\n",
    "from cartopy.mpl.gridliner import LONGITUDE_FORMATTER, LATITUDE_FORMATTER\n",
    "\n",
    "import pyproj\n",
    "from pyproj import Geod\n",
    "geod = Geod(ellps='WGS84')\n",
    "\n",
    "%matplotlib inline"
   ]
  },
  {
   "cell_type": "markdown",
   "metadata": {},
   "source": [
    "## Define the OVIDE domain in eNATL60 data : in notebook sections-OVIDE/2020-03-04-AA-domain-OVIDE-in-eNATL60.ipynb\n",
    "\n",
    "Results : \n",
    " - imin = 2916\n",
    " - imax = 5296\n",
    " - jmin = 2257\n",
    " - jmax = 4066"
   ]
  },
  {
   "cell_type": "code",
   "execution_count": 5,
   "metadata": {},
   "outputs": [],
   "source": [
    "## Dataset\n",
    "\n",
    "gridfile='/store/CT1/hmg2840/lbrodeau/eNATL60/eNATL60-I/coordinates_eNATL60.nc'\n",
    "maskfile='/store/CT1/hmg2840/lbrodeau/eNATL60/eNATL60-I/mesh_mask_eNATL60_3.6.nc'\n"
   ]
  },
  {
   "cell_type": "code",
   "execution_count": 6,
   "metadata": {},
   "outputs": [],
   "source": [
    "dsgrid=xr.open_dataset(gridfile)\n",
    "nav_lon=dsgrid.nav_lon\n",
    "nav_lat=dsgrid.nav_lat"
   ]
  },
  {
   "cell_type": "code",
   "execution_count": 7,
   "metadata": {},
   "outputs": [],
   "source": [
    "coord_secOV_file='/scratch/cnt0024/hmg2840/albert7a/OVIDE/coord_section_OVIDE2012-2.nc'\n",
    "dsOV=xr.open_dataset(coord_secOV_file)\n",
    "latOV=dsOV.latitude\n",
    "lonOV=dsOV.longitude"
   ]
  },
  {
   "cell_type": "code",
   "execution_count": 8,
   "metadata": {},
   "outputs": [],
   "source": [
    "jmin = 2257\n",
    "jmax = 4066\n",
    "imin = 2916\n",
    "imax = 5296\n"
   ]
  },
  {
   "cell_type": "code",
   "execution_count": 9,
   "metadata": {},
   "outputs": [],
   "source": [
    "nav_lon_OVIDE=nav_lon[jmin:jmax,imin:imax]\n",
    "nav_lat_OVIDE=nav_lat[jmin:jmax,imin:imax]"
   ]
  },
  {
   "cell_type": "markdown",
   "metadata": {},
   "source": [
    "# Extract eNATL60 OVIDE domain and period"
   ]
  },
  {
   "cell_type": "code",
   "execution_count": 10,
   "metadata": {},
   "outputs": [],
   "source": [
    "dir='/store/CT1/hmg2840/lbrodeau/eNATL60/eNATL60-BLBT02*-S/'\n",
    "tfiles06='*/eNATL60-BLBT02*_gridT_201006??-201006??.nc'\n",
    "tfiles07='*/eNATL60-BLBT02*_gridT_201007??-201007??.nc'\n",
    "\n",
    "list_tfiles06=sorted(glob.glob(dir+tfiles06))\n",
    "list_tfiles07=sorted(glob.glob(dir+tfiles07))\n",
    "\n",
    "list_tfiles06_07=list_tfiles06+list_tfiles07\n",
    "\n",
    "sfiles06='*/eNATL60-BLBT02*_gridS_201006??-201006??.nc'\n",
    "sfiles07='*/eNATL60-BLBT02*_gridS_201007??-201007??.nc'\n",
    "\n",
    "list_sfiles06=sorted(glob.glob(dir+sfiles06))\n",
    "list_sfiles07=sorted(glob.glob(dir+sfiles07))\n",
    "\n",
    "list_sfiles06_07=list_sfiles06+list_sfiles07\n"
   ]
  },
  {
   "cell_type": "code",
   "execution_count": 11,
   "metadata": {},
   "outputs": [
    {
     "name": "stderr",
     "output_type": "stream",
     "text": [
      "/scratch/cnt0024/hmg2840/albert7a/anaconda3/lib/python3.7/site-packages/ipykernel_launcher.py:1: FutureWarning: In xarray version 0.15 the default behaviour of `open_mfdataset`\n",
      "will change. To retain the existing behavior, pass\n",
      "combine='nested'. To use future default behavior, pass\n",
      "combine='by_coords'. See\n",
      "http://xarray.pydata.org/en/stable/combining.html#combining-multi\n",
      "\n",
      "  \"\"\"Entry point for launching an IPython kernel.\n",
      "/scratch/cnt0024/hmg2840/albert7a/anaconda3/lib/python3.7/site-packages/xarray/backends/api.py:933: FutureWarning: The datasets supplied have global dimension coordinates. You may want\n",
      "to use the new `combine_by_coords` function (or the\n",
      "`combine='by_coords'` option to `open_mfdataset`) to order the datasets\n",
      "before concatenation. Alternatively, to continue concatenating based\n",
      "on the order the datasets are supplied in future, please use the new\n",
      "`combine_nested` function (or the `combine='nested'` option to\n",
      "open_mfdataset).\n",
      "  from_openmfds=True,\n"
     ]
    }
   ],
   "source": [
    "dst=xr.open_mfdataset(list_tfiles06_07,chunks={'x':700,'y':700,'deptht':1})\n",
    "dstsel=dst.sel(time_counter=slice('2010-06-23','2010-07-20'))\n",
    "temp_mean_OVIDE=dstsel.votemper[:,:,jmin:jmax,imin:imax].mean(dim='time_counter')\n"
   ]
  },
  {
   "cell_type": "code",
   "execution_count": 12,
   "metadata": {},
   "outputs": [],
   "source": [
    "lon_debut=lonOV[0]\n",
    "lat_debut=latOV[0]\n",
    "lon_fin=lonOV[1]\n",
    "lat_fin=latOV[1]\n"
   ]
  },
  {
   "cell_type": "code",
   "execution_count": 13,
   "metadata": {},
   "outputs": [],
   "source": [
    "start=(lon_debut,lat_debut)\n",
    "end=(lon_fin,lat_fin)"
   ]
  },
  {
   "cell_type": "code",
   "execution_count": 25,
   "metadata": {},
   "outputs": [],
   "source": [
    "x=xr.DataArray(np.arange(8354),dims='x',name='x')"
   ]
  },
  {
   "cell_type": "code",
   "execution_count": 27,
   "metadata": {},
   "outputs": [],
   "source": [
    "dsx=xr.Dataset({'x':x})"
   ]
  },
  {
   "cell_type": "code",
   "execution_count": 29,
   "metadata": {},
   "outputs": [],
   "source": [
    "y=xr.DataArray(np.arange(4729),dims='y',name='y')"
   ]
  },
  {
   "cell_type": "code",
   "execution_count": 40,
   "metadata": {},
   "outputs": [],
   "source": [
    "data2=xr.merge([dstsel,dsx,dsy])"
   ]
  },
  {
   "cell_type": "code",
   "execution_count": 41,
   "metadata": {},
   "outputs": [
    {
     "data": {
      "text/html": [
       "<pre>&lt;xarray.Dataset&gt;\n",
       "Dimensions:               (axis_nbounds: 2, deptht: 300, time_counter: 672, x: 8354, y: 4729)\n",
       "Coordinates:\n",
       "  * x                     (x) int64 0 1 2 3 4 5 ... 8349 8350 8351 8352 8353\n",
       "  * y                     (y) int64 0 1 2 3 4 5 ... 4724 4725 4726 4727 4728\n",
       "    nav_lat               (y, x) float32 dask.array&lt;chunksize=(700, 700), meta=np.ndarray&gt;\n",
       "    nav_lon               (y, x) float32 dask.array&lt;chunksize=(700, 700), meta=np.ndarray&gt;\n",
       "  * deptht                (deptht) float32 0.48045477 1.5587916 ... 6025.346\n",
       "    time_centered         (time_counter) datetime64[ns] dask.array&lt;chunksize=(24,), meta=np.ndarray&gt;\n",
       "  * time_counter          (time_counter) datetime64[ns] 2010-06-23T00:30:00 ... 2010-07-20T23:30:00\n",
       "Dimensions without coordinates: axis_nbounds\n",
       "Data variables:\n",
       "    deptht_bounds         (time_counter, deptht, axis_nbounds) float32 dask.array&lt;chunksize=(24, 1, 2), meta=np.ndarray&gt;\n",
       "    time_centered_bounds  (time_counter, axis_nbounds) datetime64[ns] dask.array&lt;chunksize=(24, 2), meta=np.ndarray&gt;\n",
       "    time_counter_bounds   (time_counter, axis_nbounds) datetime64[ns] dask.array&lt;chunksize=(24, 2), meta=np.ndarray&gt;\n",
       "    votemper              (time_counter, deptht, y, x) float32 dask.array&lt;chunksize=(24, 1, 700, 700), meta=np.ndarray&gt;</pre>"
      ],
      "text/plain": [
       "<xarray.Dataset>\n",
       "Dimensions:               (axis_nbounds: 2, deptht: 300, time_counter: 672, x: 8354, y: 4729)\n",
       "Coordinates:\n",
       "  * x                     (x) int64 0 1 2 3 4 5 ... 8349 8350 8351 8352 8353\n",
       "  * y                     (y) int64 0 1 2 3 4 5 ... 4724 4725 4726 4727 4728\n",
       "    nav_lat               (y, x) float32 dask.array<chunksize=(700, 700), meta=np.ndarray>\n",
       "    nav_lon               (y, x) float32 dask.array<chunksize=(700, 700), meta=np.ndarray>\n",
       "  * deptht                (deptht) float32 0.48045477 1.5587916 ... 6025.346\n",
       "    time_centered         (time_counter) datetime64[ns] dask.array<chunksize=(24,), meta=np.ndarray>\n",
       "  * time_counter          (time_counter) datetime64[ns] 2010-06-23T00:30:00 ... 2010-07-20T23:30:00\n",
       "Dimensions without coordinates: axis_nbounds\n",
       "Data variables:\n",
       "    deptht_bounds         (time_counter, deptht, axis_nbounds) float32 dask.array<chunksize=(24, 1, 2), meta=np.ndarray>\n",
       "    time_centered_bounds  (time_counter, axis_nbounds) datetime64[ns] dask.array<chunksize=(24, 2), meta=np.ndarray>\n",
       "    time_counter_bounds   (time_counter, axis_nbounds) datetime64[ns] dask.array<chunksize=(24, 2), meta=np.ndarray>\n",
       "    votemper              (time_counter, deptht, y, x) float32 dask.array<chunksize=(24, 1, 700, 700), meta=np.ndarray>"
      ]
     },
     "execution_count": 41,
     "metadata": {},
     "output_type": "execute_result"
    }
   ],
   "source": [
    "data2"
   ]
  },
  {
   "cell_type": "code",
   "execution_count": 42,
   "metadata": {},
   "outputs": [
    {
     "name": "stderr",
     "output_type": "stream",
     "text": [
      "Found latitude/longitude values, assuming latitude_longitude for projection grid_mapping variable\n"
     ]
    }
   ],
   "source": [
    "from metpy.interpolate import cross_section\n",
    "data = data2.metpy.parse_cf().squeeze()\n"
   ]
  },
  {
   "cell_type": "code",
   "execution_count": 43,
   "metadata": {},
   "outputs": [
    {
     "ename": "ValueError",
     "evalue": "Data missing required coordinate information. Verify that your data have been parsed by MetPy with proper x and y dimension coordinates and added crs coordinate of the correct projection for each variable.",
     "output_type": "error",
     "traceback": [
      "\u001b[0;31m---------------------------------------------------------------------------\u001b[0m",
      "\u001b[0;31mAttributeError\u001b[0m                            Traceback (most recent call last)",
      "\u001b[0;32m/scratch/cnt0024/hmg2840/albert7a/anaconda3/lib/python3.7/site-packages/metpy/interpolate/slices.py\u001b[0m in \u001b[0;36mcross_section\u001b[0;34m(data, start, end, steps, interp_type)\u001b[0m\n\u001b[1;32m    157\u001b[0m             \u001b[0mcrs_data\u001b[0m \u001b[0;34m=\u001b[0m \u001b[0mdata\u001b[0m\u001b[0;34m.\u001b[0m\u001b[0mmetpy\u001b[0m\u001b[0;34m.\u001b[0m\u001b[0mcartopy_crs\u001b[0m\u001b[0;34m\u001b[0m\u001b[0;34m\u001b[0m\u001b[0m\n\u001b[0;32m--> 158\u001b[0;31m             \u001b[0mx\u001b[0m \u001b[0;34m=\u001b[0m \u001b[0mdata\u001b[0m\u001b[0;34m.\u001b[0m\u001b[0mmetpy\u001b[0m\u001b[0;34m.\u001b[0m\u001b[0mx\u001b[0m\u001b[0;34m\u001b[0m\u001b[0;34m\u001b[0m\u001b[0m\n\u001b[0m\u001b[1;32m    159\u001b[0m         \u001b[0;32mexcept\u001b[0m \u001b[0mAttributeError\u001b[0m\u001b[0;34m:\u001b[0m\u001b[0;34m\u001b[0m\u001b[0;34m\u001b[0m\u001b[0m\n",
      "\u001b[0;32m/scratch/cnt0024/hmg2840/albert7a/anaconda3/lib/python3.7/site-packages/metpy/xarray.py\u001b[0m in \u001b[0;36mx\u001b[0;34m(self)\u001b[0m\n\u001b[1;32m    351\u001b[0m         \"\"\"\n\u001b[0;32m--> 352\u001b[0;31m         \u001b[0;32mreturn\u001b[0m \u001b[0mself\u001b[0m\u001b[0;34m.\u001b[0m\u001b[0m_axis\u001b[0m\u001b[0;34m(\u001b[0m\u001b[0;34m'x'\u001b[0m\u001b[0;34m)\u001b[0m\u001b[0;34m\u001b[0m\u001b[0;34m\u001b[0m\u001b[0m\n\u001b[0m\u001b[1;32m    353\u001b[0m \u001b[0;34m\u001b[0m\u001b[0m\n",
      "\u001b[0;32m/scratch/cnt0024/hmg2840/albert7a/anaconda3/lib/python3.7/site-packages/metpy/xarray.py\u001b[0m in \u001b[0;36m_axis\u001b[0;34m(self, axis)\u001b[0m\n\u001b[1;32m    289\u001b[0m             \u001b[0;32melse\u001b[0m\u001b[0;34m:\u001b[0m\u001b[0;34m\u001b[0m\u001b[0;34m\u001b[0m\u001b[0m\n\u001b[0;32m--> 290\u001b[0;31m                 \u001b[0;32mraise\u001b[0m \u001b[0mAttributeError\u001b[0m\u001b[0;34m(\u001b[0m\u001b[0maxis\u001b[0m \u001b[0;34m+\u001b[0m \u001b[0;34m' attribute is not available.'\u001b[0m\u001b[0;34m)\u001b[0m\u001b[0;34m\u001b[0m\u001b[0;34m\u001b[0m\u001b[0m\n\u001b[0m\u001b[1;32m    291\u001b[0m         \u001b[0;32melse\u001b[0m\u001b[0;34m:\u001b[0m\u001b[0;34m\u001b[0m\u001b[0;34m\u001b[0m\u001b[0m\n",
      "\u001b[0;31mAttributeError\u001b[0m: x attribute is not available.",
      "\nDuring handling of the above exception, another exception occurred:\n",
      "\u001b[0;31mValueError\u001b[0m                                Traceback (most recent call last)",
      "\u001b[0;32m<ipython-input-43-ee56a73b8a58>\u001b[0m in \u001b[0;36m<module>\u001b[0;34m\u001b[0m\n\u001b[0;32m----> 1\u001b[0;31m \u001b[0mcross\u001b[0m\u001b[0;34m=\u001b[0m\u001b[0mcross_section\u001b[0m\u001b[0;34m(\u001b[0m\u001b[0mdata\u001b[0m\u001b[0;34m,\u001b[0m \u001b[0mstart\u001b[0m\u001b[0;34m,\u001b[0m \u001b[0mend\u001b[0m\u001b[0;34m)\u001b[0m\u001b[0;34m.\u001b[0m\u001b[0mset_coords\u001b[0m\u001b[0;34m(\u001b[0m\u001b[0;34m(\u001b[0m\u001b[0;34m'nav_lat'\u001b[0m\u001b[0;34m,\u001b[0m \u001b[0;34m'nav_lon'\u001b[0m\u001b[0;34m)\u001b[0m\u001b[0;34m)\u001b[0m\u001b[0;34m\u001b[0m\u001b[0;34m\u001b[0m\u001b[0m\n\u001b[0m",
      "\u001b[0;32m/scratch/cnt0024/hmg2840/albert7a/anaconda3/lib/python3.7/site-packages/metpy/interpolate/slices.py\u001b[0m in \u001b[0;36mcross_section\u001b[0;34m(data, start, end, steps, interp_type)\u001b[0m\n\u001b[1;32m    146\u001b[0m         \u001b[0;31m# Recursively apply to dataset\u001b[0m\u001b[0;34m\u001b[0m\u001b[0;34m\u001b[0m\u001b[0;34m\u001b[0m\u001b[0m\n\u001b[1;32m    147\u001b[0m         return data.apply(cross_section, True, (start, end), steps=steps,\n\u001b[0;32m--> 148\u001b[0;31m                           interp_type=interp_type)\n\u001b[0m\u001b[1;32m    149\u001b[0m     \u001b[0;32melif\u001b[0m \u001b[0mdata\u001b[0m\u001b[0;34m.\u001b[0m\u001b[0mndim\u001b[0m \u001b[0;34m==\u001b[0m \u001b[0;36m0\u001b[0m\u001b[0;34m:\u001b[0m\u001b[0;34m\u001b[0m\u001b[0;34m\u001b[0m\u001b[0m\n\u001b[1;32m    150\u001b[0m         \u001b[0;31m# This has no dimensions, so it is likely a projection variable. In any case, there\u001b[0m\u001b[0;34m\u001b[0m\u001b[0;34m\u001b[0m\u001b[0;34m\u001b[0m\u001b[0m\n",
      "\u001b[0;32m/scratch/cnt0024/hmg2840/albert7a/anaconda3/lib/python3.7/site-packages/xarray/core/dataset.py\u001b[0m in \u001b[0;36mapply\u001b[0;34m(self, func, keep_attrs, args, **kwargs)\u001b[0m\n\u001b[1;32m   4257\u001b[0m             \u001b[0mstacklevel\u001b[0m\u001b[0;34m=\u001b[0m\u001b[0;36m2\u001b[0m\u001b[0;34m,\u001b[0m\u001b[0;34m\u001b[0m\u001b[0;34m\u001b[0m\u001b[0m\n\u001b[1;32m   4258\u001b[0m         )\n\u001b[0;32m-> 4259\u001b[0;31m         \u001b[0;32mreturn\u001b[0m \u001b[0mself\u001b[0m\u001b[0;34m.\u001b[0m\u001b[0mmap\u001b[0m\u001b[0;34m(\u001b[0m\u001b[0mfunc\u001b[0m\u001b[0;34m,\u001b[0m \u001b[0mkeep_attrs\u001b[0m\u001b[0;34m,\u001b[0m \u001b[0margs\u001b[0m\u001b[0;34m,\u001b[0m \u001b[0;34m**\u001b[0m\u001b[0mkwargs\u001b[0m\u001b[0;34m)\u001b[0m\u001b[0;34m\u001b[0m\u001b[0;34m\u001b[0m\u001b[0m\n\u001b[0m\u001b[1;32m   4260\u001b[0m \u001b[0;34m\u001b[0m\u001b[0m\n\u001b[1;32m   4261\u001b[0m     def assign(\n",
      "\u001b[0;32m/scratch/cnt0024/hmg2840/albert7a/anaconda3/lib/python3.7/site-packages/xarray/core/dataset.py\u001b[0m in \u001b[0;36mmap\u001b[0;34m(self, func, keep_attrs, args, **kwargs)\u001b[0m\n\u001b[1;32m   4231\u001b[0m         variables = {\n\u001b[1;32m   4232\u001b[0m             \u001b[0mk\u001b[0m\u001b[0;34m:\u001b[0m \u001b[0mmaybe_wrap_array\u001b[0m\u001b[0;34m(\u001b[0m\u001b[0mv\u001b[0m\u001b[0;34m,\u001b[0m \u001b[0mfunc\u001b[0m\u001b[0;34m(\u001b[0m\u001b[0mv\u001b[0m\u001b[0;34m,\u001b[0m \u001b[0;34m*\u001b[0m\u001b[0margs\u001b[0m\u001b[0;34m,\u001b[0m \u001b[0;34m**\u001b[0m\u001b[0mkwargs\u001b[0m\u001b[0;34m)\u001b[0m\u001b[0;34m)\u001b[0m\u001b[0;34m\u001b[0m\u001b[0;34m\u001b[0m\u001b[0m\n\u001b[0;32m-> 4233\u001b[0;31m             \u001b[0;32mfor\u001b[0m \u001b[0mk\u001b[0m\u001b[0;34m,\u001b[0m \u001b[0mv\u001b[0m \u001b[0;32min\u001b[0m \u001b[0mself\u001b[0m\u001b[0;34m.\u001b[0m\u001b[0mdata_vars\u001b[0m\u001b[0;34m.\u001b[0m\u001b[0mitems\u001b[0m\u001b[0;34m(\u001b[0m\u001b[0;34m)\u001b[0m\u001b[0;34m\u001b[0m\u001b[0;34m\u001b[0m\u001b[0m\n\u001b[0m\u001b[1;32m   4234\u001b[0m         }\n\u001b[1;32m   4235\u001b[0m         \u001b[0;32mif\u001b[0m \u001b[0mkeep_attrs\u001b[0m \u001b[0;32mis\u001b[0m \u001b[0;32mNone\u001b[0m\u001b[0;34m:\u001b[0m\u001b[0;34m\u001b[0m\u001b[0;34m\u001b[0m\u001b[0m\n",
      "\u001b[0;32m/scratch/cnt0024/hmg2840/albert7a/anaconda3/lib/python3.7/site-packages/xarray/core/dataset.py\u001b[0m in \u001b[0;36m<dictcomp>\u001b[0;34m(.0)\u001b[0m\n\u001b[1;32m   4231\u001b[0m         variables = {\n\u001b[1;32m   4232\u001b[0m             \u001b[0mk\u001b[0m\u001b[0;34m:\u001b[0m \u001b[0mmaybe_wrap_array\u001b[0m\u001b[0;34m(\u001b[0m\u001b[0mv\u001b[0m\u001b[0;34m,\u001b[0m \u001b[0mfunc\u001b[0m\u001b[0;34m(\u001b[0m\u001b[0mv\u001b[0m\u001b[0;34m,\u001b[0m \u001b[0;34m*\u001b[0m\u001b[0margs\u001b[0m\u001b[0;34m,\u001b[0m \u001b[0;34m**\u001b[0m\u001b[0mkwargs\u001b[0m\u001b[0;34m)\u001b[0m\u001b[0;34m)\u001b[0m\u001b[0;34m\u001b[0m\u001b[0;34m\u001b[0m\u001b[0m\n\u001b[0;32m-> 4233\u001b[0;31m             \u001b[0;32mfor\u001b[0m \u001b[0mk\u001b[0m\u001b[0;34m,\u001b[0m \u001b[0mv\u001b[0m \u001b[0;32min\u001b[0m \u001b[0mself\u001b[0m\u001b[0;34m.\u001b[0m\u001b[0mdata_vars\u001b[0m\u001b[0;34m.\u001b[0m\u001b[0mitems\u001b[0m\u001b[0;34m(\u001b[0m\u001b[0;34m)\u001b[0m\u001b[0;34m\u001b[0m\u001b[0;34m\u001b[0m\u001b[0m\n\u001b[0m\u001b[1;32m   4234\u001b[0m         }\n\u001b[1;32m   4235\u001b[0m         \u001b[0;32mif\u001b[0m \u001b[0mkeep_attrs\u001b[0m \u001b[0;32mis\u001b[0m \u001b[0;32mNone\u001b[0m\u001b[0;34m:\u001b[0m\u001b[0;34m\u001b[0m\u001b[0;34m\u001b[0m\u001b[0m\n",
      "\u001b[0;32m/scratch/cnt0024/hmg2840/albert7a/anaconda3/lib/python3.7/site-packages/metpy/interpolate/slices.py\u001b[0m in \u001b[0;36mcross_section\u001b[0;34m(data, start, end, steps, interp_type)\u001b[0m\n\u001b[1;32m    158\u001b[0m             \u001b[0mx\u001b[0m \u001b[0;34m=\u001b[0m \u001b[0mdata\u001b[0m\u001b[0;34m.\u001b[0m\u001b[0mmetpy\u001b[0m\u001b[0;34m.\u001b[0m\u001b[0mx\u001b[0m\u001b[0;34m\u001b[0m\u001b[0;34m\u001b[0m\u001b[0m\n\u001b[1;32m    159\u001b[0m         \u001b[0;32mexcept\u001b[0m \u001b[0mAttributeError\u001b[0m\u001b[0;34m:\u001b[0m\u001b[0;34m\u001b[0m\u001b[0;34m\u001b[0m\u001b[0m\n\u001b[0;32m--> 160\u001b[0;31m             raise ValueError('Data missing required coordinate information. Verify that '\n\u001b[0m\u001b[1;32m    161\u001b[0m                              \u001b[0;34m'your data have been parsed by MetPy with proper x and y '\u001b[0m\u001b[0;34m\u001b[0m\u001b[0;34m\u001b[0m\u001b[0m\n\u001b[1;32m    162\u001b[0m                              \u001b[0;34m'dimension coordinates and added crs coordinate of the '\u001b[0m\u001b[0;34m\u001b[0m\u001b[0;34m\u001b[0m\u001b[0m\n",
      "\u001b[0;31mValueError\u001b[0m: Data missing required coordinate information. Verify that your data have been parsed by MetPy with proper x and y dimension coordinates and added crs coordinate of the correct projection for each variable."
     ]
    }
   ],
   "source": [
    "cross=cross_section(data, start, end).set_coords(('nav_lat', 'nav_lon'))"
   ]
  },
  {
   "cell_type": "code",
   "execution_count": 35,
   "metadata": {},
   "outputs": [],
   "source": [
    "from metpy.cbook import get_test_data\n"
   ]
  },
  {
   "cell_type": "code",
   "execution_count": 44,
   "metadata": {},
   "outputs": [
    {
     "name": "stdout",
     "output_type": "stream",
     "text": [
      "<xarray.Dataset>\n",
      "Dimensions:              (isobaric: 29, x: 292, y: 118)\n",
      "Coordinates:\n",
      "    time                 datetime64[ns] 1987-04-04T18:00:00\n",
      "  * isobaric             (isobaric) float64 1e+03 975.0 950.0 ... 125.0 100.0\n",
      "  * y                    (y) float64 -3.087e+06 -3.054e+06 ... 7.114e+05\n",
      "  * x                    (x) float64 -3.977e+06 -3.945e+06 ... 5.47e+06\n",
      "    crs                  object Projection: lambert_conformal_conic\n",
      "Data variables:\n",
      "    Temperature          (isobaric, y, x) float32 ...\n",
      "    Lambert_Conformal    |S1 ...\n",
      "    lat                  (y, x) float64 ...\n",
      "    lon                  (y, x) float64 ...\n",
      "    u_wind               (isobaric, y, x) float32 ...\n",
      "    v_wind               (isobaric, y, x) float32 ...\n",
      "    Geopotential_height  (isobaric, y, x) float32 ...\n",
      "    Specific_humidity    (isobaric, y, x) float32 ...\n",
      "Attributes:\n",
      "    Conventions:              CF-1.0\n",
      "    Originating_center:       US National Weather Service - NCEP(WMC) (7)\n",
      "    Originating_subcenter:    The North American Regional Reanalysis (NARR) P...\n",
      "    Generating_Model:         North American Regional Reanalysis (NARR)\n",
      "    Product_Type:             Forecast/Uninitialized Analysis/Image Product\n",
      "    title:                    US National Weather Service - NCEP(WMC) North A...\n",
      "    institution:              Center US National Weather Service - NCEP(WMC) ...\n",
      "    source:                   Forecast/Uninitialized Analysis/Image Product\n",
      "    history:                  Direct read of GRIB-1 into NetCDF-Java 4 API\n",
      "    CF:feature_type:          GRID\n",
      "    file_format:              GRIB-1\n",
      "    location:                 /nomads3_data/raid2/noaaport/merged/narr/198704...\n",
      "    _CoordinateModelRunDate:  1987-04-04T18:00:00Z\n",
      "    History:                  Translated to CF-1.0 Conventions by Netcdf-Java...\n"
     ]
    }
   ],
   "source": [
    "data = xr.open_dataset(get_test_data('narr_example.nc', False))\n",
    "data = data.metpy.parse_cf().squeeze()\n",
    "print(data)\n"
   ]
  },
  {
   "cell_type": "code",
   "execution_count": 38,
   "metadata": {},
   "outputs": [],
   "source": [
    "start = (37.0, -105.0)\n",
    "end = (35.5, -65.0)"
   ]
  },
  {
   "cell_type": "code",
   "execution_count": 39,
   "metadata": {},
   "outputs": [],
   "source": [
    "cross = cross_section(data, start, end).set_coords(('lat', 'lon'))\n"
   ]
  },
  {
   "cell_type": "code",
   "execution_count": null,
   "metadata": {},
   "outputs": [],
   "source": []
  }
 ],
 "metadata": {
  "kernelspec": {
   "display_name": "Python 3",
   "language": "python",
   "name": "python3"
  },
  "language_info": {
   "codemirror_mode": {
    "name": "ipython",
    "version": 3
   },
   "file_extension": ".py",
   "mimetype": "text/x-python",
   "name": "python",
   "nbconvert_exporter": "python",
   "pygments_lexer": "ipython3",
   "version": "3.7.3"
  }
 },
 "nbformat": 4,
 "nbformat_minor": 2
}
